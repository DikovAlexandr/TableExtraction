{
 "cells": [
  {
   "cell_type": "code",
   "execution_count": 1,
   "outputs": [
    {
     "name": "stdout",
     "output_type": "stream",
     "text": [
      "Requirement already satisfied: pytesseract in c:\\users\\dsash\\anaconda3\\lib\\site-packages (0.3.10)\n",
      "Requirement already satisfied: Pillow>=8.0.0 in c:\\users\\dsash\\anaconda3\\lib\\site-packages (from pytesseract) (9.4.0)\n",
      "Requirement already satisfied: packaging>=21.3 in c:\\users\\dsash\\anaconda3\\lib\\site-packages (from pytesseract) (23.0)\n"
     ]
    }
   ],
   "source": [
    "!pip install pytesseract"
   ],
   "metadata": {
    "collapsed": false
   }
  },
  {
   "cell_type": "code",
   "execution_count": 2,
   "outputs": [
    {
     "name": "stdout",
     "output_type": "stream",
     "text": [
      "Requirement already satisfied: opencv-python in c:\\users\\dsash\\anaconda3\\lib\\site-packages (4.7.0.72)\n",
      "Requirement already satisfied: numpy>=1.17.3 in c:\\users\\dsash\\anaconda3\\lib\\site-packages (from opencv-python) (1.24.3)\n"
     ]
    }
   ],
   "source": [
    "!pip install opencv-python"
   ],
   "metadata": {
    "collapsed": false
   }
  },
  {
   "cell_type": "code",
   "execution_count": 3,
   "outputs": [
    {
     "name": "stdout",
     "output_type": "stream",
     "text": [
      "Requirement already satisfied: pymupdf in c:\\users\\dsash\\anaconda3\\lib\\site-packages (1.22.5)\n"
     ]
    }
   ],
   "source": [
    "!pip install pymupdf"
   ],
   "metadata": {
    "collapsed": false
   }
  },
  {
   "cell_type": "code",
   "execution_count": 61,
   "outputs": [],
   "source": [
    "import os\n",
    "import cv2\n",
    "import fitz\n",
    "import itertools\n",
    "import pytesseract\n",
    "import numpy as np\n",
    "import pandas as pd\n",
    "from PIL import Image"
   ],
   "metadata": {
    "collapsed": false
   }
  },
  {
   "cell_type": "code",
   "execution_count": 62,
   "outputs": [],
   "source": [
    "pytesseract.pytesseract.tesseract_cmd = r'C:\\Program Files\\Tesseract-OCR\\tesseract.exe'"
   ],
   "metadata": {
    "collapsed": false
   }
  },
  {
   "cell_type": "code",
   "execution_count": 63,
   "outputs": [],
   "source": [
    "os.environ['PATH'] += r';C:\\Program Files\\Tesseract-OCR'"
   ],
   "metadata": {
    "collapsed": false
   }
  },
  {
   "cell_type": "markdown",
   "source": [
    "Обобщим обработку на случай pdf файла на входе, сделаем пердобработку и выполним нарезку"
   ],
   "metadata": {
    "collapsed": false
   }
  },
  {
   "cell_type": "code",
   "execution_count": 273,
   "outputs": [],
   "source": [
    "class TableExtraction:\n",
    "    def __init__(self):\n",
    "        self.input_data = []\n",
    "        self.list_of_np_arrays = []\n",
    "        self.threshold_images = []\n",
    "        self.parts_boxes = []\n",
    "        self.parts_image = []\n",
    "\n",
    "    def convert_file_to_array(self, file_path):\n",
    "        file_extension = os.path.splitext(file_path)[1]\n",
    "        if file_extension == '.pdf':\n",
    "            doc = fitz.open(file_path)\n",
    "            for n in range(doc.page_count):\n",
    "                page = doc.load_page(n)\n",
    "                pix = page.get_pixmap()\n",
    "                image = np.frombuffer(pix.samples, dtype=np.uint8).reshape(pix.h, pix.w, pix.n)\n",
    "                image = np.ascontiguousarray(image[..., [2, 1, 0]])\n",
    "                self.list_of_np_arrays.append(image)\n",
    "        else:\n",
    "            raise ValueError('Unsupported file format')\n",
    "\n",
    "    def binarization(self):\n",
    "        for image in self.list_of_np_arrays:\n",
    "            gray_image = cv2.cvtColor(image, cv2.COLOR_BGR2GRAY)\n",
    "            # Применение порогового преобразования для бинаризации изображения\n",
    "            _, threshold_image = cv2.threshold(gray_image, 0, 255, cv2.THRESH_BINARY)\n",
    "            self.threshold_images.append(threshold_image)\n",
    "\n",
    "    def split_pages(self):\n",
    "        for num, image in enumerate(self.list_of_np_arrays):\n",
    "            # Преобразование изображения в оттенки серого\n",
    "            gray_image = cv2.cvtColor(image, cv2.COLOR_BGR2GRAY)\n",
    "\n",
    "            # Применение порогового преобразования для бинаризации изображения\n",
    "            ret, threshold_image = cv2.threshold(gray_image, 0, 255, cv2.THRESH_BINARY_INV + cv2.THRESH_OTSU)\n",
    "\n",
    "            # Применение морфологического преобразования для удаления шума и замыкания линий\n",
    "            kernel = np.ones((5, 5), np.uint8)\n",
    "            morph_image = cv2.morphologyEx(threshold_image, cv2.MORPH_CLOSE, kernel)\n",
    "\n",
    "            # Нахождение контуров на изображении\n",
    "            contours, hierarchy = cv2.findContours(morph_image, cv2.RETR_EXTERNAL, cv2.CHAIN_APPROX_SIMPLE)\n",
    "\n",
    "            height, width, _ = image.shape\n",
    "            # Фильтрация контуров и определение ограничивающих рамок ячеек\n",
    "            for contour in contours:\n",
    "                # Определение площади контура\n",
    "                area = cv2.contourArea(contour)\n",
    "\n",
    "                # Фильтрация контуров по площади\n",
    "                if area > 3000:\n",
    "                    # Определение ограничивающей рамки контура\n",
    "                    x, y, w, h = cv2.boundingRect(contour)\n",
    "\n",
    "                    # Добавление ограничивающей рамки в список\n",
    "                    self.parts_boxes.append((x, y, x + w, y + h))\n",
    "                    x1, y1, x2, y2 = self.parts_boxes[-1]\n",
    "                    self.parts_image.append(image[y1:y2, x1:x2])\n",
    "\n",
    "            # Вывод координат ограничивающих рамок ячеек\n",
    "            for box in self.parts_boxes:\n",
    "                x1, y1, x2, y2 = box\n",
    "                cv2.rectangle(image, (x1, y1), (x2, y2), (0, 255, 0), 2)\n",
    "\n",
    "    def extract(self):\n",
    "        for num, image in enumerate(self.parts_image):\n",
    "\n",
    "            # Преобразование изображения в оттенки серого\n",
    "            gray_image = cv2.cvtColor(image, cv2.COLOR_BGR2GRAY)\n",
    "\n",
    "            # Получение ограничивающих рамок символов\n",
    "            custom_config = r'--oem 1 --psm 1 -l rus'\n",
    "            boxes = pytesseract.image_to_boxes(gray_image, config=custom_config)\n",
    "\n",
    "            # Разделение строки на список строк\n",
    "            box_lines = boxes.strip().split('\\n')\n",
    "\n",
    "            # Преобразование каждой строки в список\n",
    "            boxes_list = [line.split() for line in box_lines]\n",
    "\n",
    "            # Так как cv2 и tesseract используют разные системы координат\n",
    "            height, width, _ = image.shape\n",
    "\n",
    "            # Список границ таблицы\n",
    "            borders = []\n",
    "\n",
    "            # Вывод ограничивающих рамок символов\n",
    "            if boxes_list[0] == []:\n",
    "                continue\n",
    "            for box in boxes_list:\n",
    "                if box[0] == '~':\n",
    "                    x, y, w, h = int(box[1]), int(box[2]), int(box[3]), int(box[4])\n",
    "                    borders.append([x, y, w, h])\n",
    "\n",
    "            if len(borders) > 1:\n",
    "                # Находим все вертикальные и горизонтальные линии каркаса таблицы\n",
    "                vertical_lines = []\n",
    "                horizontal_lines = []\n",
    "\n",
    "                # Параметры допуска при котором считаем что линии ровные и пересекаются\n",
    "                epsilon = 5\n",
    "\n",
    "                for x1, y1, x2, y2 in borders:\n",
    "                    if abs(x1 - x2) < epsilon:  # Вертикальная линия\n",
    "                        vertical_lines.append((x1, y1, x2, y2))\n",
    "                    elif abs(y1 - y2) < epsilon:  # Горизонтальная линия\n",
    "                        horizontal_lines.append((x1, y1, x2, y2))\n",
    "\n",
    "                # Находим координаты узлов таблицы\n",
    "                table_nodes = []\n",
    "                for v_line, h_line in itertools.product(vertical_lines, horizontal_lines):\n",
    "                    x, y = v_line[0], h_line[1]\n",
    "                    cv2.rectangle(image, (x, height - y), (x + 3, height - y + 3), (0, 0, 255), 1)\n",
    "                    table_nodes.append((x, y))\n",
    "\n",
    "                if table_nodes:\n",
    "                    table_nodes = np.array(table_nodes)\n",
    "\n",
    "                    # Замена координат, отличающихся менее чем на epsilon\n",
    "                    rounded_nodes = np.round(table_nodes / epsilon) * epsilon\n",
    "\n",
    "                    # Подсчет уникальных значений координат x и y\n",
    "                    unique_x = np.unique(rounded_nodes[:, 0])\n",
    "                    unique_y = np.unique(rounded_nodes[:, 1])\n",
    "\n",
    "                    # Определение числа строк и столбцов таблицы\n",
    "                    num_rows = len(unique_y) - 1\n",
    "                    num_columns = len(unique_x) - 1\n",
    "\n",
    "                    # Отсортируем узлы сначала по оси x, потом по оси y\n",
    "                    nodes_sorted_x = sorted(table_nodes, key=lambda x: (x[0], x[1]))\n",
    "\n",
    "                    # Создадим список прямоугольников\n",
    "                    rectangles = []\n",
    "\n",
    "                    # Пройдем по узлам и создадим прямоугольники\n",
    "                    for i in range(len(nodes_sorted_x) - 1):\n",
    "                        current_node = nodes_sorted_x[i]\n",
    "                        if nodes_sorted_x[i + 1][0] == current_node[0]:\n",
    "                            next_y_node = nodes_sorted_x[i + 1]\n",
    "                        else:\n",
    "                            continue\n",
    "                        # Найдем узлы следующие по оси y для текущих узлов\n",
    "                        next_x_nodes = [node for node in nodes_sorted_x if node[1] == current_node[1] and node[0] > current_node[0]]\n",
    "                        if next_x_nodes:\n",
    "                            next_x_node = min(next_x_nodes, key=lambda x: x[0])\n",
    "                            opposite_node = (next_x_node[0], next_y_node[1])\n",
    "                            # Построим прямоугольник по найденным узлам\n",
    "                            rectangle = ((current_node[0], current_node[1]), (opposite_node[0], opposite_node[1]))\n",
    "                            rectangles.append(rectangle)\n",
    "                        else:\n",
    "                            continue\n",
    "\n",
    "                    rectangles = sorted(rectangles, key=lambda x: (- x[0][1], x[0][0]))\n",
    "                    # Создание пустого массива для хранения данных таблицы\n",
    "                    table_data = [['' for _ in range(num_columns)] for _ in range(num_rows)]\n",
    "\n",
    "                    # Обход прямоугольников ячеек таблицы\n",
    "                    for i, rectangle in enumerate(rectangles):\n",
    "                        # Извлечение координат углов прямоугольника\n",
    "                        x1, y1 = rectangle[0]\n",
    "                        x2, y2 = rectangle[1]\n",
    "\n",
    "                        # Обрезание изображения по границам ячейки\n",
    "                        cell_image = image[max(0,(height - y2) - 2):min(height,(height - y1) + 2), max(0, x1 - 2):min(width, x2 + 2)]\n",
    "\n",
    "                        if cell_image.shape[0] > 10 and cell_image.shape[1] > 10:\n",
    "\n",
    "                            # Распознавание текста с помощью Tesseract\n",
    "                            custom_config = r'--oem 1 --psm 1 -l rus'\n",
    "                            text = pytesseract.image_to_string(cell_image, config=custom_config).replace('\\n', ' ')\n",
    "\n",
    "                            # Определение положения ячейки в таблице\n",
    "                            row = i // num_columns\n",
    "                            column = i % num_columns\n",
    "\n",
    "                            # Добавление данных ячейки\n",
    "                            if row < num_rows and column < num_columns:\n",
    "                                table_data[row][column] = text\n",
    "\n",
    "                    # Вывод полученной таблицы\n",
    "                    df = pd.DataFrame(table_data)\n",
    "                    print(table_data)\n",
    "                    # Сохранение DataFrame в формате CSV\n",
    "                    df.to_csv(f'result/table_{num}.csv', index=False, header=False)"
   ],
   "metadata": {
    "collapsed": false
   }
  },
  {
   "cell_type": "code",
   "execution_count": 275,
   "outputs": [
    {
     "name": "stdout",
     "output_type": "stream",
     "text": [
      "[[\"'Облучаемая труппа населения  \", 'Коэффициент риска злокачественных новообразований,  х10-2 Зв-1  ', 'Коэффициент риска ‘наследственных  эффектов, х10-2 Зв-1  ', '‘Сумма, х10-2 Зв-1  '], ['Все население  ', '5,5  ', '0,2  ', '5,7  '], ['Взрослые  ', '4,1  ', '0,1  ', '4,2  ']]\n",
      "[['', '', ''], ['', '', ''], ['', 'о сдлаоума ВС ии, а  ', ''], ['', '', '']]\n",
      "[['', '', '', '', '', '', ''], ['', 'Зарегистрированные преступления.  ', '2015  ', '2016  ', '2017  ', '2015  ', ''], ['', '', '', '', '288  19  ', '500  00  ', ''], ['', '', '', '', '', '1,00.  ', ''], ['', 'Разбойные нападения  ', '', '', '', '', ''], ['', 'Мошенничество (ст.159 — ст. 159 пр.6)  ', '56.  ', '67.  ', '79.  ', '11.00  ', ''], ['', '', '', '', '1.00  ', '0.00  ', ''], ['', 'Умыш. уничтожение или поврежден. чужого имущества.  ', '12  ', '14  ', '14  ', '', '']]\n",
      "[['', '', 'овка регионов)  ', '', ''], ['', 'Таблица 2 бон} ада промышленности  пыбросоь в атиостферу  ', '', '', ''], ['', '', '', '', ''], ['', '', '', '', ''], ['', '', '', '', ''], ['', '', 'И аш И аш  ', '', ''], ['', '|] ', '', '', ''], ['', '', '', '', ''], ['', '', '', '', ''], ['р лвуи армитчоа я:  ', '', '', '', ''], ['', 'Калинингралская |  Морловия. Чухашиы, Датестаи.  Кобаранно- Балкария, Удмуртия  ', '', '', ''], ['и па 45 5  ', '| Республика а  ', 'Калужская, Смоленови, | Тута, Нижегоролская, | Челябинекы, || Кировская оба |, Красмозарскил,  Спиропольский, Хабаровский кра  ', '', '']]\n"
     ]
    }
   ],
   "source": [
    "extractor = TableExtraction()\n",
    "extractor.convert_file_to_array('test.pdf')\n",
    "extractor.binarization()\n",
    "extractor.split_pages()\n",
    "extractor.extract()"
   ],
   "metadata": {
    "collapsed": false
   }
  },
  {
   "cell_type": "code",
   "execution_count": 228,
   "outputs": [
    {
     "name": "stdout",
     "output_type": "stream",
     "text": [
      "(294, 303, 3)\n"
     ]
    }
   ],
   "source": [
    "def convert_file_to_array(file_path):\n",
    "    file_extension = os.path.splitext(file_path)[1]\n",
    "    if file_extension == '.pdf':\n",
    "        doc = fitz.open(file_path)\n",
    "        list_of_np_arrays = []\n",
    "        for n in range(doc.page_count):\n",
    "            page = doc.load_page(n)\n",
    "            pix = page.get_pixmap()\n",
    "            image = np.frombuffer(pix.samples, dtype=np.uint8).reshape(pix.h, pix.w, pix.n)\n",
    "            image = np.ascontiguousarray(image[..., [2, 1, 0]])\n",
    "            list_of_np_arrays.append(image)\n",
    "        return list_of_np_arrays\n",
    "    else:\n",
    "        raise ValueError('Unsupported file format')\n",
    "\n",
    "\n",
    "# Пример использования\n",
    "file_path = 'table.pdf'\n",
    "file_array = convert_file_to_array(file_path)\n",
    "\n",
    "print(file_array[0].shape)"
   ],
   "metadata": {
    "collapsed": false
   }
  },
  {
   "cell_type": "code",
   "execution_count": 70,
   "outputs": [],
   "source": [
    "# Загрузка изображения\n",
    "image = cv2.imread('draft/image.png')\n",
    "\n",
    "# Преобразование изображения в оттенки серого\n",
    "gray_image = cv2.cvtColor(image, cv2.COLOR_BGR2GRAY)\n",
    "\n",
    "# Получение ограничивающих рамок символов\n",
    "custom_config = r'--oem 1 --psm 1 -l rus'\n",
    "boxes = pytesseract.image_to_boxes(gray_image, config=custom_config)\n",
    "\n",
    "# Разделение строки на список строк\n",
    "box_lines = boxes.strip().split('\\n')\n",
    "\n",
    "# Преобразование каждой строки в список\n",
    "boxes_list = [line.split() for line in box_lines]\n",
    "\n",
    "# Так как cv2 и tesseract используют разные системы координат\n",
    "height, width, _ = image.shape\n",
    "\n",
    "# Список границ таблицы\n",
    "borders = []\n",
    "\n",
    "# Вывод ограничивающих рамок символов\n",
    "for box in boxes_list:\n",
    "    if box[0] == '~':\n",
    "        x, y, w, h = int(box[1]), int(box[2]), int(box[3]), int(box[4])\n",
    "        borders.append([x, y, w, h])\n",
    "        cv2.rectangle(image, (x, height - y), (w, height - h), (0, 255, 255), 1)\n",
    "\n",
    "# # Отображение изображения с ограничивающими рамками символов\n",
    "# cv2.imshow('Image with Character Boxes', image)\n",
    "# cv2.waitKey(0)\n",
    "# cv2.destroyAllWindows()"
   ],
   "metadata": {
    "collapsed": false
   }
  },
  {
   "cell_type": "code",
   "execution_count": 71,
   "outputs": [],
   "source": [
    "# Находим все вертикальные и горизонтальные линии каркаса таблицы\n",
    "vertical_lines = []\n",
    "horizontal_lines = []\n",
    "\n",
    "# Параметры допуска при котором считаем что линии ровные и пересекаются\n",
    "epsilon = 3\n",
    "\n",
    "for x1, y1, x2, y2 in borders:\n",
    "    if abs(x1 - x2) < epsilon:  # Вертикальная линия\n",
    "        vertical_lines.append((x1, y1, x2, y2))\n",
    "    elif abs(y1 - y2) < epsilon:  # Горизонтальная линия\n",
    "        horizontal_lines.append((x1, y1, x2, y2))\n",
    "\n",
    "# Находим координаты узлов таблицы\n",
    "table_nodes = []\n",
    "for v_line, h_line in itertools.product(vertical_lines, horizontal_lines):\n",
    "    x, y = v_line[0], h_line[1]\n",
    "    # cv2.rectangle(image, (x, height - y), (x + 3, height - y + 3), (0, 0, 255), 1)\n",
    "    table_nodes.append((x, y))\n",
    "\n",
    "# # Отображение изображения\n",
    "# cv2.imshow('Image', image)\n",
    "# cv2.waitKey(0)\n",
    "# cv2.destroyAllWindows()"
   ],
   "metadata": {
    "collapsed": false
   }
  },
  {
   "cell_type": "code",
   "execution_count": 324,
   "outputs": [
    {
     "name": "stdout",
     "output_type": "stream",
     "text": [
      "[((8, 8), (177, 37)), ((8, 37), (177, 65)), ((8, 65), (177, 178)), ((177, 8), (424, 37)), ((177, 37), (424, 65)), ((177, 65), (424, 178)), ((424, 8), (670, 37)), ((424, 37), (670, 65)), ((424, 65), (670, 178)), ((670, 8), (839, 37)), ((670, 37), (839, 65)), ((670, 65), (839, 178))]\n"
     ]
    }
   ],
   "source": [
    "# Параметры epsilon и table_nodes\n",
    "epsilon = 5\n",
    "table_nodes = np.array(table_nodes)\n",
    "\n",
    "# Замена координат, отличающихся менее чем на epsilon, на среднее значение\n",
    "rounded_nodes = np.round(table_nodes / epsilon) * epsilon\n",
    "\n",
    "# Подсчет уникальных значений координат x и y\n",
    "unique_x = np.unique(rounded_nodes[:, 0])\n",
    "unique_y = np.unique(rounded_nodes[:, 1])\n",
    "\n",
    "# Определение числа строк и столбцов таблицы\n",
    "num_rows = len(unique_y) - 1\n",
    "num_columns = len(unique_x) - 1\n",
    "\n",
    "# Отсортируем узлы по оси x\n",
    "nodes_sorted_x = sorted(table_nodes, key=lambda x: (x[0], x[1]))\n",
    "\n",
    "# Создадим список прямоугольников\n",
    "rectangles = []\n",
    "\n",
    "# Пройдем по узлам и создадим прямоугольники\n",
    "for i in range(len(nodes_sorted_x) - 1):\n",
    "    current_node = nodes_sorted_x[i]\n",
    "    if nodes_sorted_x[i + 1][0] == current_node[0]:\n",
    "        next_y_node = nodes_sorted_x[i + 1]\n",
    "    else:\n",
    "        continue\n",
    "    # Найдем узлы следующие по оси y для текущих узлов\n",
    "    next_x_nodes = [node for node in nodes_sorted_x if node[1] == current_node[1] and node[0] > current_node[0]]\n",
    "    if next_x_nodes:\n",
    "        next_x_node = min(next_x_nodes, key=lambda x: x[0])\n",
    "        opposite_node = (next_x_node[0], next_y_node[1])\n",
    "        # Построим прямоугольник по найденным узлам\n",
    "        rectangle = ((current_node[0], current_node[1]), (opposite_node[0], opposite_node[1]))\n",
    "        rectangles.append(rectangle)\n",
    "        # cv2.rectangle(image, (current_node[0] + 2, height - current_node[1] + 2), (opposite_node[0] - 2, height - opposite_node[1] - 2), (255, 255, 0), 1)\n",
    "    else:\n",
    "        continue\n",
    "\n",
    "rectangles = sorted(rectangles, key=lambda x: (- x[0][1], x[0][0]))\n",
    "# Создание пустого массива для хранения данных таблицы\n",
    "table_data = [['' for _ in range(num_columns)] for _ in range(num_rows)]\n",
    "\n",
    "# Обход прямоугольников ячеек таблицы\n",
    "for i, rectangle in enumerate(rectangles):\n",
    "    # Извлечение координат углов прямоугольника\n",
    "    x1, y1 = rectangle[0]\n",
    "    x2, y2 = rectangle[1]\n",
    "\n",
    "    # Обрезание изображения по границам ячейки\n",
    "    cell_image = image[(height - y2):(height - y1), x1:x2]\n",
    "\n",
    "    # Распознавание текста с помощью Tesseract\n",
    "    custom_config = r'--oem 1 --psm 1 -l rus'\n",
    "    text = pytesseract.image_to_string(cell_image, config=custom_config).replace('\\n', ' ')\n",
    "\n",
    "    # Определение положения ячейки в таблице\n",
    "    row = i // num_columns\n",
    "    column = i % num_columns\n",
    "\n",
    "    # Добавление данных ячейки\n",
    "    table_data[row][column] = text\n",
    "\n",
    "# Вывод полученной таблицы\n",
    "df = pd.DataFrame(table_data)\n",
    "# Сохранение DataFrame в формате CSV\n",
    "df.to_csv('table.csv', index=False, header=False)"
   ],
   "metadata": {
    "collapsed": false
   }
  },
  {
   "cell_type": "code",
   "execution_count": 212,
   "outputs": [],
   "source": [
    "import cv2\n",
    "import numpy as np\n",
    "\n",
    "# Загрузка изображения\n",
    "image = file_array[0]\n",
    "\n",
    "# Преобразование изображения в оттенки серого\n",
    "gray_image = cv2.cvtColor(image, cv2.COLOR_BGR2GRAY)\n",
    "\n",
    "# Применение порогового преобразования для бинаризации изображения\n",
    "ret, threshold_image = cv2.threshold(gray_image, 0, 255, cv2.THRESH_BINARY_INV + cv2.THRESH_OTSU)\n",
    "\n",
    "# Применение морфологического преобразования для удаления шума и замыкания линий\n",
    "kernel = np.ones((5, 5), np.uint8)\n",
    "morph_image = cv2.morphologyEx(threshold_image, cv2.MORPH_CLOSE, kernel)\n",
    "\n",
    "# Нахождение контуров на изображении\n",
    "contours, hierarchy = cv2.findContours(morph_image, cv2.RETR_EXTERNAL, cv2.CHAIN_APPROX_SIMPLE)\n",
    "\n",
    "# Создание списка координат ограничивающих рамок ячеек\n",
    "cell_boxes = []\n",
    "\n",
    "# Фильтрация контуров и определение ограничивающих рамок ячеек\n",
    "for contour in contours:\n",
    "    # Определение площади контура\n",
    "    area = cv2.contourArea(contour)\n",
    "\n",
    "    # Фильтрация контуров по площади\n",
    "    if area > 3000:\n",
    "        # Определение ограничивающей рамки контура\n",
    "        x, y, w, h = cv2.boundingRect(contour)\n",
    "\n",
    "        # Добавление ограничивающей рамки в список\n",
    "        cell_boxes.append((x, y, x + w, y + h))\n",
    "\n",
    "# Вывод координат ограничивающих рамок ячеек\n",
    "for box in cell_boxes:\n",
    "    x1, y1, x2, y2 = box\n",
    "    cv2.rectangle(image, (x1, y1), (x2, y2), (0, 255, 0), 2)\n",
    "\n",
    "# Отображение изображения с выделенными ячейками\n",
    "cv2.imshow('Image with Cells', image)\n",
    "cv2.waitKey(0)\n",
    "cv2.destroyAllWindows()"
   ],
   "metadata": {
    "collapsed": false
   }
  }
 ],
 "metadata": {
  "kernelspec": {
   "display_name": "Python 3",
   "language": "python",
   "name": "python3"
  },
  "language_info": {
   "codemirror_mode": {
    "name": "ipython",
    "version": 2
   },
   "file_extension": ".py",
   "mimetype": "text/x-python",
   "name": "python",
   "nbconvert_exporter": "python",
   "pygments_lexer": "ipython2",
   "version": "2.7.6"
  }
 },
 "nbformat": 4,
 "nbformat_minor": 0
}
