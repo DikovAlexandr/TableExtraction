{
 "cells": [
  {
   "cell_type": "code",
   "execution_count": 6,
   "outputs": [
    {
     "name": "stdout",
     "output_type": "stream",
     "text": [
      "Requirement already satisfied: pytesseract in c:\\users\\dsash\\anaconda3\\lib\\site-packages (0.3.10)\n",
      "Requirement already satisfied: Pillow>=8.0.0 in c:\\users\\dsash\\anaconda3\\lib\\site-packages (from pytesseract) (9.4.0)\n",
      "Requirement already satisfied: packaging>=21.3 in c:\\users\\dsash\\anaconda3\\lib\\site-packages (from pytesseract) (23.0)\n"
     ]
    }
   ],
   "source": [
    "!pip install pytesseract"
   ],
   "metadata": {
    "collapsed": false
   }
  },
  {
   "cell_type": "code",
   "execution_count": 7,
   "outputs": [
    {
     "name": "stdout",
     "output_type": "stream",
     "text": [
      "Requirement already satisfied: opencv-python in c:\\users\\dsash\\anaconda3\\lib\\site-packages (4.7.0.72)\n",
      "Requirement already satisfied: numpy>=1.17.0 in c:\\users\\dsash\\anaconda3\\lib\\site-packages (from opencv-python) (1.24.3)\n"
     ]
    }
   ],
   "source": [
    "!pip install opencv-python"
   ],
   "metadata": {
    "collapsed": false
   }
  },
  {
   "cell_type": "code",
   "execution_count": 8,
   "outputs": [
    {
     "name": "stdout",
     "output_type": "stream",
     "text": [
      "Requirement already satisfied: pymupdf in c:\\users\\dsash\\anaconda3\\lib\\site-packages (1.22.5)\n"
     ]
    }
   ],
   "source": [
    "!pip install pymupdf"
   ],
   "metadata": {
    "collapsed": false
   }
  },
  {
   "cell_type": "code",
   "execution_count": 9,
   "outputs": [],
   "source": [
    "import os\n",
    "import cv2\n",
    "import numpy as np\n",
    "import pandas as pd\n",
    "import fitz\n",
    "import pytesseract\n",
    "from PIL import Image"
   ],
   "metadata": {
    "collapsed": false
   }
  },
  {
   "cell_type": "code",
   "execution_count": 10,
   "outputs": [],
   "source": [
    "pytesseract.pytesseract.tesseract_cmd = r'C:\\Program Files\\Tesseract-OCR\\tesseract.exe'"
   ],
   "metadata": {
    "collapsed": false
   }
  },
  {
   "cell_type": "code",
   "execution_count": 11,
   "outputs": [],
   "source": [
    "os.environ['PATH'] += r';C:\\Program Files\\Tesseract-OCR'"
   ],
   "metadata": {
    "collapsed": false
   }
  },
  {
   "cell_type": "code",
   "execution_count": 12,
   "outputs": [
    {
     "name": "stdout",
     "output_type": "stream",
     "text": [
      "Облучаемая Коэффициент риска Коэффициент риска Сумма,\n",
      "группа злокачественных наследственных х10-2 Зв-1\n",
      "населения новообразований, эффектов,\n",
      "х10-2 Зв-1 х10-2 Зв-1\n",
      "Все население 5,5 0,2 5,7\n",
      "Взрослые 4,1 0,1 4,2\n",
      "\n",
      "\n"
     ]
    }
   ],
   "source": [
    "# Test image upload\n",
    "image_path = 'image.png'\n",
    "image = Image.open(image_path)\n",
    "\n",
    "# Russian language support\n",
    "custom_config = r'--oem 1 --psm 1 -l rus'  # rus - код языка русского\n",
    "\n",
    "# Direct version of extraction\n",
    "table_text = pytesseract.image_to_string(image, config=custom_config)\n",
    "print(table_text)"
   ],
   "metadata": {
    "collapsed": false
   }
  },
  {
   "cell_type": "code",
   "execution_count": 13,
   "outputs": [
    {
     "name": "stdout",
     "output_type": "stream",
     "text": [
      "                                                   0\n",
      "0  Облучаемая Коэффициент риска Коэффициент риска...\n",
      "1   группа злокачественных наследственных х10-2 Зв-1\n",
      "2               населения новообразований, эффектов,\n",
      "3                              х10-2 Зв-1 х10-2 Зв-1\n",
      "4                          Все население 5,5 0,2 5,7\n",
      "5                               Взрослые 4,1 0,1 4,2\n",
      "6                                                   \n",
      "7                                                   \n"
     ]
    }
   ],
   "source": [
    "# Split to rows\n",
    "rows = table_text.split('\\n')\n",
    "\n",
    "# Split to elements\n",
    "table_data = [row.split('\\t') for row in rows]\n",
    "\n",
    "# Make a dataframe\n",
    "df = pd.DataFrame(table_data)\n",
    "print(df)"
   ],
   "metadata": {
    "collapsed": false
   }
  },
  {
   "cell_type": "code",
   "execution_count": 99,
   "outputs": [],
   "source": [
    "# In case of .pdf file\n",
    "pages = []\n",
    "file = 'test.pdf'\n",
    "doc = fitz.open(file)\n",
    "for n in range(doc.page_count-1):\n",
    "    page = doc.load_page(n)\n",
    "    pix = page.get_pixmap()\n",
    "    image = np.frombuffer(pix.samples,\n",
    "                          dtype=np.uint8).reshape(pix.h, pix.w, pix.n)\n",
    "    image = np.ascontiguousarray(image[..., [2, 1, 0]])\n",
    "    pages.append(image)"
   ],
   "metadata": {
    "collapsed": false
   }
  },
  {
   "cell_type": "code",
   "execution_count": 100,
   "outputs": [
    {
     "name": "stdout",
     "output_type": "stream",
     "text": [
      "<class 'numpy.ndarray'>\n"
     ]
    }
   ],
   "source": [
    "# Remove color info\n",
    "gray_image= image[:,:,0]\n",
    "print(type(gray_image))"
   ],
   "metadata": {
    "collapsed": false
   }
  },
  {
   "cell_type": "code",
   "execution_count": 78,
   "outputs": [],
   "source": [
    "# Thresholding image, ret = value, thresh_value = new binary image\n",
    "ret, thresh_value = cv2.threshold(gray_image,180,255,cv2.THRESH_BINARY_INV)"
   ],
   "metadata": {
    "collapsed": false
   }
  },
  {
   "cell_type": "code",
   "execution_count": 79,
   "outputs": [],
   "source": [
    "# Dilating image some kind of binary blur\n",
    "kernel = np.ones((3,3),np.uint8)\n",
    "dilated_value = cv2.dilate(thresh_value,kernel, iterations = 1)"
   ],
   "metadata": {
    "collapsed": false
   }
  },
  {
   "cell_type": "code",
   "execution_count": 80,
   "outputs": [],
   "source": [
    "# Looking for contours, get list of contours and its hierarchy structure\n",
    "contours, hierarchy = cv2.findContours(dilated_value,cv2.RETR_TREE,cv2.CHAIN_APPROX_SIMPLE)"
   ],
   "metadata": {
    "collapsed": false
   }
  },
  {
   "cell_type": "code",
   "execution_count": 81,
   "outputs": [
    {
     "data": {
      "text/plain": "[(87, 82, 513, 176),\n (89, 225, 283, 31),\n (288, 232, 39, 10),\n (226, 232, 60, 10),\n (204, 232, 21, 8),\n (133, 232, 70, 10),\n (94, 229, 37, 13),\n (518, 209, 57, 15),\n (470, 209, 46, 15),\n (421, 209, 47, 15),\n (373, 209, 47, 15),\n (89, 209, 283, 15),\n (94, 212, 86, 10),\n (518, 193, 57, 15),\n (470, 193, 46, 15),\n (421, 193, 47, 15),\n (373, 193, 47, 15),\n (89, 193, 283, 15),\n (518, 176, 57, 16),\n (470, 176, 46, 16),\n (421, 176, 47, 16),\n (373, 176, 47, 16),\n (89, 176, 283, 16),\n (94, 180, 57, 10),\n (518, 160, 57, 15),\n (470, 160, 46, 15),\n (421, 160, 47, 15),\n (373, 160, 47, 15),\n (89, 160, 283, 15),\n (518, 144, 57, 15),\n (470, 144, 46, 15),\n (421, 144, 47, 15),\n (373, 144, 47, 15),\n (89, 144, 283, 15),\n (518, 128, 57, 15),\n (470, 128, 46, 15),\n (421, 128, 47, 15),\n (373, 128, 47, 15),\n (89, 128, 283, 15),\n (110, 120, 33, 7),\n (518, 111, 57, 16),\n (535, 114, 25, 11),\n (470, 111, 46, 16),\n (481, 114, 25, 11),\n (421, 111, 47, 16),\n (433, 114, 26, 11),\n (373, 111, 47, 16),\n (385, 114, 26, 11),\n (89, 111, 283, 16),\n (518, 84, 57, 26),\n (89, 84, 283, 26)]"
     },
     "execution_count": 81,
     "metadata": {},
     "output_type": "execute_result"
    }
   ],
   "source": [
    "# Extracting coordinates and filtering them empirically\n",
    "coordinates = [] # our target list of contours\n",
    "for contour in contours:\n",
    "    x,y,w,h = cv2.boundingRect(contour) # return bounding box of contour\n",
    "    if (h>20 or w>20) and (w/h > 2 or h/w > 2):\n",
    "        coordinates.append((x,y,w,h))\n",
    "\n",
    "coordinates"
   ],
   "metadata": {
    "collapsed": false
   }
  },
  {
   "cell_type": "markdown",
   "source": [
    "Попытка удалить символы с картинки"
   ],
   "metadata": {
    "collapsed": false
   }
  },
  {
   "cell_type": "code",
   "execution_count": 101,
   "outputs": [],
   "source": [
    "# Thresholding image, ret = value, thresh_value = new binary image\n",
    "ret, thresh_value = cv2.threshold(gray_image,180,255,cv2.THRESH_BINARY_INV)"
   ],
   "metadata": {
    "collapsed": false
   }
  },
  {
   "cell_type": "code",
   "execution_count": 108,
   "outputs": [
    {
     "data": {
      "text/plain": "[(594, 218, 5, 3),\n (594, 186, 5, 3),\n (590, 132, 10, 9),\n (588, 114, 12, 11),\n (564, 253, 3, 3),\n (505, 252, 5, 4),\n (457, 252, 5, 4),\n (567, 248, 3, 3),\n (561, 248, 3, 3),\n (138, 248, 3, 3),\n (131, 248, 6, 3),\n (518, 225, 57, 31),\n (470, 225, 46, 31),\n (421, 225, 47, 31),\n (373, 225, 47, 31),\n (288, 232, 39, 10),\n (294, 237, 3, 3),\n (226, 232, 60, 10),\n (263, 234, 6, 3),\n (204, 232, 21, 8),\n (133, 232, 70, 10),\n (158, 235, 3, 3),\n (94, 229, 37, 13),\n (100, 234, 4, 4),\n (564, 221, 3, 3),\n (505, 221, 3, 3),\n (567, 216, 3, 3),\n (561, 216, 3, 3),\n (552, 216, 3, 3),\n (508, 216, 3, 3),\n (502, 216, 3, 3),\n (518, 209, 57, 15),\n (470, 209, 46, 15),\n (421, 209, 47, 15),\n (373, 209, 47, 15),\n (94, 212, 86, 10),\n (165, 217, 3, 3),\n (161, 217, 3, 3),\n (145, 217, 4, 3),\n (134, 217, 3, 3),\n (564, 205, 3, 3),\n (409, 205, 3, 3),\n (281, 205, 3, 3),\n (212, 205, 3, 3),\n (190, 205, 3, 3),\n (172, 205, 3, 3),\n (97, 205, 5, 3),\n (504, 204, 3, 4),\n (258, 204, 4, 4),\n (145, 203, 4, 5),\n (260, 202, 3, 3),\n (161, 202, 3, 3),\n (291, 201, 3, 3),\n (237, 201, 3, 3),\n (165, 201, 3, 3),\n (567, 200, 3, 3),\n (561, 200, 3, 3),\n (457, 199, 5, 9),\n (104, 198, 3, 3),\n (518, 193, 57, 15),\n (470, 193, 46, 15),\n (421, 193, 47, 15),\n (373, 193, 47, 15),\n (222, 201, 8, 3),\n (563, 189, 4, 3),\n (177, 189, 4, 3),\n (567, 184, 3, 3),\n (561, 184, 3, 3),\n (518, 176, 57, 16),\n (470, 176, 46, 16),\n (421, 176, 47, 16),\n (373, 176, 47, 16),\n (410, 180, 7, 10),\n (94, 180, 57, 10),\n (564, 172, 3, 3),\n (117, 172, 4, 3),\n (106, 172, 3, 3),\n (567, 167, 3, 3),\n (561, 167, 3, 3),\n (118, 165, 3, 3),\n (97, 165, 5, 10),\n (518, 160, 57, 15),\n (470, 160, 46, 15),\n (421, 160, 47, 15),\n (373, 160, 47, 15),\n (403, 156, 3, 3),\n (505, 155, 5, 4),\n (499, 154, 3, 3),\n (458, 154, 4, 3),\n (410, 154, 3, 3),\n (567, 152, 3, 3),\n (561, 152, 3, 3),\n (552, 152, 3, 3),\n (406, 152, 3, 3),\n (100, 150, 3, 5),\n (518, 144, 57, 15),\n (470, 144, 46, 15),\n (421, 144, 47, 15),\n (373, 144, 47, 15),\n (505, 140, 3, 3),\n (457, 140, 3, 3),\n (408, 140, 4, 3),\n (402, 140, 3, 3),\n (204, 140, 10, 3),\n (450, 139, 6, 4),\n (151, 138, 3, 4),\n (229, 136, 3, 3),\n (225, 136, 3, 3),\n (174, 136, 3, 3),\n (518, 128, 57, 15),\n (470, 128, 46, 15),\n (421, 128, 47, 15),\n (373, 128, 47, 15),\n (146, 124, 10, 3),\n (242, 121, 3, 3),\n (241, 120, 3, 3),\n (223, 120, 20, 7),\n (134, 120, 5, 3),\n (110, 120, 33, 7),\n (518, 111, 57, 16),\n (535, 114, 25, 11),\n (552, 119, 4, 3),\n (470, 111, 46, 16),\n (481, 114, 25, 11),\n (421, 111, 47, 16),\n (433, 114, 26, 11),\n (373, 111, 47, 16),\n (385, 114, 26, 11),\n (402, 119, 4, 3),\n (518, 84, 57, 26),\n (470, 84, 46, 26),\n (421, 84, 47, 26),\n (373, 84, 47, 26)]"
     },
     "execution_count": 108,
     "metadata": {},
     "output_type": "execute_result"
    }
   ],
   "source": [
    "# Looking for contours, get list of contours and its hierarchy structure\n",
    "contours, hierarchy = cv2.findContours(dilated_value,cv2.RETR_TREE,cv2.CHAIN_APPROX_SIMPLE)\n",
    "# Create a mask image for the characters\n",
    "mask = np.ones_like(gray_image, dtype=np.uint8) * 255\n",
    "\n",
    "# Extracting coordinates and filtering them empirically\n",
    "coordinates = [] # our target list of contours\n",
    "for contour in contours:\n",
    "    x,y,w,h = cv2.boundingRect(contour) # return bounding box of contour\n",
    "    if h<100 and w<100:\n",
    "        coordinates.append((x,y,w,h))\n",
    "\n",
    "coordinates"
   ],
   "metadata": {
    "collapsed": false
   }
  },
  {
   "cell_type": "code",
   "execution_count": 109,
   "outputs": [],
   "source": [
    "# Remove color info\n",
    "gray_image = image[:, :, 0].astype(np.uint8)\n",
    "\n",
    "# Перебор координат контуров\n",
    "for (x, y, w, h) in coordinates:\n",
    "    # Отрисовка прямоугольника вокруг контура\n",
    "    cv2.rectangle(gray_image, (x, y), (x+w, y+h), (0, 255, 0), 2)\n",
    "\n",
    "# Отображение изображения с нарисованными прямоугольниками\n",
    "cv2.imshow('Image with Lines', gray_image)\n",
    "cv2.waitKey(0)\n",
    "cv2.destroyAllWindows()"
   ],
   "metadata": {
    "collapsed": false
   }
  },
  {
   "cell_type": "code",
   "execution_count": 116,
   "outputs": [
    {
     "name": "stdout",
     "output_type": "stream",
     "text": [
      "[array([[[  8,   6]],\n",
      "\n",
      "       [[  8, 176]],\n",
      "\n",
      "       [[839, 176]],\n",
      "\n",
      "       [[839,   6]]], dtype=int32)]\n"
     ]
    }
   ],
   "source": [
    "# Загрузка изображения с квитанцией\n",
    "image = cv2.imread('image.png')\n",
    "\n",
    "# Преобразование изображения в оттенки серого\n",
    "gray_image = cv2.cvtColor(image, cv2.COLOR_BGR2GRAY)\n",
    "\n",
    "# Адаптивная бинаризация для выделения текста\n",
    "binary_image = cv2.adaptiveThreshold(gray_image, 255, cv2.ADAPTIVE_THRESH_MEAN_C, cv2.THRESH_BINARY_INV, 11, 2)\n",
    "\n",
    "# Фильтрация контуров для удаления шумов\n",
    "contours, _ = cv2.findContours(binary_image, cv2.RETR_EXTERNAL, cv2.CHAIN_APPROX_SIMPLE)\n",
    "filtered_contours = []\n",
    "for contour in contours:\n",
    "    x, y, w, h = cv2.boundingRect(contour)\n",
    "    if w > 10 and h > 10:  # Фильтрация маленьких контуров\n",
    "        filtered_contours.append(contour)\n",
    "\n",
    "print(filtered_contours)\n",
    "\n",
    "# Создание маски для удаления текста\n",
    "mask = np.ones(gray_image.shape, dtype=np.uint8) * 255\n",
    "cv2.drawContours(mask, filtered_contours, -1, 0, thickness=cv2.FILLED)\n",
    "\n",
    "# Применение маски к исходному изображению\n",
    "result = cv2.bitwise_and(image, image, mask=mask)\n",
    "\n",
    "# Отображение результата\n",
    "cv2.imshow('Результат', result)\n",
    "cv2.waitKey(0)\n",
    "cv2.destroyAllWindows()"
   ],
   "metadata": {
    "collapsed": false
   }
  },
  {
   "cell_type": "code",
   "execution_count": 120,
   "outputs": [
    {
     "ename": "AttributeError",
     "evalue": "'Page' object has no attribute 'get_page_image_blocks'",
     "output_type": "error",
     "traceback": [
      "\u001B[1;31m---------------------------------------------------------------------------\u001B[0m",
      "\u001B[1;31mAttributeError\u001B[0m                            Traceback (most recent call last)",
      "Cell \u001B[1;32mIn[120], line 19\u001B[0m\n\u001B[0;32m     16\u001B[0m         block[\u001B[38;5;241m4\u001B[39m] \u001B[38;5;241m=\u001B[39m \u001B[38;5;124m\"\u001B[39m\u001B[38;5;124m\"\u001B[39m\n\u001B[0;32m     18\u001B[0m \u001B[38;5;66;03m# Получение списка изображений на странице\u001B[39;00m\n\u001B[1;32m---> 19\u001B[0m images \u001B[38;5;241m=\u001B[39m \u001B[43mpage\u001B[49m\u001B[38;5;241;43m.\u001B[39;49m\u001B[43mget_page_image_blocks\u001B[49m()\n\u001B[0;32m     21\u001B[0m \u001B[38;5;66;03m# Удаление изображений на странице\u001B[39;00m\n\u001B[0;32m     22\u001B[0m \u001B[38;5;28;01mfor\u001B[39;00m image \u001B[38;5;129;01min\u001B[39;00m images:\n",
      "\u001B[1;31mAttributeError\u001B[0m: 'Page' object has no attribute 'get_page_image_blocks'"
     ]
    }
   ],
   "source": [
    "# Открытие PDF-файла\n",
    "file = 'image.pdf'\n",
    "doc = fitz.open(file)\n",
    "\n",
    "# Перебор страниц PDF-файла\n",
    "for page_num in range(len(doc)):\n",
    "    page = doc[page_num]\n",
    "\n",
    "    # Получение списка блоков текста на странице\n",
    "    blocks = page.get_text(\"blocks\")\n",
    "\n",
    "    # Удаление текста из блоков\n",
    "    for block in blocks:\n",
    "        if block[4] == 0:\n",
    "            # Установка пустого текста для блока\n",
    "            block[4] = \"\"\n",
    "\n",
    "    # Получение списка изображений на странице\n",
    "    images = page.get_page_image_blocks()\n",
    "\n",
    "    # Удаление изображений на странице\n",
    "    for image in images:\n",
    "        xref = image[0]\n",
    "        page.delete_image(xref)\n",
    "\n",
    "    # Сохранение изменений в странице\n",
    "    page.update_page()\n",
    "\n",
    "# Сохранение изменений в PDF-файле\n",
    "output_file = 'квитанция_no_text.pdf'\n",
    "doc.save(output_file)\n",
    "doc.close()"
   ],
   "metadata": {
    "collapsed": false
   }
  },
  {
   "cell_type": "code",
   "execution_count": 138,
   "outputs": [
    {
     "name": "stdout",
     "output_type": "stream",
     "text": [
      "Распознанный текст:\n",
      "Облучаемая Коэффициент риска Коэффициент риска Сумма,\n",
      "группа злокачественных наследственных х10-2 Зв-1\n",
      "населения новообразований, эффектов,\n",
      "х10-2 Зв-1 х10-2 Зв-1\n",
      "Все население 5,5 0,2 5,7\n",
      "Взрослые 4,1 0,1 4,2\n",
      "\n",
      "\n"
     ]
    }
   ],
   "source": [
    "# Загрузка изображения\n",
    "image = cv2.imread('image.png')\n",
    "\n",
    "# Преобразование изображения в оттенки серого\n",
    "gray_image = cv2.cvtColor(image, cv2.COLOR_BGR2GRAY)\n",
    "\n",
    "# Распознавание текста с помощью Tesseract\n",
    "text = pytesseract.image_to_string(gray_image, lang='rus')\n",
    "\n",
    "# Получение ограничивающих рамок символов\n",
    "boxes = pytesseract.image_to_boxes(gray_image, lang='rus')\n",
    "\n",
    "# Вывод распознанного текста\n",
    "print(\"Распознанный текст:\")\n",
    "print(text)\n",
    "\n",
    "height, width, _ = image.shape\n",
    "# Вывод ограничивающих рамок символов\n",
    "for box in boxes.splitlines():\n",
    "    box = box.split(' ')\n",
    "    x, y, w, h = int(box[1]), int(box[2]), int(box[3]), int(box[4])\n",
    "    cv2.rectangle(image, (x, y), (w, h), (0, 0, 255), 1)\n",
    "\n",
    "# Отображение изображения с ограничивающими рамками символов\n",
    "cv2.imshow('Image with Character Boxes', image)\n",
    "cv2.waitKey(0)\n",
    "cv2.destroyAllWindows()"
   ],
   "metadata": {
    "collapsed": false
   }
  },
  {
   "cell_type": "markdown",
   "source": [
    "Конец идеи"
   ],
   "metadata": {
    "collapsed": false
   }
  },
  {
   "cell_type": "code",
   "execution_count": 95,
   "outputs": [],
   "source": [
    "# Apply the mask to the original image to remove the characters\n",
    "result = cv2.bitwise_and(image, image, mask=mask)\n",
    "\n",
    "# Display the result\n",
    "cv2.imshow('Table without Characters', image)\n",
    "cv2.waitKey(0)\n",
    "cv2.destroyAllWindows()"
   ],
   "metadata": {
    "collapsed": false
   }
  },
  {
   "cell_type": "code",
   "execution_count": 82,
   "outputs": [],
   "source": [
    "# Remove color info\n",
    "gray_image = image[:, :, 0].astype(np.uint8)\n",
    "\n",
    "# Перебор координат контуров\n",
    "for (x, y, w, h) in coordinates:\n",
    "    # Отрисовка прямоугольника вокруг контура\n",
    "    cv2.rectangle(gray_image, (x, y), (x+w, y+h), (0, 255, 0), 2)\n",
    "\n",
    "# Отображение изображения с нарисованными прямоугольниками\n",
    "cv2.imshow('Image with Lines', gray_image)\n",
    "cv2.waitKey(0)\n",
    "cv2.destroyAllWindows()"
   ],
   "metadata": {
    "collapsed": false
   }
  },
  {
   "cell_type": "code",
   "execution_count": 57,
   "outputs": [],
   "source": [
    "# Thresholding image, ret = value, thresh_value = new binary image\n",
    "ret, thresh_value = cv2.threshold(gray_image, 180, 255, cv2.THRESH_BINARY_INV)\n",
    "\n",
    "# Dilating image some kind of binary blur\n",
    "kernel = np.ones((2,2),np.uint8)\n",
    "dilated_value = cv2.dilate(thresh_value,kernel, iterations = 2)"
   ],
   "metadata": {
    "collapsed": false
   }
  },
  {
   "cell_type": "code",
   "execution_count": 58,
   "outputs": [],
   "source": [
    "cv2.imshow('Image with Lines', dilated_value)\n",
    "cv2.waitKey(0)\n",
    "cv2.destroyAllWindows()"
   ],
   "metadata": {
    "collapsed": false
   }
  },
  {
   "cell_type": "code",
   "execution_count": 226,
   "outputs": [
    {
     "data": {
      "text/plain": "['Облучаемая | Коэффициент риска | Коэффициент риска ‘Сумма, группа злокачественных наследственных х10-2 Зв-1 населения новообразований, эффектов, х10-2 38-1 х10-2 Зв-1 Все население. 55 02 57 Взрослые 41 ол 4.2  ',\n \"'Облучаемая  группа населения  \",\n 'Коэффициент риска злокачественных новообразований,  х10-2 Зв-1  ',\n 'Коэффициент риска  наследственных  эффектов, х10-2 Зв-1  ',\n '‘Сумма, х10-2 Зв-1  ',\n 'Все население ',\n '',\n '',\n '',\n 'Взрослые ',\n '',\n '0,1 ',\n '']"
     },
     "execution_count": 226,
     "metadata": {},
     "output_type": "execute_result"
    }
   ],
   "source": [
    "recognized_table = row = []\n",
    "prev_y = 0\n",
    "coordinates.sort() #sort by x\n",
    "coordinates.sort(key = lambda x:x[1]) # sort by y\n",
    "for coord in coordinates:\n",
    "    x,y,w,h = coord\n",
    "    if y>prev_y+100: #new row if y is changed\n",
    "        recognized_table.append(row)\n",
    "        row = []\n",
    "    crop_img = image[y:y+h, x:x+w]\n",
    "    custom_config = r'--oem 1 --psm 1 -l rus'  # rus - код языка русского\n",
    "    recognized_string = pytesseract.image_to_string(crop_img, config=custom_config)\n",
    "    row.append(recognized_string.replace(\"\\n\",\" \"))\n",
    "    prev_y = y\n",
    "\n",
    "recognized_table"
   ],
   "metadata": {
    "collapsed": false
   }
  },
  {
   "cell_type": "code",
   "execution_count": null,
   "outputs": [],
   "source": [],
   "metadata": {
    "collapsed": false
   }
  }
 ],
 "metadata": {
  "kernelspec": {
   "display_name": "Python 3",
   "language": "python",
   "name": "python3"
  },
  "language_info": {
   "codemirror_mode": {
    "name": "ipython",
    "version": 2
   },
   "file_extension": ".py",
   "mimetype": "text/x-python",
   "name": "python",
   "nbconvert_exporter": "python",
   "pygments_lexer": "ipython2",
   "version": "2.7.6"
  }
 },
 "nbformat": 4,
 "nbformat_minor": 0
}
