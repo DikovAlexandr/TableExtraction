{
 "cells": [
  {
   "cell_type": "markdown",
   "metadata": {},
   "source": [
    "Template required for fine tuning Mask_RCNN"
   ]
  },
  {
   "cell_type": "code",
   "execution_count": 8,
   "metadata": {},
   "outputs": [],
   "source": [
    "from xml.etree import ElementTree\n",
    "import mrcnn.config\n",
    "import mrcnn.utils\n",
    "import mrcnn.model\n",
    "import numpy as np\n",
    "import os"
   ]
  },
  {
   "cell_type": "code",
   "execution_count": 4,
   "metadata": {},
   "outputs": [],
   "source": [
    "CLASS_NAMES = ['BG', 'table']"
   ]
  },
  {
   "cell_type": "code",
   "execution_count": 7,
   "metadata": {},
   "outputs": [],
   "source": [
    "# Class that defines and loads the tablebank dataset\n",
    "class TableBankDataset(mrcnn.utils.Dataset):\n",
    "\t# Load the dataset definitions\n",
    "\tdef load_dataset(self, dataset_dir, is_train=True):\n",
    "\t\t# Define one class\n",
    "\t\tself.add_class(\"dataset\", 1, \"table\")\n",
    "\t\t# Define data locations\n",
    "\t\timages_dir = dataset_dir + '/images/'\n",
    "\t\tannotations_dir = dataset_dir + '/annots/'\n",
    "\t\t# Find all images\n",
    "\t\tfor filename in os.listdir(images_dir):\n",
    "\t\t\t# Extract image id\n",
    "\t\t\timage_id = filename[:-4]\n",
    "\t\t\t# Skip bad images\n",
    "\t\t\t# if image_id in ['00090']:\n",
    "\t\t\t#   continue\n",
    "\t\t\t# Skip all images after 150 if we are building the train set\n",
    "\t\t\t# if is_train and int(image_id) >= 150:\n",
    "\t\t\t#\tcontinue\n",
    "\t\t\t# Skip all images before 150 if we are building the test/val set\n",
    "\t\t\t# if not is_train and int(image_id) < 150:\n",
    "\t\t\t#\tcontinue\n",
    "\t\t\timg_path = images_dir + filename\n",
    "\t\t\tann_path = annotations_dir + image_id + '.xml'\n",
    "\t\t\t# Add to dataset\n",
    "\t\t\tself.add_image('dataset', image_id=image_id, path=img_path, annotation=ann_path)\n",
    "\t\t\t\n",
    "    # Load the masks for an image\n",
    "\tdef load_mask(self, image_id):\n",
    "\t\t# Get details of image\n",
    "\t\tinfo = self.image_info[image_id]\n",
    "\t\t# Define box file location\n",
    "\t\tpath = info['annotation']\n",
    "\t\t# Load XML\n",
    "\t\tboxes, w, h = self.extract_boxes(path)\n",
    "\t\t# Create one array for all masks, each on a different channel\n",
    "\t\tmasks = np.zeros([h, w, len(boxes)], dtype='uint8')\n",
    "\t\t# Create masks\n",
    "\t\tclass_ids = list()\n",
    "\t\tfor i in range(len(boxes)):\n",
    "\t\t\tbox = boxes[i]\n",
    "\t\t\trow_s, row_e = box[1], box[3]\n",
    "\t\t\tcol_s, col_e = box[0], box[2]\n",
    "\t\t\tmasks[row_s:row_e, col_s:col_e, i] = 1\n",
    "\t\t\tclass_ids.append(self.class_names.index('table'))\n",
    "\t\treturn masks, np.asarray(class_ids, dtype='int32')\n",
    "\n",
    "\t# Extract bounding boxes from an annotation file\n",
    "\tdef extract_boxes(self, filename):\n",
    "\t\t# Load and parse the file\n",
    "\t\ttree = ElementTree.parse(filename)\n",
    "\t\t# Get the root of the document\n",
    "\t\troot = tree.getroot()\n",
    "\t\t# Extract each bounding box\n",
    "\t\tboxes = list()\n",
    "\t\tfor box in root.findall('.//bndbox'):\n",
    "\t\t\txmin = int(box.find('xmin').text)\n",
    "\t\t\tymin = int(box.find('ymin').text)\n",
    "\t\t\txmax = int(box.find('xmax').text)\n",
    "\t\t\tymax = int(box.find('ymax').text)\n",
    "\t\t\tcoors = [xmin, ymin, xmax, ymax]\n",
    "\t\t\tboxes.append(coors)\n",
    "\t\t# Extract image dimensions\n",
    "\t\twidth = int(root.find('.//size/width').text)\n",
    "\t\theight = int(root.find('.//size/height').text)\n",
    "\t\treturn boxes, width, height\n",
    "\t\n",
    "\t# Load an image reference\n",
    "\tdef image_reference(self, image_id):\n",
    "\t\tinfo = self.image_info[image_id]\n",
    "\t\treturn info['path']"
   ]
  },
  {
   "cell_type": "code",
   "execution_count": 6,
   "metadata": {},
   "outputs": [],
   "source": [
    "# Define a configuration for the model\n",
    "class TableBankConfig(mrcnn.config.Config):\n",
    "\t# Define the name of the configuration\n",
    "\tNAME = \"template_model_cfg\"\n",
    "\tBACKBONE = \"resnet50\"\n",
    "\tIMAGE_RESIZE_MODE = \"square\"\n",
    "\tIMAGE_MIN_DIM = 512\n",
    "\tIMAGE_MAX_DIM = 512\n",
    "\t# Number of classes\n",
    "\tNUM_CLASSES = len(CLASS_NAMES)\n",
    "\tGPU_COUNT = 1\n",
    "\tIMAGES_PER_GPU = 4\n",
    "\t# Number of training steps per epoch\n",
    "\t# <- MODIFY -> Replace 178 with the number of images of your dataset\n",
    "\tSTEPS_PER_EPOCH = 178 // (GPU_COUNT * IMAGES_PER_GPU)"
   ]
  },
  {
   "cell_type": "code",
   "execution_count": null,
   "metadata": {},
   "outputs": [],
   "source": [
    "# Prepare train set\n",
    "train_set = TableBankDataset()\n",
    "\n",
    "# <- MODIFY -> Replace mydataset with the name of the folder containing your images and annotations\n",
    "train_set.load_dataset('fine_dataset', is_train=True)\n",
    "train_set.prepare()\n",
    "print('Train: %d' % len(train_set.image_ids))\n",
    "\n",
    "# Prepare config\n",
    "config = TableBankConfig()\n",
    "config.display()\n",
    "\n",
    "# Define the model\n",
    "model = mrcnn.model.MaskRCNN(mode='training', model_dir=os.getcwd(), config=config)\n",
    "\n",
    "# Load weights (mscoco) and exclude the output layers\n",
    "model.load_weights('tablebank_mask_rcnn_trained.h5', by_name=True, exclude=[\"mrcnn_class_logits\", \"mrcnn_bbox_fc\",  \"mrcnn_bbox\", \"mrcnn_mask\"])\n",
    "\n",
    "# Train weights (output layers or 'heads')\n",
    "model.train(train_set, None, learning_rate=config.LEARNING_RATE, epochs=2, layers='heads')\n",
    "\n",
    "# Unfreeze the body of the network and train *all* layers\n",
    "model.train(train_set, None, epochs=5,layers=\"all\", learning_rate=config.LEARNING_RATE / 10)"
   ]
  }
 ],
 "metadata": {
  "kernelspec": {
   "display_name": "mask-rcnn_tut",
   "language": "python",
   "name": "python3"
  },
  "language_info": {
   "codemirror_mode": {
    "name": "ipython",
    "version": 3
   },
   "file_extension": ".py",
   "mimetype": "text/x-python",
   "name": "python",
   "nbconvert_exporter": "python",
   "pygments_lexer": "ipython3",
   "version": "3.7.11"
  },
  "orig_nbformat": 4
 },
 "nbformat": 4,
 "nbformat_minor": 2
}
