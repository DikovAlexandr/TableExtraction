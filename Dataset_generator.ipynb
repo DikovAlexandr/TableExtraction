{
 "cells": [
  {
   "cell_type": "markdown",
   "source": [
    "Сгенерируем датасет для оценки качества выполнения задачи. Возможно дообучим pytorch nn."
   ],
   "metadata": {
    "collapsed": false
   }
  },
  {
   "cell_type": "code",
   "execution_count": 3,
   "outputs": [
    {
     "name": "stdout",
     "output_type": "stream",
     "text": [
      "Requirement already satisfied: pymupdf in c:\\users\\dsash\\anaconda3\\lib\\site-packages (1.22.5)\n"
     ]
    }
   ],
   "source": [
    "!pip install pymupdf"
   ],
   "metadata": {
    "collapsed": false
   }
  },
  {
   "cell_type": "code",
   "execution_count": 3,
   "outputs": [
    {
     "name": "stdout",
     "output_type": "stream",
     "text": [
      "Collecting fpdf\n",
      "  Downloading fpdf-1.7.2.tar.gz (39 kB)\n",
      "  Preparing metadata (setup.py): started\n",
      "  Preparing metadata (setup.py): finished with status 'done'\n",
      "Building wheels for collected packages: fpdf\n",
      "  Building wheel for fpdf (setup.py): started\n",
      "  Building wheel for fpdf (setup.py): finished with status 'done'\n",
      "  Created wheel for fpdf: filename=fpdf-1.7.2-py2.py3-none-any.whl size=40713 sha256=3d030d429e9eb0115ed48106e615e2162d4ee5f59fce765845635860f679b694\n",
      "  Stored in directory: c:\\users\\dsash\\appdata\\local\\pip\\cache\\wheels\\44\\35\\8b\\86ce00cec7e4d13c5f189680ae0fa82f919bedc066c2cddae9\n",
      "Successfully built fpdf\n",
      "Installing collected packages: fpdf\n",
      "Successfully installed fpdf-1.7.2\n",
      "Note: you may need to restart the kernel to use updated packages.\n"
     ]
    }
   ],
   "source": [
    "!pip install fpdf"
   ],
   "metadata": {
    "collapsed": false
   }
  },
  {
   "cell_type": "code",
   "execution_count": 24,
   "outputs": [],
   "source": [
    "import os\n",
    "import cv2\n",
    "import fitz\n",
    "import random\n",
    "import string\n",
    "import numpy as np\n",
    "import pandas as pd\n",
    "from PIL import Image\n",
    "from fpdf import FPDF\n",
    "\n",
    "# Функция для генерации случайного текста или цифр\n",
    "def generate_random_data(length):\n",
    "    data_type = random.choice([\"letters\", \"digits\"])\n",
    "    if data_type == \"digits\":\n",
    "        return ''.join(random.choice(string.digits) for _ in range(length))\n",
    "    else:\n",
    "        return ''.join(random.choice(string.ascii_letters) for _ in range(length))\n",
    "\n",
    "# Функция для генерации случайной таблицы с разным числом строк и столбцов\n",
    "def generate_random_table():\n",
    "    num_rows = random.randint(1, 10)  # Случайное число строк от 1 до 10\n",
    "    num_cols = random.randint(1, 8)  # Случайное число столбцов от 1 до 10\n",
    "\n",
    "    table_data = []\n",
    "    for _ in range(num_rows):\n",
    "        row = [generate_random_data(random.randint(1, 5)) for _ in range(num_cols)]\n",
    "        table_data.append(row)\n",
    "\n",
    "    return table_data\n",
    "\n",
    "# Функция для генерации случайных искажений перспективы\n",
    "def generate_perspective_transform():\n",
    "    width, height = 210, 297  # Размеры листа (A4)\n",
    "    max_perspective = 0.02  # Максимальное значение искажения перспективы\n",
    "    tl = [random.uniform(0, max_perspective) * width, random.uniform(0, max_perspective) * height]\n",
    "    tr = [random.uniform(1 - max_perspective, 1) * width, random.uniform(0, max_perspective) * height]\n",
    "    bl = [random.uniform(0, max_perspective) * width, random.uniform(1 - max_perspective, 1) * height]\n",
    "    br = [random.uniform(1 - max_perspective, 1) * width, random.uniform(1 - max_perspective, 1) * height]\n",
    "    src = np.float32([tl, tr, bl, br])\n",
    "    dst = np.float32([[0, 0], [width, 0], [0, height], [width, height]])\n",
    "    perspective_transform = cv2.getPerspectiveTransform(src, dst)\n",
    "    return perspective_transform\n",
    "\n",
    "# Функция для добавления шума к изображению\n",
    "def add_noise(image, probability):\n",
    "    if random.random() < probability:\n",
    "        noise = np.random.normal(0, 25, image.shape).astype(np.uint8)\n",
    "        noisy_image = cv2.add(image, noise)\n",
    "        return noisy_image\n",
    "    return image\n",
    "\n",
    "# Функция для создания датасета\n",
    "def generate_dataset(num_samples, noise_probability):\n",
    "    # Создание директории \"dataset\", если она не существует\n",
    "    directory = \"dataset\"\n",
    "    if os.path.exists(directory):\n",
    "        for file_name in os.listdir(directory):\n",
    "            file_path = os.path.join(directory, file_name)\n",
    "            os.remove(file_path)\n",
    "    else:\n",
    "        os.makedirs(directory)\n",
    "\n",
    "    for i in range(num_samples):\n",
    "        # Генерация случайной таблицы\n",
    "        table_data = generate_random_table()\n",
    "        df = pd.DataFrame(table_data)\n",
    "\n",
    "        # Создание PDF файла с таблицей\n",
    "        pdf = FPDF()\n",
    "        pdf.add_page()\n",
    "        pdf.set_font(\"Arial\", size=12)\n",
    "\n",
    "        for row in table_data:\n",
    "            for item in row:\n",
    "                pdf.cell(20, 10, str(item), border=1)\n",
    "            pdf.ln()\n",
    "\n",
    "        # Сохраним pdf файл\n",
    "        pdf_file = f\"dataset/sample_table_{i}.pdf\"\n",
    "        pdf.output(pdf_file)\n",
    "\n",
    "        # Теперь считаем файл, чтобы наложить на него шум и искажение как на изображение\n",
    "        doc = fitz.open(pdf_file)\n",
    "        page = doc.load_page(0)\n",
    "        pix = page.get_pixmap()\n",
    "        img = np.frombuffer(pix.samples, dtype=np.uint8).reshape(pix.h, pix.w, pix.n)\n",
    "        img = np.ascontiguousarray(img[..., [2, 1, 0]])\n",
    "        doc.close()\n",
    "\n",
    "        # Создание искаженного изображения таблицы\n",
    "        perspective_transform = generate_perspective_transform()\n",
    "        img = cv2.warpPerspective(img, perspective_transform, (img.shape[1], img.shape[0]))\n",
    "        img = add_noise(img, noise_probability)\n",
    "        img = Image.fromarray(img)\n",
    "\n",
    "        # Сохранение искаженного изображения в формате pdf\n",
    "        image_file = f\"dataset/sample_table_{i}.pdf\"\n",
    "        img.save(image_file)\n",
    "\n",
    "        # Создание CSV файла-метки\n",
    "        csv_file = f\"dataset/sample_table_{i}.csv\"\n",
    "        df.to_csv(csv_file, index=False)\n",
    "\n",
    "generate_dataset(10, 0.01)"
   ],
   "metadata": {
    "collapsed": false
   }
  }
 ],
 "metadata": {
  "kernelspec": {
   "display_name": "Python 3",
   "language": "python",
   "name": "python3"
  },
  "language_info": {
   "codemirror_mode": {
    "name": "ipython",
    "version": 2
   },
   "file_extension": ".py",
   "mimetype": "text/x-python",
   "name": "python",
   "nbconvert_exporter": "python",
   "pygments_lexer": "ipython2",
   "version": "2.7.6"
  }
 },
 "nbformat": 4,
 "nbformat_minor": 0
}
