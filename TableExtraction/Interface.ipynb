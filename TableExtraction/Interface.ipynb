{
 "cells": [
  {
   "cell_type": "code",
   "execution_count": 1,
   "metadata": {},
   "outputs": [
    {
     "name": "stderr",
     "output_type": "stream",
     "text": [
      "Using TensorFlow backend.\n"
     ]
    }
   ],
   "source": [
    "import tkinter as tk\n",
    "from tkinter import filedialog\n",
    "import subprocess\n",
    "from tkinter import ttk\n",
    "from table_extraction import TableExtraction\n",
    "import threading"
   ]
  },
  {
   "cell_type": "code",
   "execution_count": 31,
   "metadata": {},
   "outputs": [],
   "source": [
    "def update_result_text(message):\n",
    "    # Вставляем надпись с результатом в метку\n",
    "    result_label.config(text=message)\n",
    "\n",
    "def extract_data():\n",
    "    file_path = filedialog.askopenfilename(filetypes=[(\"PDF Files\", \"*.pdf\")])\n",
    "    if not file_path:\n",
    "        return\n",
    "\n",
    "    select_button.config(state=tk.DISABLED)  # Блокируем кнопку загрузки файла\n",
    "    progress_bar.pack(pady=10)  # Показываем прогресс бар перед запуском процесса\n",
    "    progress_bar.start()  # Запускаем анимацию прогресс-бара\n",
    "\n",
    "    def extract_in_thread():\n",
    "        try:\n",
    "            extractor = TableExtraction()\n",
    "            extractor.extract_from_file(file_path)\n",
    "            root.after(2000, update_result_text, \"Data successfully extracted and processed.\")\n",
    "        except subprocess.CalledProcessError:\n",
    "            root.after(1000, update_result_text, \"Error executing the program\")\n",
    "        finally:\n",
    "            root.after(1000, enable_button)  # Включаем кнопку загрузки файла после завершения операции\n",
    "            progress_bar.pack_forget()  # Скрываем прогресс бар после завершения процесса\n",
    "            progress_bar.stop()  # Останавливаем анимацию прогресс-бара\n",
    "\n",
    "    # Запускаем извлечение данных в отдельном потоке\n",
    "    thread = threading.Thread(target=extract_in_thread)\n",
    "    thread.start()\n",
    "\n",
    "def enable_button():\n",
    "    select_button.config(state=tk.NORMAL)  # Включаем кнопку загрузки файла\n",
    "    progress_bar.stop()  # Останавливаем анимацию прогресс-бара\n",
    "\n",
    "# Создаем графический интерфейс\n",
    "root = tk.Tk()\n",
    "root.title(\"Extract data from PDF tables\")\n",
    "\n",
    "# Increase the font size\n",
    "font_size = 16\n",
    "\n",
    "# Set the window size to a quarter of the screen resolution\n",
    "screen_width = root.winfo_screenwidth()\n",
    "screen_height = root.winfo_screenheight()\n",
    "window_width = screen_width // 2\n",
    "window_height = screen_height // 2\n",
    "root.geometry(f\"{window_width}x{window_height}\")\n",
    "\n",
    "# Set dark gray background\n",
    "root.configure(bg=\"gray15\")\n",
    "\n",
    "# Progress bar\n",
    "progress_bar = ttk.Progressbar(root, orient=tk.HORIZONTAL, mode='indeterminate', maximum=100, value=0)\n",
    "progress_bar.pack(pady=10)\n",
    "progress_bar.pack_forget()\n",
    "\n",
    "# Button to select the PDF file\n",
    "select_button = tk.Button(root, text=\"Выбрать PDF файл\", font=(\"Helvetica\", font_size), fg=\"white\", bg=\"gray35\", activebackground=\"gray35\", command=extract_data)\n",
    "select_button.pack(pady=10)\n",
    "\n",
    "# Center the button in the window\n",
    "select_button.place(relx=0.5, rely=0.5, anchor=tk.CENTER)\n",
    "\n",
    "# Label for displaying the result message\n",
    "result_label = tk.Label(root, text=\"\", font=(\"Helvetica\", font_size), fg=\"white\", bg=\"gray15\")\n",
    "result_label.pack(pady=5)\n",
    "\n",
    "# Run the graphical user interface\n",
    "root.mainloop()"
   ]
  },
  {
   "cell_type": "code",
   "execution_count": null,
   "metadata": {},
   "outputs": [],
   "source": []
  }
 ],
 "metadata": {
  "kernelspec": {
   "display_name": "Python 3",
   "language": "python",
   "name": "python3"
  },
  "language_info": {
   "codemirror_mode": {
    "name": "ipython",
    "version": 3
   },
   "file_extension": ".py",
   "mimetype": "text/x-python",
   "name": "python",
   "nbconvert_exporter": "python",
   "pygments_lexer": "ipython3",
   "version": "3.7.11"
  }
 },
 "nbformat": 4,
 "nbformat_minor": 0
}
