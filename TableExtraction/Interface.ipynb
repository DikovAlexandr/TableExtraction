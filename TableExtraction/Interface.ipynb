{
 "cells": [
  {
   "cell_type": "code",
   "execution_count": 1,
   "metadata": {},
   "outputs": [],
   "source": [
    "import tkinter as tk\n",
    "from tkinter import filedialog\n",
    "import subprocess"
   ]
  },
  {
   "cell_type": "code",
   "execution_count": 16,
   "metadata": {
    "collapsed": true
   },
   "outputs": [],
   "source": [
    "def extract_data():\n",
    "    file_path = filedialog.askopenfilename(filetypes=[(\"PDF Files\", \"*.pdf\")])\n",
    "    if not file_path:\n",
    "        return\n",
    "    try:\n",
    "        # Call the other program and pass the input file as an argument\n",
    "        cmd = [\"python\", \"TableExtraction.py\", \"--input\", file_path]\n",
    "        subprocess.run(cmd, check=True)\n",
    "    except subprocess.CalledProcessError:\n",
    "        result_label.config(text=\"Error executing the program\", fg=\"red\")\n",
    "    else:\n",
    "        result_label.config(text=\"Data successfully extracted and processed.\", fg=\"green\")\n",
    "\n",
    "# Create the graphical user interface\n",
    "root = tk.Tk()\n",
    "root.title(\"Extract data from PDF tables\")\n",
    "\n",
    "# Increase the font size\n",
    "font_size = 16\n",
    "\n",
    "# Set the window size to a quarter of the screen resolution\n",
    "screen_width = root.winfo_screenwidth()\n",
    "screen_height = root.winfo_screenheight()\n",
    "window_width = screen_width // 2\n",
    "window_height = screen_height // 2\n",
    "root.geometry(f\"{window_width}x{window_height}\")\n",
    "\n",
    "# Set dark gray background\n",
    "root.configure(bg=\"gray35\")\n",
    "\n",
    "# Label for the result message\n",
    "result_label = tk.Label(root, text=\"\", font=(\"Helvetica\", font_size), fg=\"white\", bg=\"gray35\", wraplength=window_width)\n",
    "result_label.pack(pady=10)\n",
    "\n",
    "# Button to select the PDF file\n",
    "select_button = tk.Button(root, text=\"Select PDF File\", font=(\"Helvetica\", font_size), fg=\"white\", bg=\"gray25\", activebackground=\"gray35\", command=extract_data)\n",
    "select_button.pack(pady=10)\n",
    "\n",
    "# Center the button in the window\n",
    "select_button.place(relx=0.5, rely=0.5, anchor=tk.CENTER)\n",
    "\n",
    "# Run the graphical user interface\n",
    "root.mainloop()"
   ]
  },
  {
   "cell_type": "code",
   "execution_count": null,
   "metadata": {},
   "outputs": [],
   "source": []
  }
 ],
 "metadata": {
  "kernelspec": {
   "display_name": "Python 3",
   "language": "python",
   "name": "python3"
  },
  "language_info": {
   "codemirror_mode": {
    "name": "ipython",
    "version": 3
   },
   "file_extension": ".py",
   "mimetype": "text/x-python",
   "name": "python",
   "nbconvert_exporter": "python",
   "pygments_lexer": "ipython3",
   "version": "3.7.11"
  }
 },
 "nbformat": 4,
 "nbformat_minor": 0
}
