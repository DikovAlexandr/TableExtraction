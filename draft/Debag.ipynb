{
 "cells": [
  {
   "cell_type": "code",
   "execution_count": 5,
   "outputs": [],
   "source": [
    "import os\n",
    "import cv2\n",
    "import numpy as np\n",
    "import pandas as pd\n",
    "import fitz\n",
    "import pytesseract\n",
    "from PIL import Image"
   ],
   "metadata": {
    "collapsed": false
   }
  },
  {
   "cell_type": "code",
   "execution_count": 6,
   "outputs": [],
   "source": [
    "pytesseract.pytesseract.tesseract_cmd = r'C:\\Program Files\\Tesseract-OCR\\tesseract.exe'"
   ],
   "metadata": {
    "collapsed": false
   }
  },
  {
   "cell_type": "code",
   "execution_count": 7,
   "outputs": [],
   "source": [
    "os.environ['PATH'] += r';C:\\Program Files\\Tesseract-OCR'"
   ],
   "metadata": {
    "collapsed": false
   }
  },
  {
   "cell_type": "code",
   "execution_count": 14,
   "outputs": [],
   "source": [
    "# In case of .pdf file\n",
    "pages = []\n",
    "file = '6.pdf'\n",
    "doc = fitz.open(file)\n",
    "for n in range(doc.page_count):\n",
    "    page = doc.load_page(n)\n",
    "    pix = page.get_pixmap()\n",
    "    image = np.frombuffer(pix.samples,\n",
    "                          dtype=np.uint8).reshape(pix.h, pix.w, pix.n)\n",
    "    image = np.ascontiguousarray(image[..., [2, 1, 0]])\n",
    "    pages.append(image)"
   ],
   "metadata": {
    "collapsed": false
   }
  },
  {
   "cell_type": "code",
   "execution_count": 10,
   "outputs": [
    {
     "ename": "error",
     "evalue": "OpenCV(4.8.0) D:\\a\\opencv-python\\opencv-python\\opencv\\modules\\highgui\\src\\window.cpp:1272: error: (-2:Unspecified error) The function is not implemented. Rebuild the library with Windows, GTK+ 2.x or Cocoa support. If you are on Ubuntu or Debian, install libgtk2.0-dev and pkg-config, then re-run cmake or configure script in function 'cvShowImage'\n",
     "output_type": "error",
     "traceback": [
      "\u001B[1;31m---------------------------------------------------------------------------\u001B[0m",
      "\u001B[1;31merror\u001B[0m                                     Traceback (most recent call last)",
      "Cell \u001B[1;32mIn[10], line 3\u001B[0m\n\u001B[0;32m      1\u001B[0m image \u001B[38;5;241m=\u001B[39m pages[\u001B[38;5;241m3\u001B[39m]\n\u001B[0;32m      2\u001B[0m \u001B[38;5;66;03m# Отображение изображения с выделенными ячейками\u001B[39;00m\n\u001B[1;32m----> 3\u001B[0m \u001B[43mcv2\u001B[49m\u001B[38;5;241;43m.\u001B[39;49m\u001B[43mimshow\u001B[49m\u001B[43m(\u001B[49m\u001B[38;5;124;43m'\u001B[39;49m\u001B[38;5;124;43mImage with Cells\u001B[39;49m\u001B[38;5;124;43m'\u001B[39;49m\u001B[43m,\u001B[49m\u001B[43m \u001B[49m\u001B[43mimage\u001B[49m\u001B[43m)\u001B[49m\n\u001B[0;32m      4\u001B[0m cv2\u001B[38;5;241m.\u001B[39mimwrite(\u001B[38;5;124m'\u001B[39m\u001B[38;5;124mimage.jpg\u001B[39m\u001B[38;5;124m'\u001B[39m, image)\n\u001B[0;32m      5\u001B[0m cv2\u001B[38;5;241m.\u001B[39mwaitKey(\u001B[38;5;241m0\u001B[39m)\n",
      "\u001B[1;31merror\u001B[0m: OpenCV(4.8.0) D:\\a\\opencv-python\\opencv-python\\opencv\\modules\\highgui\\src\\window.cpp:1272: error: (-2:Unspecified error) The function is not implemented. Rebuild the library with Windows, GTK+ 2.x or Cocoa support. If you are on Ubuntu or Debian, install libgtk2.0-dev and pkg-config, then re-run cmake or configure script in function 'cvShowImage'\n"
     ]
    }
   ],
   "source": [
    "image = pages[3]\n",
    "# Отображение изображения с выделенными ячейками\n",
    "cv2.imshow('Image with Cells', image)\n",
    "cv2.imwrite('image.jpg', image)\n",
    "cv2.waitKey(0)\n",
    "cv2.destroyAllWindows()"
   ],
   "metadata": {
    "collapsed": false
   }
  },
  {
   "cell_type": "markdown",
   "source": [
    "Для выделения таблицы из корпуса текста попробуем использовать cv2 с такими настройками"
   ],
   "metadata": {
    "collapsed": false
   }
  },
  {
   "cell_type": "code",
   "execution_count": 11,
   "outputs": [
    {
     "ename": "error",
     "evalue": "OpenCV(4.8.0) D:\\a\\opencv-python\\opencv-python\\opencv\\modules\\highgui\\src\\window.cpp:1272: error: (-2:Unspecified error) The function is not implemented. Rebuild the library with Windows, GTK+ 2.x or Cocoa support. If you are on Ubuntu or Debian, install libgtk2.0-dev and pkg-config, then re-run cmake or configure script in function 'cvShowImage'\n",
     "output_type": "error",
     "traceback": [
      "\u001B[1;31m---------------------------------------------------------------------------\u001B[0m",
      "\u001B[1;31merror\u001B[0m                                     Traceback (most recent call last)",
      "Cell \u001B[1;32mIn[11], line 47\u001B[0m\n\u001B[0;32m     45\u001B[0m x1, y1, x2, y2 \u001B[38;5;241m=\u001B[39m box\n\u001B[0;32m     46\u001B[0m cv2\u001B[38;5;241m.\u001B[39mrectangle(image, (x1, y1), (x2, y2), (\u001B[38;5;241m0\u001B[39m, \u001B[38;5;241m255\u001B[39m, \u001B[38;5;241m0\u001B[39m), \u001B[38;5;241m2\u001B[39m)\n\u001B[1;32m---> 47\u001B[0m \u001B[43mcv2\u001B[49m\u001B[38;5;241;43m.\u001B[39;49m\u001B[43mimshow\u001B[49m\u001B[43m(\u001B[49m\u001B[38;5;124;43m'\u001B[39;49m\u001B[38;5;124;43mImage with Cells\u001B[39;49m\u001B[38;5;124;43m'\u001B[39;49m\u001B[43m,\u001B[49m\u001B[43m \u001B[49m\u001B[43mparts_image\u001B[49m\u001B[43m[\u001B[49m\u001B[43mi\u001B[49m\u001B[43m]\u001B[49m\u001B[43m)\u001B[49m\n\u001B[0;32m     48\u001B[0m cv2\u001B[38;5;241m.\u001B[39mimwrite(\u001B[38;5;124m'\u001B[39m\u001B[38;5;124mparts_image.jpg\u001B[39m\u001B[38;5;124m'\u001B[39m, parts_image[i])\n\u001B[0;32m     49\u001B[0m cv2\u001B[38;5;241m.\u001B[39mwaitKey(\u001B[38;5;241m0\u001B[39m)\n",
      "\u001B[1;31merror\u001B[0m: OpenCV(4.8.0) D:\\a\\opencv-python\\opencv-python\\opencv\\modules\\highgui\\src\\window.cpp:1272: error: (-2:Unspecified error) The function is not implemented. Rebuild the library with Windows, GTK+ 2.x or Cocoa support. If you are on Ubuntu or Debian, install libgtk2.0-dev and pkg-config, then re-run cmake or configure script in function 'cvShowImage'\n"
     ]
    }
   ],
   "source": [
    "# Преобразование изображения в оттенки серого\n",
    "gray_image = cv2.cvtColor(image, cv2.COLOR_BGR2GRAY)\n",
    "\n",
    "# Применение порогового преобразования для бинаризации изображения\n",
    "ret, threshold_image = cv2.threshold(gray_image, 0, 255, cv2.THRESH_BINARY_INV + cv2.THRESH_OTSU)\n",
    "\n",
    "# Применение морфологического преобразования для удаления шума и замыкания линий\n",
    "kernel = np.ones((5, 5), np.uint8)\n",
    "morph_image = cv2.morphologyEx(threshold_image, cv2.MORPH_CLOSE, kernel)\n",
    "\n",
    "# Нахождение контуров на изображении\n",
    "contours, hierarchy = cv2.findContours(morph_image, cv2.RETR_EXTERNAL, cv2.CHAIN_APPROX_SIMPLE)\n",
    "\n",
    "# Создание списка координат ограничивающих рамок ячеек\n",
    "cell_boxes = []\n",
    "\n",
    "# Фильтрация контуров и определение ограничивающих рамок ячеек\n",
    "\n",
    "height, width, _ = image.shape\n",
    "\n",
    "parts_image = []\n",
    "\n",
    "for contour in contours:\n",
    "    # Определение площади контура\n",
    "    area = cv2.contourArea(contour)\n",
    "\n",
    "    x, y, w, h = cv2.boundingRect(contour)\n",
    "\n",
    "    cv2.rectangle(image, (x, y), (x + w, y + h), (0, 255, 0), 2)\n",
    "\n",
    "    # Фильтрация контуров по площади\n",
    "    if area > 3000:\n",
    "        # Определение ограничивающей рамки контура\n",
    "        x, y, w, h = cv2.boundingRect(contour)\n",
    "\n",
    "        # Добавление ограничивающей рамки в список\n",
    "        cell_boxes.append((x, y, x + w, y + h))\n",
    "\n",
    "        cropp_image = image[y:y + h, x:x + w]\n",
    "\n",
    "        parts_image.append(cropp_image)\n",
    "\n",
    "# Вывод координат ограничивающих рамок ячеек\n",
    "for i, box in enumerate(cell_boxes):\n",
    "    x1, y1, x2, y2 = box\n",
    "    cv2.rectangle(image, (x1, y1), (x2, y2), (0, 255, 0), 2)\n",
    "    cv2.imshow('Image with Cells', parts_image[i])\n",
    "    cv2.imwrite('parts_image.jpg', parts_image[i])\n",
    "    cv2.waitKey(0)\n",
    "    cv2.destroyAllWindows()\n",
    "\n",
    "# # Отображение изображения с выделенными ячейками\n",
    "# cv2.imshow('Image with Cells', image)\n",
    "# cv2.imwrite('image_boxes.jpg', image)\n",
    "# cv2.waitKey(0)\n",
    "# cv2.destroyAllWindows()"
   ],
   "metadata": {
    "collapsed": false
   }
  },
  {
   "cell_type": "code",
   "execution_count": 15,
   "outputs": [
    {
     "ename": "error",
     "evalue": "OpenCV(4.8.0) D:\\a\\opencv-python\\opencv-python\\opencv\\modules\\highgui\\src\\window.cpp:1272: error: (-2:Unspecified error) The function is not implemented. Rebuild the library with Windows, GTK+ 2.x or Cocoa support. If you are on Ubuntu or Debian, install libgtk2.0-dev and pkg-config, then re-run cmake or configure script in function 'cvShowImage'\n",
     "output_type": "error",
     "traceback": [
      "\u001B[1;31m---------------------------------------------------------------------------\u001B[0m",
      "\u001B[1;31merror\u001B[0m                                     Traceback (most recent call last)",
      "Cell \u001B[1;32mIn[15], line 16\u001B[0m\n\u001B[0;32m     13\u001B[0m inv_image \u001B[38;5;241m=\u001B[39m cv2\u001B[38;5;241m.\u001B[39mbitwise_not(morph_image)\n\u001B[0;32m     15\u001B[0m \u001B[38;5;66;03m# Отображение изображения с ограничивающими рамками символов\u001B[39;00m\n\u001B[1;32m---> 16\u001B[0m \u001B[43mcv2\u001B[49m\u001B[38;5;241;43m.\u001B[39;49m\u001B[43mimshow\u001B[49m\u001B[43m(\u001B[49m\u001B[38;5;124;43m'\u001B[39;49m\u001B[38;5;124;43mImage with Character Boxes\u001B[39;49m\u001B[38;5;124;43m'\u001B[39;49m\u001B[43m,\u001B[49m\u001B[43m \u001B[49m\u001B[43minv_image\u001B[49m\u001B[43m)\u001B[49m\n\u001B[0;32m     17\u001B[0m cv2\u001B[38;5;241m.\u001B[39mwaitKey(\u001B[38;5;241m0\u001B[39m)\n\u001B[0;32m     18\u001B[0m cv2\u001B[38;5;241m.\u001B[39mdestroyAllWindows()\n",
      "\u001B[1;31merror\u001B[0m: OpenCV(4.8.0) D:\\a\\opencv-python\\opencv-python\\opencv\\modules\\highgui\\src\\window.cpp:1272: error: (-2:Unspecified error) The function is not implemented. Rebuild the library with Windows, GTK+ 2.x or Cocoa support. If you are on Ubuntu or Debian, install libgtk2.0-dev and pkg-config, then re-run cmake or configure script in function 'cvShowImage'\n"
     ]
    }
   ],
   "source": [
    "# Загрузка изображения\n",
    "image = parts_image[0].copy()\n",
    "\n",
    "# Преобразование изображения в оттенки серого\n",
    "gray_image = cv2.cvtColor(image, cv2.COLOR_BGR2GRAY)\n",
    "\n",
    "_, threshold_image = cv2.threshold(gray_image, 200, 255, cv2.THRESH_BINARY_INV)\n",
    "\n",
    "# Применение морфологического преобразования для удаления шума и замыкания линий\n",
    "kernel = np.ones((2, 2), np.uint8)\n",
    "morph_image = cv2.morphologyEx(threshold_image, cv2.MORPH_CLOSE, kernel)\n",
    "\n",
    "inv_image = cv2.bitwise_not(morph_image)\n",
    "\n",
    "# Отображение изображения с ограничивающими рамками символов\n",
    "cv2.imshow('Image with Character Boxes', inv_image)\n",
    "cv2.waitKey(0)\n",
    "cv2.destroyAllWindows()"
   ],
   "metadata": {
    "collapsed": false
   }
  },
  {
   "cell_type": "code",
   "execution_count": 16,
   "outputs": [
    {
     "ename": "error",
     "evalue": "OpenCV(4.8.0) D:\\a\\opencv-python\\opencv-python\\opencv\\modules\\highgui\\src\\window.cpp:1272: error: (-2:Unspecified error) The function is not implemented. Rebuild the library with Windows, GTK+ 2.x or Cocoa support. If you are on Ubuntu or Debian, install libgtk2.0-dev and pkg-config, then re-run cmake or configure script in function 'cvShowImage'\n",
     "output_type": "error",
     "traceback": [
      "\u001B[1;31m---------------------------------------------------------------------------\u001B[0m",
      "\u001B[1;31merror\u001B[0m                                     Traceback (most recent call last)",
      "Cell \u001B[1;32mIn[16], line 36\u001B[0m\n\u001B[0;32m     33\u001B[0m         cv2\u001B[38;5;241m.\u001B[39mrectangle(image, (x, height \u001B[38;5;241m-\u001B[39m y), (w, height \u001B[38;5;241m-\u001B[39m h), (\u001B[38;5;241m255\u001B[39m, \u001B[38;5;241m0\u001B[39m, \u001B[38;5;241m255\u001B[39m), \u001B[38;5;241m1\u001B[39m)\n\u001B[0;32m     35\u001B[0m \u001B[38;5;66;03m# Отображение изображения с ограничивающими рамками символов\u001B[39;00m\n\u001B[1;32m---> 36\u001B[0m \u001B[43mcv2\u001B[49m\u001B[38;5;241;43m.\u001B[39;49m\u001B[43mimshow\u001B[49m\u001B[43m(\u001B[49m\u001B[38;5;124;43m'\u001B[39;49m\u001B[38;5;124;43mImage with Character Boxes\u001B[39;49m\u001B[38;5;124;43m'\u001B[39;49m\u001B[43m,\u001B[49m\u001B[43m \u001B[49m\u001B[43mimage\u001B[49m\u001B[43m)\u001B[49m\n\u001B[0;32m     37\u001B[0m cv2\u001B[38;5;241m.\u001B[39mwaitKey(\u001B[38;5;241m0\u001B[39m)\n\u001B[0;32m     38\u001B[0m cv2\u001B[38;5;241m.\u001B[39mdestroyAllWindows()\n",
      "\u001B[1;31merror\u001B[0m: OpenCV(4.8.0) D:\\a\\opencv-python\\opencv-python\\opencv\\modules\\highgui\\src\\window.cpp:1272: error: (-2:Unspecified error) The function is not implemented. Rebuild the library with Windows, GTK+ 2.x or Cocoa support. If you are on Ubuntu or Debian, install libgtk2.0-dev and pkg-config, then re-run cmake or configure script in function 'cvShowImage'\n"
     ]
    }
   ],
   "source": [
    "# Загрузка изображения\n",
    "image = parts_image[0]\n",
    "\n",
    "# Преобразование изображения в оттенки серого\n",
    "gray_image = cv2.cvtColor(image, cv2.COLOR_BGR2GRAY)\n",
    "\n",
    "_, threshold_image = cv2.threshold(gray_image, 200, 255, cv2.THRESH_BINARY)\n",
    "\n",
    "# Получение ограничивающих рамок символов\n",
    "boxes = pytesseract.image_to_boxes(threshold_image, lang='rus')\n",
    "\n",
    "# Разделение строки на список строк\n",
    "box_lines = boxes.strip().split('\\n')\n",
    "\n",
    "# Преобразование каждой строки в список\n",
    "boxes_list = [line.split() for line in box_lines]\n",
    "\n",
    "# print(boxes_list)\n",
    "\n",
    "# Так как cv2 и tesseract используют разные системы координат\n",
    "height, width = gray_image.shape\n",
    "\n",
    "# Список границ таблицы\n",
    "borders = []\n",
    "\n",
    "epsilon = 10\n",
    "\n",
    "# Вывод ограничивающих рамок символов\n",
    "for box in boxes_list:\n",
    "    if box[0] == '~' and ((abs(int(box[1]) - int(box[3])) <= epsilon) or (abs(int(box[2]) - int(box[4])) <= epsilon)):\n",
    "        x, y, w, h = int(box[1]), int(box[2]), int(box[3]), int(box[4])\n",
    "        borders.append([x, y, w, h])\n",
    "        cv2.rectangle(image, (x, height - y), (w, height - h), (255, 0, 255), 1)\n",
    "\n",
    "# Отображение изображения с ограничивающими рамками символов\n",
    "cv2.imshow('Image with Character Boxes', image)\n",
    "cv2.waitKey(0)\n",
    "cv2.destroyAllWindows()"
   ],
   "metadata": {
    "collapsed": false
   }
  },
  {
   "cell_type": "markdown",
   "source": [
    "Попробуем найти координаты всех узлов таблицы, по этим узлам восстановим прямоугольники ячеек"
   ],
   "metadata": {
    "collapsed": false
   }
  },
  {
   "cell_type": "code",
   "execution_count": 17,
   "outputs": [
    {
     "name": "stdout",
     "output_type": "stream",
     "text": [
      "1 273\n",
      "482 273\n",
      "482 241\n",
      "482 188\n",
      "0 172\n",
      "482 172\n",
      "0 140\n",
      "482 140\n",
      "305 99\n",
      "0 99\n",
      "482 99\n",
      "0 59\n",
      "482 59\n",
      "0 29\n",
      "482 29\n",
      "206 7\n",
      "223 7\n",
      "0 0\n",
      "482 0\n",
      "47 270\n",
      "47 0\n",
      "47 172\n",
      "47 140\n",
      "47 99\n",
      "47 59\n",
      "47 29\n",
      "146 270\n",
      "146 0\n",
      "146 250\n",
      "146 188\n",
      "146 172\n",
      "146 140\n",
      "146 99\n",
      "146 59\n",
      "146 29\n",
      "276 270\n",
      "276 0\n",
      "276 250\n",
      "276 188\n",
      "276 172\n",
      "276 140\n",
      "276 99\n",
      "276 59\n",
      "276 29\n",
      "323 270\n",
      "323 0\n",
      "323 241\n",
      "323 226\n",
      "323 188\n",
      "323 172\n",
      "323 140\n",
      "323 99\n",
      "323 59\n",
      "323 29\n",
      "189 0\n",
      "189 250\n",
      "189 188\n",
      "189 172\n",
      "189 140\n",
      "189 99\n",
      "189 59\n",
      "189 29\n",
      "234 0\n",
      "234 250\n",
      "234 188\n",
      "234 172\n",
      "234 140\n",
      "234 99\n",
      "234 59\n",
      "234 29\n",
      "446 0\n",
      "446 241\n",
      "446 226\n",
      "446 188\n",
      "446 172\n",
      "446 140\n",
      "446 99\n",
      "446 59\n",
      "446 29\n",
      "365 0\n",
      "365 226\n",
      "365 188\n",
      "365 172\n",
      "365 140\n",
      "365 99\n",
      "365 59\n",
      "365 29\n",
      "409 0\n",
      "409 226\n",
      "409 188\n",
      "409 172\n",
      "409 140\n",
      "409 99\n",
      "409 59\n",
      "409 29\n"
     ]
    },
    {
     "ename": "error",
     "evalue": "OpenCV(4.8.0) D:\\a\\opencv-python\\opencv-python\\opencv\\modules\\highgui\\src\\window.cpp:1272: error: (-2:Unspecified error) The function is not implemented. Rebuild the library with Windows, GTK+ 2.x or Cocoa support. If you are on Ubuntu or Debian, install libgtk2.0-dev and pkg-config, then re-run cmake or configure script in function 'cvShowImage'\n",
     "output_type": "error",
     "traceback": [
      "\u001B[1;31m---------------------------------------------------------------------------\u001B[0m",
      "\u001B[1;31merror\u001B[0m                                     Traceback (most recent call last)",
      "Cell \u001B[1;32mIn[17], line 119\u001B[0m\n\u001B[0;32m    116\u001B[0m     cv2\u001B[38;5;241m.\u001B[39mrectangle(image, (x \u001B[38;5;241m-\u001B[39m \u001B[38;5;241m3\u001B[39m, height \u001B[38;5;241m-\u001B[39m y \u001B[38;5;241m-\u001B[39m \u001B[38;5;241m3\u001B[39m), (x \u001B[38;5;241m+\u001B[39m \u001B[38;5;241m3\u001B[39m, height \u001B[38;5;241m-\u001B[39m y \u001B[38;5;241m+\u001B[39m \u001B[38;5;241m3\u001B[39m), (\u001B[38;5;241m0\u001B[39m, \u001B[38;5;241m0\u001B[39m, \u001B[38;5;241m255\u001B[39m), \u001B[38;5;241m1\u001B[39m)\n\u001B[0;32m    118\u001B[0m \u001B[38;5;66;03m# Отображение изображения\u001B[39;00m\n\u001B[1;32m--> 119\u001B[0m \u001B[43mcv2\u001B[49m\u001B[38;5;241;43m.\u001B[39;49m\u001B[43mimshow\u001B[49m\u001B[43m(\u001B[49m\u001B[38;5;124;43m'\u001B[39;49m\u001B[38;5;124;43mImage\u001B[39;49m\u001B[38;5;124;43m'\u001B[39;49m\u001B[43m,\u001B[49m\u001B[43m \u001B[49m\u001B[43mimage\u001B[49m\u001B[43m)\u001B[49m\n\u001B[0;32m    120\u001B[0m cv2\u001B[38;5;241m.\u001B[39mwaitKey(\u001B[38;5;241m0\u001B[39m)\n\u001B[0;32m    121\u001B[0m cv2\u001B[38;5;241m.\u001B[39mdestroyAllWindows()\n",
      "\u001B[1;31merror\u001B[0m: OpenCV(4.8.0) D:\\a\\opencv-python\\opencv-python\\opencv\\modules\\highgui\\src\\window.cpp:1272: error: (-2:Unspecified error) The function is not implemented. Rebuild the library with Windows, GTK+ 2.x or Cocoa support. If you are on Ubuntu or Debian, install libgtk2.0-dev and pkg-config, then re-run cmake or configure script in function 'cvShowImage'\n"
     ]
    }
   ],
   "source": [
    "import itertools\n",
    "\n",
    "# Находим все вертикальные и горизонтальные линии каркаса таблицы\n",
    "vertical_lines = []\n",
    "horizontal_lines = []\n",
    "\n",
    "# Параметры допуска при котором считаем что линии ровные и пересекаются\n",
    "epsilon = 10\n",
    "\n",
    "for x1, y1, x2, y2 in borders:\n",
    "    if abs(x1 - x2) < epsilon:  # Вертикальная линия\n",
    "        vertical_lines.append((int((x1 + x2) / 2), y1, int((x1 + x2) / 2), y2))\n",
    "    elif abs(y1 - y2) < epsilon:  # Горизонтальная линия\n",
    "        horizontal_lines.append((x1, int((y1 + y2) / 2), x2, int((y1 + y2) / 2)))\n",
    "\n",
    "# Находим координаты узлов таблицы\n",
    "table_nodes = []\n",
    "# for v_line, h_line in itertools.product(vertical_lines, horizontal_lines):\n",
    "#     x, y = v_line[0], h_line[1]\n",
    "#     print(x, y)\n",
    "#     cv2.rectangle(image, (x, height - y), (x + 3, height - y + 3), (0, 0, 255), 1)\n",
    "#     table_nodes.append((x, y))\n",
    "\n",
    "for v_line, h_line in itertools.product(vertical_lines, horizontal_lines):\n",
    "    v_x1, v_y1, v_x2, v_y2 = v_line\n",
    "    h_x1, h_y1, h_x2, h_y2 = h_line\n",
    "\n",
    "    # Проверяем, пересекаются ли прямые или заканчивается ли одна из них в окрестности\n",
    "    if ((h_x1 - epsilon <= v_x1 <= h_x2 + epsilon or h_x1 - epsilon <= v_x2 <= h_x2 + epsilon) and\n",
    "        (v_y1 - epsilon <= h_y1 <= v_y2 + epsilon or v_y1 - epsilon <= h_y2 <= v_y2 + epsilon)) or (\n",
    "            abs(h_x2 - v_x1) <= epsilon and v_y1 <= h_y1 <= v_y2) or (\n",
    "            abs(h_x2 - v_x2) <= epsilon and v_y1 <= h_y1 <= v_y2) or (\n",
    "            abs(h_x1 - v_x1) <= epsilon and v_y1 <= h_y1 <= v_y2) or (\n",
    "            abs(h_x1 - v_x2) <= epsilon and v_y1 <= h_y1 <= v_y2):\n",
    "        # Добавляем координаты узла в список\n",
    "        table_nodes.append((v_x1, h_y1))\n",
    "\n",
    "    if v_x1 <= epsilon or v_y1 <= epsilon or abs(v_x1 - width) <= epsilon or abs(v_y1 - height) <= epsilon:\n",
    "        table_nodes.append((v_x1, v_y1))\n",
    "\n",
    "    if v_x2 <= epsilon or v_y2 <= epsilon or abs(v_x2 - width) <= epsilon or abs(v_y2 - height) <= epsilon:\n",
    "        table_nodes.append((v_x2, v_y2))\n",
    "\n",
    "    if h_x1 <= epsilon or h_y1 <= epsilon or abs(h_x1 - width) <= epsilon or abs(h_y1 - height) <= epsilon:\n",
    "        table_nodes.append((h_x1, h_y1))\n",
    "\n",
    "    if h_x2 <= epsilon or h_y2 <= epsilon or abs(h_x2 - width) <= epsilon or abs(h_y2 - height) <= epsilon:\n",
    "        table_nodes.append((h_x2, h_y2))\n",
    "\n",
    "# Создаем копию списка table_nodes для модификации\n",
    "modified_table_nodes = table_nodes.copy()\n",
    "\n",
    "# Проходим по каждой точке в списке table_nodes\n",
    "for i, node in enumerate(table_nodes):\n",
    "    x, y = node\n",
    "    count = 1\n",
    "    avg_x, avg_y = x, y\n",
    "\n",
    "    # Ищем точки в окрестности epsilon\n",
    "    for j, other_node in enumerate(table_nodes):\n",
    "        if i != j:  # Игнорируем текущую точку\n",
    "            other_x, other_y = other_node\n",
    "\n",
    "            # Проверяем, находится ли другая точка в окрестности epsilon\n",
    "            if abs(other_x - x) <= epsilon and abs(other_y - y) <= epsilon:\n",
    "                avg_x += other_x\n",
    "                avg_y += other_y\n",
    "                count += 1\n",
    "\n",
    "    # Если найдены точки в окрестности, заменяем текущую точку на среднее значение\n",
    "    if count > 1:\n",
    "        avg_x /= count\n",
    "        avg_y /= count\n",
    "        modified_table_nodes[i] = (int(avg_x), int(avg_y))\n",
    "\n",
    "f = True\n",
    "\n",
    "while f:\n",
    "    for i, node in enumerate(modified_table_nodes):\n",
    "        if i == len(modified_table_nodes) - 1:\n",
    "            f = False\n",
    "        else:\n",
    "            x, y = node\n",
    "            count = 1\n",
    "            indices = []\n",
    "            avg_x, avg_y = x, y\n",
    "\n",
    "            # Ищем точки в окрестности epsilon\n",
    "            for j, other_node in enumerate(modified_table_nodes):\n",
    "                if i != j:  # Игнорируем текущую точку\n",
    "                    other_x, other_y = other_node\n",
    "\n",
    "                    # Проверяем, находится ли другая точка в окрестности epsilon\n",
    "                    if abs(other_x - x) <= epsilon and abs(other_y - y) <= epsilon:\n",
    "                        avg_x += other_x\n",
    "                        avg_y += other_y\n",
    "                        count += 1\n",
    "                        indices.append(j)\n",
    "\n",
    "            # Если найдены точки в окрестности, заменяем текущую точку на среднее значение\n",
    "            if count > 1:\n",
    "                avg_x /= count\n",
    "                avg_y /= count\n",
    "                modified_table_nodes[i] = (int(avg_x), int(avg_y))\n",
    "\n",
    "            for item in sorted(indices, reverse=True):\n",
    "                modified_table_nodes.pop(item)\n",
    "\n",
    "# Заменяем исходный список table_nodes на модифицированный\n",
    "table_nodes = modified_table_nodes\n",
    "\n",
    "# Выводим координаты узлов на изображении\n",
    "for node in table_nodes:\n",
    "    x, y = node\n",
    "    print(x, y)\n",
    "    cv2.rectangle(image, (x - 3, height - y - 3), (x + 3, height - y + 3), (0, 0, 255), 1)\n",
    "\n",
    "# Отображение изображения\n",
    "cv2.imshow('Image', image)\n",
    "cv2.waitKey(0)\n",
    "cv2.destroyAllWindows()"
   ],
   "metadata": {
    "collapsed": false
   }
  },
  {
   "cell_type": "code",
   "execution_count": 18,
   "outputs": [
    {
     "name": "stdout",
     "output_type": "stream",
     "text": [
      "11 13\n",
      "[(0, 172), (0, 140), (0, 99), (0, 59), (0, 29), (0, 0), (1, 273), (47, 270), (47, 172), (47, 140), (47, 99), (47, 59), (47, 29), (47, 0), (146, 270), (146, 250), (146, 188), (146, 172), (146, 140), (146, 99), (146, 59), (146, 29), (146, 0), (189, 250), (189, 188), (189, 172), (189, 140), (189, 99), (189, 59), (189, 29), (189, 0), (206, 7), (223, 7), (234, 250), (234, 188), (234, 172), (234, 140), (234, 99), (234, 59), (234, 29), (234, 0), (276, 270), (276, 250), (276, 188), (276, 172), (276, 140), (276, 99), (276, 59), (276, 29), (276, 0), (305, 99), (323, 270), (323, 241), (323, 226), (323, 188), (323, 172), (323, 140), (323, 99), (323, 59), (323, 29), (323, 0), (365, 226), (365, 188), (365, 172), (365, 140), (365, 99), (365, 59), (365, 29), (365, 0), (409, 226), (409, 188), (409, 172), (409, 140), (409, 99), (409, 59), (409, 29), (409, 0), (446, 241), (446, 226), (446, 188), (446, 172), (446, 140), (446, 99), (446, 59), (446, 29), (446, 0), (482, 273), (482, 241), (482, 188), (482, 172), (482, 140), (482, 99), (482, 59), (482, 29), (482, 0)]\n"
     ]
    },
    {
     "ename": "error",
     "evalue": "OpenCV(4.8.0) D:\\a\\opencv-python\\opencv-python\\opencv\\modules\\highgui\\src\\window.cpp:1272: error: (-2:Unspecified error) The function is not implemented. Rebuild the library with Windows, GTK+ 2.x or Cocoa support. If you are on Ubuntu or Debian, install libgtk2.0-dev and pkg-config, then re-run cmake or configure script in function 'cvShowImage'\n",
     "output_type": "error",
     "traceback": [
      "\u001B[1;31m---------------------------------------------------------------------------\u001B[0m",
      "\u001B[1;31merror\u001B[0m                                     Traceback (most recent call last)",
      "Cell \u001B[1;32mIn[18], line 46\u001B[0m\n\u001B[0;32m     41\u001B[0m         \u001B[38;5;28;01mcontinue\u001B[39;00m\n\u001B[0;32m     42\u001B[0m \u001B[38;5;66;03m# Выведем список прямоугольников\u001B[39;00m\n\u001B[0;32m     43\u001B[0m \u001B[38;5;66;03m# print(rectangles)\u001B[39;00m\n\u001B[0;32m     44\u001B[0m \n\u001B[0;32m     45\u001B[0m \u001B[38;5;66;03m# Отображение изображения\u001B[39;00m\n\u001B[1;32m---> 46\u001B[0m \u001B[43mcv2\u001B[49m\u001B[38;5;241;43m.\u001B[39;49m\u001B[43mimshow\u001B[49m\u001B[43m(\u001B[49m\u001B[38;5;124;43m'\u001B[39;49m\u001B[38;5;124;43mImage\u001B[39;49m\u001B[38;5;124;43m'\u001B[39;49m\u001B[43m,\u001B[49m\u001B[43m \u001B[49m\u001B[43mimage\u001B[49m\u001B[43m)\u001B[49m\n\u001B[0;32m     47\u001B[0m cv2\u001B[38;5;241m.\u001B[39mwaitKey(\u001B[38;5;241m0\u001B[39m)\n\u001B[0;32m     48\u001B[0m cv2\u001B[38;5;241m.\u001B[39mdestroyAllWindows()\n",
      "\u001B[1;31merror\u001B[0m: OpenCV(4.8.0) D:\\a\\opencv-python\\opencv-python\\opencv\\modules\\highgui\\src\\window.cpp:1272: error: (-2:Unspecified error) The function is not implemented. Rebuild the library with Windows, GTK+ 2.x or Cocoa support. If you are on Ubuntu or Debian, install libgtk2.0-dev and pkg-config, then re-run cmake or configure script in function 'cvShowImage'\n"
     ]
    }
   ],
   "source": [
    "# Замена координат, отличающихся менее чем на epsilon\n",
    "rounded_nodes = np.round(np.array(table_nodes) / epsilon) * epsilon\n",
    "\n",
    "# Подсчет уникальных значений координат x и y\n",
    "unique_x = np.unique(rounded_nodes[:, 0])\n",
    "unique_y = np.unique(rounded_nodes[:, 1])\n",
    "\n",
    "# Определение числа строк и столбцов таблицы\n",
    "num_rows = len(unique_y) - 1\n",
    "num_columns = len(unique_x) - 1\n",
    "\n",
    "print(num_rows, num_columns)\n",
    "\n",
    "# Отсортируем узлы по оси x\n",
    "nodes_sorted_x = sorted(table_nodes, key=lambda x: (x[0], - x[1]))\n",
    "print(nodes_sorted_x)\n",
    "\n",
    "# Создадим список прямоугольников\n",
    "rectangles = []\n",
    "\n",
    "# Пройдем по узлам и создадим прямоугольники\n",
    "for i in range(len(nodes_sorted_x) - 1):\n",
    "    current_node = nodes_sorted_x[i]\n",
    "    if nodes_sorted_x[i + 1][0] == current_node[0]:\n",
    "        next_y_node = nodes_sorted_x[i + 1]\n",
    "    else:\n",
    "        continue\n",
    "    # Найдем узлы следующие по оси y для текущих узлов\n",
    "    next_x_nodes = [node for node in nodes_sorted_x if abs(node[1] - current_node[1]) <= epsilon and node[0] > current_node[0]]\n",
    "    for next_x_node in next_x_nodes:\n",
    "        opposite_node = (next_x_node[0], next_y_node[1])\n",
    "        for node in nodes_sorted_x:\n",
    "            if (node[0] - opposite_node[0]) <=epsilon and (node[1] - opposite_node[1]):\n",
    "                # Построим прямоугольник по найденным узлам\n",
    "                rectangle = ((current_node[0], current_node[1]), (opposite_node[0], opposite_node[1]))\n",
    "                rectangles.append(rectangle)\n",
    "                cv2.rectangle(image, (current_node[0] + 2, height - current_node[1] + 2), (opposite_node[0] - 2, height - opposite_node[1] - 2), (255, 255, 0), 1)\n",
    "            else:\n",
    "                break\n",
    "    else:\n",
    "        continue\n",
    "# Выведем список прямоугольников\n",
    "# print(rectangles)\n",
    "\n",
    "# Отображение изображения\n",
    "cv2.imshow('Image', image)\n",
    "cv2.waitKey(0)\n",
    "cv2.destroyAllWindows()"
   ],
   "metadata": {
    "collapsed": false
   }
  },
  {
   "cell_type": "code",
   "execution_count": 310,
   "outputs": [
    {
     "name": "stdout",
     "output_type": "stream",
     "text": [
      "[((0, 266), (47, 99)), ((47, 266), (146, 172)), ((146, 266), (280, 250)), ((280, 266), (323, 250)), ((323, 266), (483, 241)), ((146, 250), (189, 188)), ((189, 250), (234, 188)), ((234, 250), (280, 188)), ((323, 241), (446, 226)), ((446, 241), (483, 226)), ((323, 226), (365, 188)), ((365, 226), (409, 188)), ((409, 226), (446, 188)), ((146, 188), (189, 172)), ((189, 188), (234, 172)), ((234, 188), (276, 172)), ((276, 188), (323, 172)), ((323, 188), (365, 172)), ((365, 188), (409, 172)), ((409, 188), (446, 172)), ((446, 188), (483, 172)), ((1, 172), (47, 140)), ((47, 172), (146, 140)), ((146, 172), (189, 140)), ((189, 172), (234, 140)), ((234, 172), (276, 140)), ((276, 172), (323, 140)), ((323, 172), (365, 140)), ((365, 172), (409, 140)), ((409, 172), (446, 140)), ((446, 172), (482, 140)), ((1, 140), (47, 29)), ((47, 140), (146, 99)), ((146, 140), (189, 99)), ((189, 140), (234, 99)), ((234, 140), (276, 99)), ((276, 140), (323, 99)), ((323, 140), (365, 99)), ((365, 140), (409, 99)), ((409, 140), (446, 99)), ((446, 140), (482, 99)), ((0, 99), (47, 59)), ((47, 99), (146, 59)), ((146, 99), (189, 29)), ((189, 99), (234, 59)), ((234, 99), (276, 59)), ((276, 99), (305, 59)), ((323, 99), (365, 59)), ((365, 99), (409, 59)), ((409, 99), (446, 59)), ((446, 99), (483, 59)), ((47, 59), (149, 29)), ((189, 59), (234, 29)), ((234, 59), (276, 29)), ((276, 59), (323, 29)), ((323, 59), (365, 29)), ((365, 59), (409, 29)), ((409, 59), (446, 29)), ((446, 59), (483, 29)), ((47, 29), (146, 0)), ((146, 29), (189, 0)), ((189, 29), (234, 0)), ((234, 29), (276, 0)), ((276, 29), (323, 0)), ((323, 29), (365, 0)), ((365, 29), (409, 0)), ((409, 29), (446, 0)), ((446, 29), (482, 0))]\n"
     ]
    }
   ],
   "source": [
    "rectangles = sorted(rectangles, key=lambda x: (- x[0][1], x[0][0]))\n",
    "print(rectangles)"
   ],
   "metadata": {
    "collapsed": false
   }
  },
  {
   "cell_type": "code",
   "execution_count": 313,
   "outputs": [],
   "source": [
    "# Создание пустого DataFrame для хранения данных таблицы\n",
    "table_data = [['' for _ in range(num_columns)] for _ in range(num_rows)]\n",
    "\n",
    "# Обход прямоугольников ячеек таблицы\n",
    "for i, rectangle in enumerate(rectangles):\n",
    "    # Извлечение координат углов прямоугольника\n",
    "    x1, y1 = rectangle[0]\n",
    "    x2, y2 = rectangle[1]\n",
    "\n",
    "    # Обрезание изображения по границам ячейки\n",
    "    cell_image = image[max(0, (height - y2) - 2):min(height, (height - y1) + 2),\n",
    "                 max(0, x1 - 2):min(width, x2 + 2)]\n",
    "\n",
    "    # Russian\n",
    "    custom_config = r'--oem 1 --psm 1 -l rus'\n",
    "\n",
    "    if cell_image.shape[0] > 10 and cell_image.shape[1] > 10:\n",
    "        gray_image = cv2.cvtColor(cell_image, cv2.COLOR_BGR2GRAY)\n",
    "        _, threshold_image = cv2.threshold(gray_image, 200, 255, cv2.THRESH_BINARY)\n",
    "        # Отображение изображения\n",
    "        cv2.imshow('Image', threshold_image)\n",
    "        cv2.waitKey(0)\n",
    "        cv2.destroyAllWindows()\n",
    "\n",
    "        # Распознавание текста с помощью Tesseract\n",
    "        text = pytesseract.image_to_string(threshold_image, config=custom_config).replace('\\n', ' ')\n",
    "\n",
    "        print(text)\n",
    "\n",
    "        # Определение положения ячейки в таблице\n",
    "        row = i // num_columns\n",
    "        column = i % num_columns\n",
    "\n",
    "        # Добавление данных ячейки\n",
    "        if row < num_rows and column < num_columns:\n",
    "            table_data[row][column] = text\n",
    "\n",
    "# Вывод полученной таблицы\n",
    "df = pd.DataFrame(table_data)\n",
    "# Сохранение DataFrame в формате CSV\n",
    "df.to_csv('table.csv', index=False, header=False)"
   ],
   "metadata": {
    "collapsed": false
   }
  },
  {
   "cell_type": "code",
   "execution_count": null,
   "outputs": [],
   "source": [],
   "metadata": {
    "collapsed": false
   }
  }
 ],
 "metadata": {
  "kernelspec": {
   "display_name": "Python 3",
   "language": "python",
   "name": "python3"
  },
  "language_info": {
   "codemirror_mode": {
    "name": "ipython",
    "version": 2
   },
   "file_extension": ".py",
   "mimetype": "text/x-python",
   "name": "python",
   "nbconvert_exporter": "python",
   "pygments_lexer": "ipython2",
   "version": "2.7.6"
  }
 },
 "nbformat": 4,
 "nbformat_minor": 0
}
