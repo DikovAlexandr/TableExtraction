{
 "cells": [
  {
   "cell_type": "code",
   "execution_count": 1,
   "outputs": [
    {
     "name": "stdout",
     "output_type": "stream",
     "text": [
      "Requirement already satisfied: pytesseract in c:\\users\\dsash\\anaconda3\\lib\\site-packages (0.3.10)\n",
      "Requirement already satisfied: Pillow>=8.0.0 in c:\\users\\dsash\\anaconda3\\lib\\site-packages (from pytesseract) (9.4.0)\n",
      "Requirement already satisfied: packaging>=21.3 in c:\\users\\dsash\\anaconda3\\lib\\site-packages (from pytesseract) (23.0)\n"
     ]
    }
   ],
   "source": [
    "!pip install pytesseract"
   ],
   "metadata": {
    "collapsed": false
   }
  },
  {
   "cell_type": "code",
   "execution_count": 2,
   "outputs": [
    {
     "name": "stdout",
     "output_type": "stream",
     "text": [
      "Requirement already satisfied: opencv-python in c:\\users\\dsash\\anaconda3\\lib\\site-packages (4.7.0.72)\n",
      "Requirement already satisfied: numpy>=1.17.3 in c:\\users\\dsash\\anaconda3\\lib\\site-packages (from opencv-python) (1.24.3)\n"
     ]
    }
   ],
   "source": [
    "!pip install opencv-python"
   ],
   "metadata": {
    "collapsed": false
   }
  },
  {
   "cell_type": "code",
   "execution_count": 3,
   "outputs": [
    {
     "name": "stdout",
     "output_type": "stream",
     "text": [
      "Requirement already satisfied: pymupdf in c:\\users\\dsash\\anaconda3\\lib\\site-packages (1.22.5)\n"
     ]
    }
   ],
   "source": [
    "!pip install pymupdf"
   ],
   "metadata": {
    "collapsed": false
   }
  },
  {
   "cell_type": "code",
   "execution_count": 53,
   "outputs": [],
   "source": [
    "import os\n",
    "import cv2\n",
    "import numpy as np\n",
    "import pandas as pd\n",
    "import fitz\n",
    "import pytesseract\n",
    "from PIL import Image"
   ],
   "metadata": {
    "collapsed": false
   }
  },
  {
   "cell_type": "code",
   "execution_count": 54,
   "outputs": [],
   "source": [
    "pytesseract.pytesseract.tesseract_cmd = r'C:\\Program Files\\Tesseract-OCR\\tesseract.exe'"
   ],
   "metadata": {
    "collapsed": false
   }
  },
  {
   "cell_type": "code",
   "execution_count": 55,
   "outputs": [],
   "source": [
    "os.environ['PATH'] += r';C:\\Program Files\\Tesseract-OCR'"
   ],
   "metadata": {
    "collapsed": false
   }
  },
  {
   "cell_type": "markdown",
   "source": [
    "Проверка качества работы tesseract, просто наглядная"
   ],
   "metadata": {
    "collapsed": false
   }
  },
  {
   "cell_type": "code",
   "execution_count": 56,
   "outputs": [
    {
     "name": "stdout",
     "output_type": "stream",
     "text": [
      "Облучаемая Коэффициент риска Коэффициент риска Сумма,\n",
      "группа злокачественных наследственных х10-2 Зв-1\n",
      "населения новообразований, эффектов,\n",
      "х10-2 Зв-1 х10-2 Зв-1\n",
      "Все население 5,5 0,2 5,7\n",
      "Взрослые 4,1 0,1 4,2\n",
      "\n",
      "\n"
     ]
    }
   ],
   "source": [
    "# Test image upload\n",
    "image_path = 'image.png'\n",
    "image = Image.open(image_path)\n",
    "\n",
    "# Russian language support\n",
    "custom_config = r'--oem 1 --psm 1 -l rus'  # rus - код языка русского\n",
    "\n",
    "# Direct version of extraction\n",
    "table_text = pytesseract.image_to_string(image, config=custom_config)\n",
    "print(table_text)"
   ],
   "metadata": {
    "collapsed": false
   }
  },
  {
   "cell_type": "code",
   "execution_count": 57,
   "outputs": [
    {
     "name": "stdout",
     "output_type": "stream",
     "text": [
      "                                                   0\n",
      "0  Облучаемая Коэффициент риска Коэффициент риска...\n",
      "1   группа злокачественных наследственных х10-2 Зв-1\n",
      "2               населения новообразований, эффектов,\n",
      "3                              х10-2 Зв-1 х10-2 Зв-1\n",
      "4                          Все население 5,5 0,2 5,7\n",
      "5                               Взрослые 4,1 0,1 4,2\n",
      "6                                                   \n",
      "7                                                   \n"
     ]
    }
   ],
   "source": [
    "# Split to rows\n",
    "rows = table_text.split('\\n')\n",
    "\n",
    "# Split to elements\n",
    "table_data = [row.split('\\t') for row in rows]\n",
    "\n",
    "# Make a dataframe\n",
    "df = pd.DataFrame(table_data)\n",
    "print(df)"
   ],
   "metadata": {
    "collapsed": false
   }
  },
  {
   "cell_type": "markdown",
   "source": [
    "В результате все строки оказались в разный ячейках, хотя ячейки разделялись по другому принципу"
   ],
   "metadata": {
    "collapsed": false
   }
  },
  {
   "cell_type": "markdown",
   "source": [
    "Обобщим обработку на случай pdf файла на входе, сделаем пердобработку и выполним нарезку"
   ],
   "metadata": {
    "collapsed": false
   }
  },
  {
   "cell_type": "code",
   "execution_count": 58,
   "outputs": [],
   "source": [
    "# In case of .pdf file\n",
    "pages = []\n",
    "file = 'test.pdf'\n",
    "doc = fitz.open(file)\n",
    "for n in range(doc.page_count - 1):\n",
    "    page = doc.load_page(n)\n",
    "    pix = page.get_pixmap()\n",
    "    image = np.frombuffer(pix.samples,\n",
    "                          dtype=np.uint8).reshape(pix.h, pix.w, pix.n)\n",
    "    image = np.ascontiguousarray(image[..., [2, 1, 0]])\n",
    "    pages.append(image)"
   ],
   "metadata": {
    "collapsed": false
   }
  },
  {
   "cell_type": "code",
   "execution_count": 59,
   "outputs": [
    {
     "name": "stdout",
     "output_type": "stream",
     "text": [
      "<class 'numpy.ndarray'>\n"
     ]
    }
   ],
   "source": [
    "# Remove color info\n",
    "gray_image = image[:, :, 0]\n",
    "print(type(gray_image))"
   ],
   "metadata": {
    "collapsed": false
   }
  },
  {
   "cell_type": "code",
   "execution_count": 60,
   "outputs": [],
   "source": [
    "# Thresholding image, ret = value, thresh_value = new binary image\n",
    "ret, thresh_value = cv2.threshold(gray_image, 180, 255, cv2.THRESH_BINARY_INV)"
   ],
   "metadata": {
    "collapsed": false
   }
  },
  {
   "cell_type": "code",
   "execution_count": 61,
   "outputs": [],
   "source": [
    "# Dilating image some kind of binary blur\n",
    "kernel = np.ones((3, 3), np.uint8)\n",
    "dilated_value = cv2.dilate(thresh_value, kernel, iterations=1)"
   ],
   "metadata": {
    "collapsed": false
   }
  },
  {
   "cell_type": "code",
   "execution_count": 62,
   "outputs": [],
   "source": [
    "# Looking for contours, get list of contours and its hierarchy structure\n",
    "contours, hierarchy = cv2.findContours(dilated_value, cv2.RETR_TREE, cv2.CHAIN_APPROX_SIMPLE)"
   ],
   "metadata": {
    "collapsed": false
   }
  },
  {
   "cell_type": "code",
   "execution_count": 63,
   "outputs": [
    {
     "data": {
      "text/plain": "[(87, 82, 513, 176),\n (89, 225, 283, 31),\n (288, 232, 39, 10),\n (226, 232, 60, 10),\n (204, 232, 21, 8),\n (133, 232, 70, 10),\n (94, 229, 37, 13),\n (518, 209, 57, 15),\n (470, 209, 46, 15),\n (421, 209, 47, 15),\n (373, 209, 47, 15),\n (89, 209, 283, 15),\n (94, 212, 86, 10),\n (518, 193, 57, 15),\n (470, 193, 46, 15),\n (421, 193, 47, 15),\n (373, 193, 47, 15),\n (89, 193, 283, 15),\n (518, 176, 57, 16),\n (470, 176, 46, 16),\n (421, 176, 47, 16),\n (373, 176, 47, 16),\n (89, 176, 283, 16),\n (94, 180, 57, 10),\n (518, 160, 57, 15),\n (470, 160, 46, 15),\n (421, 160, 47, 15),\n (373, 160, 47, 15),\n (89, 160, 283, 15),\n (518, 144, 57, 15),\n (470, 144, 46, 15),\n (421, 144, 47, 15),\n (373, 144, 47, 15),\n (89, 144, 283, 15),\n (518, 128, 57, 15),\n (470, 128, 46, 15),\n (421, 128, 47, 15),\n (373, 128, 47, 15),\n (89, 128, 283, 15),\n (110, 120, 33, 7),\n (518, 111, 57, 16),\n (535, 114, 25, 11),\n (470, 111, 46, 16),\n (481, 114, 25, 11),\n (421, 111, 47, 16),\n (433, 114, 26, 11),\n (373, 111, 47, 16),\n (385, 114, 26, 11),\n (89, 111, 283, 16),\n (518, 84, 57, 26),\n (89, 84, 283, 26)]"
     },
     "execution_count": 63,
     "metadata": {},
     "output_type": "execute_result"
    }
   ],
   "source": [
    "# Extracting coordinates and filtering them empirically\n",
    "coordinates = []  # our target list of contours\n",
    "for contour in contours:\n",
    "    x, y, w, h = cv2.boundingRect(contour)  # return bounding box of contour\n",
    "    if (h > 20 or w > 20) and (w / h > 2 or h / w > 2):\n",
    "        coordinates.append((x, y, w, h))\n",
    "\n",
    "coordinates"
   ],
   "metadata": {
    "collapsed": false
   }
  },
  {
   "cell_type": "markdown",
   "source": [
    "Идея удалить символы с картинки чтобы openCV было проще находить прямые. В результате научился находить прямые через tesseract"
   ],
   "metadata": {
    "collapsed": false
   }
  },
  {
   "cell_type": "code",
   "execution_count": 64,
   "outputs": [],
   "source": [
    "# Thresholding image, ret = value, thresh_value = new binary image\n",
    "ret, thresh_value = cv2.threshold(gray_image, 180, 255, cv2.THRESH_BINARY_INV)"
   ],
   "metadata": {
    "collapsed": false
   }
  },
  {
   "cell_type": "code",
   "execution_count": 65,
   "outputs": [
    {
     "data": {
      "text/plain": "[(594, 218, 5, 3),\n (594, 186, 5, 3),\n (590, 132, 10, 9),\n (588, 114, 12, 11),\n (564, 253, 3, 3),\n (505, 252, 5, 4),\n (457, 252, 5, 4),\n (567, 248, 3, 3),\n (561, 248, 3, 3),\n (138, 248, 3, 3),\n (131, 248, 6, 3),\n (518, 225, 57, 31),\n (470, 225, 46, 31),\n (421, 225, 47, 31),\n (373, 225, 47, 31),\n (288, 232, 39, 10),\n (294, 237, 3, 3),\n (226, 232, 60, 10),\n (263, 234, 6, 3),\n (204, 232, 21, 8),\n (133, 232, 70, 10),\n (158, 235, 3, 3),\n (94, 229, 37, 13),\n (100, 234, 4, 4),\n (564, 221, 3, 3),\n (505, 221, 3, 3),\n (567, 216, 3, 3),\n (561, 216, 3, 3),\n (552, 216, 3, 3),\n (508, 216, 3, 3),\n (502, 216, 3, 3),\n (518, 209, 57, 15),\n (470, 209, 46, 15),\n (421, 209, 47, 15),\n (373, 209, 47, 15),\n (94, 212, 86, 10),\n (165, 217, 3, 3),\n (161, 217, 3, 3),\n (145, 217, 4, 3),\n (134, 217, 3, 3),\n (564, 205, 3, 3),\n (409, 205, 3, 3),\n (281, 205, 3, 3),\n (212, 205, 3, 3),\n (190, 205, 3, 3),\n (172, 205, 3, 3),\n (97, 205, 5, 3),\n (504, 204, 3, 4),\n (258, 204, 4, 4),\n (145, 203, 4, 5),\n (260, 202, 3, 3),\n (161, 202, 3, 3),\n (291, 201, 3, 3),\n (237, 201, 3, 3),\n (165, 201, 3, 3),\n (567, 200, 3, 3),\n (561, 200, 3, 3),\n (457, 199, 5, 9),\n (104, 198, 3, 3),\n (518, 193, 57, 15),\n (470, 193, 46, 15),\n (421, 193, 47, 15),\n (373, 193, 47, 15),\n (222, 201, 8, 3),\n (563, 189, 4, 3),\n (177, 189, 4, 3),\n (567, 184, 3, 3),\n (561, 184, 3, 3),\n (518, 176, 57, 16),\n (470, 176, 46, 16),\n (421, 176, 47, 16),\n (373, 176, 47, 16),\n (410, 180, 7, 10),\n (94, 180, 57, 10),\n (564, 172, 3, 3),\n (117, 172, 4, 3),\n (106, 172, 3, 3),\n (567, 167, 3, 3),\n (561, 167, 3, 3),\n (118, 165, 3, 3),\n (97, 165, 5, 10),\n (518, 160, 57, 15),\n (470, 160, 46, 15),\n (421, 160, 47, 15),\n (373, 160, 47, 15),\n (403, 156, 3, 3),\n (505, 155, 5, 4),\n (499, 154, 3, 3),\n (458, 154, 4, 3),\n (410, 154, 3, 3),\n (567, 152, 3, 3),\n (561, 152, 3, 3),\n (552, 152, 3, 3),\n (406, 152, 3, 3),\n (100, 150, 3, 5),\n (518, 144, 57, 15),\n (470, 144, 46, 15),\n (421, 144, 47, 15),\n (373, 144, 47, 15),\n (505, 140, 3, 3),\n (457, 140, 3, 3),\n (408, 140, 4, 3),\n (402, 140, 3, 3),\n (204, 140, 10, 3),\n (450, 139, 6, 4),\n (151, 138, 3, 4),\n (229, 136, 3, 3),\n (225, 136, 3, 3),\n (174, 136, 3, 3),\n (518, 128, 57, 15),\n (470, 128, 46, 15),\n (421, 128, 47, 15),\n (373, 128, 47, 15),\n (146, 124, 10, 3),\n (242, 121, 3, 3),\n (241, 120, 3, 3),\n (223, 120, 20, 7),\n (134, 120, 5, 3),\n (110, 120, 33, 7),\n (518, 111, 57, 16),\n (535, 114, 25, 11),\n (552, 119, 4, 3),\n (470, 111, 46, 16),\n (481, 114, 25, 11),\n (421, 111, 47, 16),\n (433, 114, 26, 11),\n (373, 111, 47, 16),\n (385, 114, 26, 11),\n (402, 119, 4, 3),\n (518, 84, 57, 26),\n (470, 84, 46, 26),\n (421, 84, 47, 26),\n (373, 84, 47, 26)]"
     },
     "execution_count": 65,
     "metadata": {},
     "output_type": "execute_result"
    }
   ],
   "source": [
    "# Looking for contours, get list of contours and its hierarchy structure\n",
    "contours, hierarchy = cv2.findContours(dilated_value, cv2.RETR_TREE, cv2.CHAIN_APPROX_SIMPLE)\n",
    "# Create a mask image for the characters\n",
    "mask = np.ones_like(gray_image, dtype=np.uint8) * 255\n",
    "\n",
    "# Extracting coordinates and filtering them empirically\n",
    "coordinates = []  # our target list of contours\n",
    "for contour in contours:\n",
    "    x, y, w, h = cv2.boundingRect(contour)  # return bounding box of contour\n",
    "    if h < 100 and w < 100:\n",
    "        coordinates.append((x, y, w, h))\n",
    "\n",
    "coordinates"
   ],
   "metadata": {
    "collapsed": false
   }
  },
  {
   "cell_type": "code",
   "execution_count": 66,
   "outputs": [],
   "source": [
    "# Remove color info\n",
    "gray_image = image[:, :, 0].astype(np.uint8)\n",
    "\n",
    "# Перебор координат контуров\n",
    "for (x, y, w, h) in coordinates:\n",
    "    # Отрисовка прямоугольника вокруг контура\n",
    "    cv2.rectangle(gray_image, (x, y), (x + w, y + h), (0, 255, 0), 2)\n",
    "\n",
    "# Отображение изображения с нарисованными прямоугольниками\n",
    "cv2.imshow('Image with Lines', gray_image)\n",
    "cv2.waitKey(0)\n",
    "cv2.destroyAllWindows()"
   ],
   "metadata": {
    "collapsed": false
   }
  },
  {
   "cell_type": "code",
   "execution_count": 67,
   "outputs": [
    {
     "name": "stdout",
     "output_type": "stream",
     "text": [
      "[array([[[  8,   6]],\n",
      "\n",
      "       [[  8, 176]],\n",
      "\n",
      "       [[839, 176]],\n",
      "\n",
      "       [[839,   6]]], dtype=int32)]\n"
     ]
    }
   ],
   "source": [
    "# Загрузка изображения\n",
    "image = cv2.imread('image.png')\n",
    "\n",
    "# Преобразование изображения в оттенки серого\n",
    "gray_image = cv2.cvtColor(image, cv2.COLOR_BGR2GRAY)\n",
    "\n",
    "# Адаптивная бинаризация для выделения текста\n",
    "binary_image = cv2.adaptiveThreshold(gray_image, 255, cv2.ADAPTIVE_THRESH_MEAN_C, cv2.THRESH_BINARY_INV, 11, 2)\n",
    "\n",
    "# Фильтрация контуров для удаления шумов\n",
    "contours, _ = cv2.findContours(binary_image, cv2.RETR_EXTERNAL, cv2.CHAIN_APPROX_SIMPLE)\n",
    "filtered_contours = []\n",
    "for contour in contours:\n",
    "    x, y, w, h = cv2.boundingRect(contour)\n",
    "    if w > 10 and h > 10:  # Фильтрация маленьких контуров\n",
    "        filtered_contours.append(contour)\n",
    "\n",
    "print(filtered_contours)\n",
    "\n",
    "# Создание маски для удаления текста\n",
    "mask = np.ones(gray_image.shape, dtype=np.uint8) * 255\n",
    "cv2.drawContours(mask, filtered_contours, -1, 0, thickness=cv2.FILLED)\n",
    "\n",
    "# Применение маски к исходному изображению\n",
    "result = cv2.bitwise_and(image, image, mask=mask)\n",
    "\n",
    "# Отображение результата\n",
    "cv2.imshow('Результат', result)\n",
    "cv2.waitKey(0)\n",
    "cv2.destroyAllWindows()"
   ],
   "metadata": {
    "collapsed": false
   }
  },
  {
   "cell_type": "code",
   "execution_count": 68,
   "outputs": [
    {
     "ename": "AttributeError",
     "evalue": "'Page' object has no attribute 'get_page_image_blocks'",
     "output_type": "error",
     "traceback": [
      "\u001B[1;31m---------------------------------------------------------------------------\u001B[0m",
      "\u001B[1;31mAttributeError\u001B[0m                            Traceback (most recent call last)",
      "Cell \u001B[1;32mIn[68], line 19\u001B[0m\n\u001B[0;32m     16\u001B[0m         block[\u001B[38;5;241m4\u001B[39m] \u001B[38;5;241m=\u001B[39m \u001B[38;5;124m\"\u001B[39m\u001B[38;5;124m\"\u001B[39m\n\u001B[0;32m     18\u001B[0m \u001B[38;5;66;03m# Получение списка изображений на странице\u001B[39;00m\n\u001B[1;32m---> 19\u001B[0m images \u001B[38;5;241m=\u001B[39m \u001B[43mpage\u001B[49m\u001B[38;5;241;43m.\u001B[39;49m\u001B[43mget_page_image_blocks\u001B[49m()\n\u001B[0;32m     21\u001B[0m \u001B[38;5;66;03m# Удаление изображений на странице\u001B[39;00m\n\u001B[0;32m     22\u001B[0m \u001B[38;5;28;01mfor\u001B[39;00m image \u001B[38;5;129;01min\u001B[39;00m images:\n",
      "\u001B[1;31mAttributeError\u001B[0m: 'Page' object has no attribute 'get_page_image_blocks'"
     ]
    }
   ],
   "source": [
    "# Открытие PDF-файла\n",
    "file = 'image.pdf'\n",
    "doc = fitz.open(file)\n",
    "\n",
    "# Перебор страниц PDF-файла\n",
    "for page_num in range(len(doc)):\n",
    "    page = doc[page_num]\n",
    "\n",
    "    # Получение списка блоков текста на странице\n",
    "    blocks = page.get_text(\"blocks\")\n",
    "\n",
    "    # Удаление текста из блоков\n",
    "    for block in blocks:\n",
    "        if block[4] == 0:\n",
    "            # Установка пустого текста для блока\n",
    "            block[4] = \"\"\n",
    "\n",
    "    # Получение списка изображений на странице\n",
    "    images = page.get_page_image_blocks()\n",
    "\n",
    "    # Удаление изображений на странице\n",
    "    for image in images:\n",
    "        xref = image[0]\n",
    "        page.delete_image(xref)\n",
    "\n",
    "    # Сохранение изменений в странице\n",
    "    page.update_page()\n",
    "\n",
    "# Сохранение изменений в PDF-файле\n",
    "output_file = 'квитанция_no_text.pdf'\n",
    "doc.save(output_file)\n",
    "doc.close()"
   ],
   "metadata": {
    "collapsed": false
   }
  },
  {
   "cell_type": "code",
   "execution_count": 321,
   "outputs": [],
   "source": [
    "# Загрузка изображения\n",
    "image = cv2.imread('image.png')\n",
    "\n",
    "# Преобразование изображения в оттенки серого\n",
    "gray_image = cv2.cvtColor(image, cv2.COLOR_BGR2GRAY)\n",
    "\n",
    "# Распознавание текста с помощью Tesseract\n",
    "text = pytesseract.image_to_string(gray_image, lang='rus')\n",
    "\n",
    "# Получение ограничивающих рамок символов\n",
    "boxes = pytesseract.image_to_boxes(gray_image, lang='rus')\n",
    "\n",
    "# # Вывод распознанного текста\n",
    "# print(\"Распознанный текст:\")\n",
    "# print(text)\n",
    "\n",
    "# Разделение строки на список строк\n",
    "box_lines = boxes.strip().split('\\n')\n",
    "\n",
    "# Преобразование каждой строки в список\n",
    "boxes_list = [line.split() for line in box_lines]\n",
    "\n",
    "# print(boxes_list)\n",
    "\n",
    "# Так как cv2 и tesseract используют разные системы координат\n",
    "height, width, _ = image.shape\n",
    "\n",
    "# Список границ таблицы\n",
    "borders = []\n",
    "\n",
    "# Вывод ограничивающих рамок символов\n",
    "for box in boxes_list:\n",
    "    if box[0] == '~':\n",
    "        x, y, w, h = int(box[1]), int(box[2]), int(box[3]), int(box[4])\n",
    "        borders.append([x, y, w, h])\n",
    "        # cv2.rectangle(image, (x, height - y), (w, height - h), (0, 255, 255), 1)\n",
    "\n",
    "# for box in boxes.splitlines():\n",
    "#     box = box.split(' ')\n",
    "#     x, y, w, h = int(box[1]), int(box[2]), int(box[3]), int(box[4])\n",
    "#     cv2.rectangle(image, (x, height - y), (w, height - h), (0, 0, 255), 1)\n",
    "\n",
    "# Отображение изображения с ограничивающими рамками символов\n",
    "cv2.imshow('Image with Character Boxes', image)\n",
    "cv2.waitKey(0)\n",
    "cv2.destroyAllWindows()"
   ],
   "metadata": {
    "collapsed": false
   }
  },
  {
   "cell_type": "markdown",
   "source": [
    "Удалось добиться нахождения линий в таблице, нужно понять как можно кропить изображение исходя из этого"
   ],
   "metadata": {
    "collapsed": false
   }
  },
  {
   "cell_type": "markdown",
   "source": [
    "Попробуем найти координаты всех узлов таблицы, по этим узлам восстановим прямоугольники ячеек"
   ],
   "metadata": {
    "collapsed": false
   }
  },
  {
   "cell_type": "code",
   "execution_count": 322,
   "outputs": [
    {
     "data": {
      "text/plain": "[[8, 178, 840, 179],\n [8, 65, 840, 66],\n [8, 37, 840, 38],\n [8, 8, 9, 179],\n [177, 8, 178, 179],\n [424, 8, 425, 179],\n [670, 8, 671, 179],\n [8, 8, 840, 9],\n [839, 8, 840, 179]]"
     },
     "execution_count": 322,
     "metadata": {},
     "output_type": "execute_result"
    }
   ],
   "source": [
    "borders"
   ],
   "metadata": {
    "collapsed": false
   }
  },
  {
   "cell_type": "code",
   "execution_count": 323,
   "outputs": [
    {
     "name": "stdout",
     "output_type": "stream",
     "text": [
      "Координаты узлов таблицы:\n",
      "(8, 178)\n",
      "(8, 65)\n",
      "(8, 37)\n",
      "(8, 8)\n",
      "(177, 178)\n",
      "(177, 65)\n",
      "(177, 37)\n",
      "(177, 8)\n",
      "(424, 178)\n",
      "(424, 65)\n",
      "(424, 37)\n",
      "(424, 8)\n",
      "(670, 178)\n",
      "(670, 65)\n",
      "(670, 37)\n",
      "(670, 8)\n",
      "(839, 178)\n",
      "(839, 65)\n",
      "(839, 37)\n",
      "(839, 8)\n"
     ]
    }
   ],
   "source": [
    "import itertools\n",
    "\n",
    "# Находим все вертикальные и горизонтальные линии каркаса таблицы\n",
    "vertical_lines = []\n",
    "horizontal_lines = []\n",
    "\n",
    "# Параметры допуска при котором считаем что линии ровные и пересекаются\n",
    "epsilon = 3\n",
    "\n",
    "for x1, y1, x2, y2 in borders:\n",
    "    if abs(x1 - x2) < epsilon:  # Вертикальная линия\n",
    "        vertical_lines.append((x1, y1, x2, y2))\n",
    "    elif abs(y1 - y2) < epsilon:  # Горизонтальная линия\n",
    "        horizontal_lines.append((x1, y1, x2, y2))\n",
    "\n",
    "# Находим координаты узлов таблицы\n",
    "table_nodes = []\n",
    "for v_line, h_line in itertools.product(vertical_lines, horizontal_lines):\n",
    "    x, y = v_line[0], h_line[1]\n",
    "    cv2.rectangle(image, (x, height - y), (x + 3, height - y + 3), (0, 0, 255), 1)\n",
    "    table_nodes.append((x, y))\n",
    "\n",
    "# Вывод результатов\n",
    "print(\"Координаты узлов таблицы:\")\n",
    "for node in table_nodes:\n",
    "    print(node)\n",
    "\n",
    "# print(\"Координаты ячеек таблицы:\")\n",
    "# for cell in table_cells:\n",
    "#     print(cell)\n",
    "\n",
    "# Отображение изображения\n",
    "cv2.imshow('Image', image)\n",
    "cv2.waitKey(0)\n",
    "cv2.destroyAllWindows()"
   ],
   "metadata": {
    "collapsed": false
   }
  },
  {
   "cell_type": "code",
   "execution_count": 324,
   "outputs": [
    {
     "name": "stdout",
     "output_type": "stream",
     "text": [
      "[((8, 8), (177, 37)), ((8, 37), (177, 65)), ((8, 65), (177, 178)), ((177, 8), (424, 37)), ((177, 37), (424, 65)), ((177, 65), (424, 178)), ((424, 8), (670, 37)), ((424, 37), (670, 65)), ((424, 65), (670, 178)), ((670, 8), (839, 37)), ((670, 37), (839, 65)), ((670, 65), (839, 178))]\n"
     ]
    }
   ],
   "source": [
    "# Нахождение количества уникальных значений координат x и y\n",
    "unique_x = set(x for x, y in table_nodes)\n",
    "unique_y = set(y for x, y in table_nodes)\n",
    "\n",
    "# Определение числа строк и столбцов таблицы\n",
    "num_rows = len(unique_y) - 1\n",
    "num_columns = len(unique_x) - 1\n",
    "\n",
    "# Отсортируем узлы по оси x\n",
    "nodes_sorted_x = sorted(table_nodes, key=lambda x: (x[0], x[1]))\n",
    "\n",
    "# Создадим список прямоугольников\n",
    "rectangles = []\n",
    "\n",
    "# Пройдем по узлам и создадим прямоугольники\n",
    "for i in range(len(nodes_sorted_x) - 1):\n",
    "    current_node = nodes_sorted_x[i]\n",
    "    if nodes_sorted_x[i+1][0] == current_node[0]:\n",
    "        next_y_node = nodes_sorted_x[i+1]\n",
    "    else:\n",
    "        continue\n",
    "    # Найдем узлы следующие по оси y для текущих узлов\n",
    "    next_x_nodes = [node for node in nodes_sorted_x if node[1] == current_node[1] and node[0] > current_node[0]]\n",
    "    if next_x_nodes:\n",
    "        next_x_node = min(next_x_nodes, key=lambda x: x[0])\n",
    "        opposite_node = (next_x_node[0], next_y_node[1])\n",
    "        # Построим прямоугольник по найденным узлам\n",
    "        rectangle = ((current_node[0], current_node[1]), (opposite_node[0], opposite_node[1]))\n",
    "        rectangles.append(rectangle)\n",
    "        cv2.rectangle(image, (current_node[0] + 2, height - current_node[1] + 2), (opposite_node[0] - 2, height - opposite_node[1] - 2), (255, 255, 0), 1)\n",
    "    else:\n",
    "        continue\n",
    "# Выведем список прямоугольников\n",
    "print(rectangles)\n",
    "\n",
    "# Отображение изображения\n",
    "cv2.imshow('Image', image)\n",
    "cv2.waitKey(0)\n",
    "cv2.destroyAllWindows()"
   ],
   "metadata": {
    "collapsed": false
   }
  },
  {
   "cell_type": "code",
   "execution_count": 325,
   "outputs": [
    {
     "name": "stdout",
     "output_type": "stream",
     "text": [
      "[((8, 65), (177, 178)), ((177, 65), (424, 178)), ((424, 65), (670, 178)), ((670, 65), (839, 178)), ((8, 37), (177, 65)), ((177, 37), (424, 65)), ((424, 37), (670, 65)), ((670, 37), (839, 65)), ((8, 8), (177, 37)), ((177, 8), (424, 37)), ((424, 8), (670, 37)), ((670, 8), (839, 37))]\n"
     ]
    }
   ],
   "source": [
    "rectangles = sorted(rectangles, key=lambda x: (- x[0][1], x[0][0]))\n",
    "print(rectangles)"
   ],
   "metadata": {
    "collapsed": false
   }
  },
  {
   "cell_type": "code",
   "execution_count": 326,
   "outputs": [],
   "source": [
    "# Создание пустого DataFrame для хранения данных таблицы\n",
    "table_data = [['' for _ in range(num_columns)] for _ in range(num_rows)]\n",
    "\n",
    "# Обход прямоугольников ячеек таблицы\n",
    "for i, rectangle in enumerate(rectangles):\n",
    "    # Извлечение координат углов прямоугольника\n",
    "    x1, y1 = rectangle[0]\n",
    "    x2, y2 = rectangle[1]\n",
    "\n",
    "    # Обрезание изображения по границам ячейки\n",
    "    cell_image = image[(height - y2):(height - y1), x1:x2]\n",
    "\n",
    "    # Russian\n",
    "    custom_config = r'--oem 1 --psm 1 -l rus'\n",
    "\n",
    "    # Распознавание текста с помощью Tesseract\n",
    "    text = pytesseract.image_to_string(cell_image, config=custom_config).replace('\\n', ' ')\n",
    "\n",
    "    # Определение положения ячейки в таблице\n",
    "    row = i // num_columns\n",
    "    column = i % num_columns\n",
    "\n",
    "    # Добавление данных ячейки\n",
    "    table_data[row][column] = text\n",
    "\n",
    "# Вывод полученной таблицы\n",
    "df = pd.DataFrame(table_data)\n",
    "# Сохранение DataFrame в формате CSV\n",
    "df.to_csv('table.csv', index=False, header=False)"
   ],
   "metadata": {
    "collapsed": false
   }
  },
  {
   "cell_type": "markdown",
   "source": [
    "Попробуем реализовать использование предобученной модели Faster R-CNN из библиотеки PyTorch"
   ],
   "metadata": {
    "collapsed": false
   }
  },
  {
   "cell_type": "code",
   "execution_count": 118,
   "outputs": [
    {
     "name": "stdout",
     "output_type": "stream",
     "text": [
      "Looking in indexes: https://download.pytorch.org/whl/cu117\n",
      "Requirement already satisfied: torch in c:\\users\\dsash\\anaconda3\\lib\\site-packages (2.0.1)\n",
      "Requirement already satisfied: torchvision in c:\\users\\dsash\\anaconda3\\lib\\site-packages (0.15.2)\n",
      "Collecting torchaudio\n",
      "  Downloading https://download.pytorch.org/whl/cu117/torchaudio-2.0.2%2Bcu117-cp39-cp39-win_amd64.whl (2.5 MB)\n",
      "     ---------------------------------------- 0.0/2.5 MB ? eta -:--:--\n",
      "      --------------------------------------- 0.1/2.5 MB 1.1 MB/s eta 0:00:03\n",
      "     - -------------------------------------- 0.1/2.5 MB 1.3 MB/s eta 0:00:02\n",
      "     --- ------------------------------------ 0.2/2.5 MB 1.4 MB/s eta 0:00:02\n",
      "     ---- ----------------------------------- 0.3/2.5 MB 1.6 MB/s eta 0:00:02\n",
      "     ------ --------------------------------- 0.4/2.5 MB 1.5 MB/s eta 0:00:02\n",
      "     --------- ------------------------------ 0.6/2.5 MB 1.6 MB/s eta 0:00:02\n",
      "     ------------ --------------------------- 0.8/2.5 MB 1.9 MB/s eta 0:00:01\n",
      "     ----------------- ---------------------- 1.1/2.5 MB 2.4 MB/s eta 0:00:01\n",
      "     ----------------------- ---------------- 1.5/2.5 MB 3.0 MB/s eta 0:00:01\n",
      "     -------------------------- ------------- 1.6/2.5 MB 3.3 MB/s eta 0:00:01\n",
      "     --------------------------- ------------ 1.7/2.5 MB 3.1 MB/s eta 0:00:01\n",
      "     ----------------------------- ---------- 1.8/2.5 MB 3.3 MB/s eta 0:00:01\n",
      "     ----------------------------------- ---- 2.2/2.5 MB 3.4 MB/s eta 0:00:01\n",
      "     -------------------------------------- - 2.4/2.5 MB 3.5 MB/s eta 0:00:01\n",
      "     ---------------------------------------  2.4/2.5 MB 3.4 MB/s eta 0:00:01\n",
      "     ---------------------------------------- 2.5/2.5 MB 3.3 MB/s eta 0:00:00\n",
      "Requirement already satisfied: filelock in c:\\users\\dsash\\anaconda3\\lib\\site-packages (from torch) (3.9.0)\n",
      "Requirement already satisfied: jinja2 in c:\\users\\dsash\\anaconda3\\lib\\site-packages (from torch) (3.1.2)\n",
      "Requirement already satisfied: sympy in c:\\users\\dsash\\anaconda3\\lib\\site-packages (from torch) (1.11.1)\n",
      "Requirement already satisfied: typing-extensions in c:\\users\\dsash\\anaconda3\\lib\\site-packages (from torch) (4.5.0)\n",
      "Requirement already satisfied: networkx in c:\\users\\dsash\\anaconda3\\lib\\site-packages (from torch) (2.8.4)\n",
      "Requirement already satisfied: pillow!=8.3.*,>=5.3.0 in c:\\users\\dsash\\anaconda3\\lib\\site-packages (from torchvision) (9.4.0)\n",
      "Requirement already satisfied: numpy in c:\\users\\dsash\\anaconda3\\lib\\site-packages (from torchvision) (1.24.3)\n",
      "Requirement already satisfied: requests in c:\\users\\dsash\\anaconda3\\lib\\site-packages (from torchvision) (2.29.0)\n",
      "Requirement already satisfied: MarkupSafe>=2.0 in c:\\users\\dsash\\anaconda3\\lib\\site-packages (from jinja2->torch) (2.1.1)\n",
      "Requirement already satisfied: idna<4,>=2.5 in c:\\users\\dsash\\anaconda3\\lib\\site-packages (from requests->torchvision) (3.4)\n",
      "Requirement already satisfied: urllib3<1.27,>=1.21.1 in c:\\users\\dsash\\anaconda3\\lib\\site-packages (from requests->torchvision) (1.26.15)\n",
      "Requirement already satisfied: charset-normalizer<4,>=2 in c:\\users\\dsash\\anaconda3\\lib\\site-packages (from requests->torchvision) (2.0.4)\n",
      "Requirement already satisfied: certifi>=2017.4.17 in c:\\users\\dsash\\anaconda3\\lib\\site-packages (from requests->torchvision) (2023.5.7)\n",
      "Requirement already satisfied: mpmath>=0.19 in c:\\users\\dsash\\anaconda3\\lib\\site-packages (from sympy->torch) (1.2.1)\n",
      "Installing collected packages: torchaudio\n",
      "Successfully installed torchaudio-2.0.2+cu117\n",
      "Looking in indexes: https://download.pytorch.org/whl/cu117\n",
      "Requirement already satisfied: torch in c:\\users\\dsash\\anaconda3\\lib\\site-packages (2.0.1)\n",
      "Requirement already satisfied: torchvision in c:\\users\\dsash\\anaconda3\\lib\\site-packages (0.15.2)\n",
      "Requirement already satisfied: torchaudio in c:\\users\\dsash\\anaconda3\\lib\\site-packages (2.0.2+cu117)\n",
      "Requirement already satisfied: jinja2 in c:\\users\\dsash\\anaconda3\\lib\\site-packages (from torch) (3.1.2)\n",
      "Requirement already satisfied: typing-extensions in c:\\users\\dsash\\anaconda3\\lib\\site-packages (from torch) (4.5.0)\n",
      "Requirement already satisfied: filelock in c:\\users\\dsash\\anaconda3\\lib\\site-packages (from torch) (3.9.0)\n",
      "Requirement already satisfied: sympy in c:\\users\\dsash\\anaconda3\\lib\\site-packages (from torch) (1.11.1)\n",
      "Requirement already satisfied: networkx in c:\\users\\dsash\\anaconda3\\lib\\site-packages (from torch) (2.8.4)\n",
      "Requirement already satisfied: pillow!=8.3.*,>=5.3.0 in c:\\users\\dsash\\anaconda3\\lib\\site-packages (from torchvision) (9.4.0)\n",
      "Requirement already satisfied: requests in c:\\users\\dsash\\anaconda3\\lib\\site-packages (from torchvision) (2.29.0)\n",
      "Requirement already satisfied: numpy in c:\\users\\dsash\\anaconda3\\lib\\site-packages (from torchvision) (1.24.3)\n",
      "Requirement already satisfied: MarkupSafe>=2.0 in c:\\users\\dsash\\anaconda3\\lib\\site-packages (from jinja2->torch) (2.1.1)\n",
      "Requirement already satisfied: urllib3<1.27,>=1.21.1 in c:\\users\\dsash\\anaconda3\\lib\\site-packages (from requests->torchvision) (1.26.15)\n",
      "Requirement already satisfied: charset-normalizer<4,>=2 in c:\\users\\dsash\\anaconda3\\lib\\site-packages (from requests->torchvision) (2.0.4)\n",
      "Requirement already satisfied: certifi>=2017.4.17 in c:\\users\\dsash\\anaconda3\\lib\\site-packages (from requests->torchvision) (2023.5.7)\n",
      "Requirement already satisfied: idna<4,>=2.5 in c:\\users\\dsash\\anaconda3\\lib\\site-packages (from requests->torchvision) (3.4)\n",
      "Requirement already satisfied: mpmath>=0.19 in c:\\users\\dsash\\anaconda3\\lib\\site-packages (from sympy->torch) (1.2.1)\n"
     ]
    }
   ],
   "source": [
    "!pip3 install torch torchvision torchaudio --index-url https://download.pytorch.org/whl/cu117"
   ],
   "metadata": {
    "collapsed": false
   }
  },
  {
   "cell_type": "code",
   "execution_count": 119,
   "outputs": [
    {
     "name": "stdout",
     "output_type": "stream",
     "text": [
      "Requirement already satisfied: torchvision in c:\\users\\dsash\\anaconda3\\lib\\site-packages (0.15.2)\n",
      "Requirement already satisfied: requests in c:\\users\\dsash\\anaconda3\\lib\\site-packages (from torchvision) (2.29.0)\n",
      "Requirement already satisfied: torch==2.0.1 in c:\\users\\dsash\\anaconda3\\lib\\site-packages (from torchvision) (2.0.1)\n",
      "Requirement already satisfied: pillow!=8.3.*,>=5.3.0 in c:\\users\\dsash\\anaconda3\\lib\\site-packages (from torchvision) (9.4.0)\n",
      "Requirement already satisfied: numpy in c:\\users\\dsash\\anaconda3\\lib\\site-packages (from torchvision) (1.24.3)\n",
      "Requirement already satisfied: jinja2 in c:\\users\\dsash\\anaconda3\\lib\\site-packages (from torch==2.0.1->torchvision) (3.1.2)\n",
      "Requirement already satisfied: networkx in c:\\users\\dsash\\anaconda3\\lib\\site-packages (from torch==2.0.1->torchvision) (2.8.4)\n",
      "Requirement already satisfied: filelock in c:\\users\\dsash\\anaconda3\\lib\\site-packages (from torch==2.0.1->torchvision) (3.9.0)\n",
      "Requirement already satisfied: sympy in c:\\users\\dsash\\anaconda3\\lib\\site-packages (from torch==2.0.1->torchvision) (1.11.1)\n",
      "Requirement already satisfied: typing-extensions in c:\\users\\dsash\\anaconda3\\lib\\site-packages (from torch==2.0.1->torchvision) (4.5.0)\n",
      "Requirement already satisfied: charset-normalizer<4,>=2 in c:\\users\\dsash\\anaconda3\\lib\\site-packages (from requests->torchvision) (2.0.4)\n",
      "Requirement already satisfied: certifi>=2017.4.17 in c:\\users\\dsash\\anaconda3\\lib\\site-packages (from requests->torchvision) (2023.5.7)\n",
      "Requirement already satisfied: urllib3<1.27,>=1.21.1 in c:\\users\\dsash\\anaconda3\\lib\\site-packages (from requests->torchvision) (1.26.15)\n",
      "Requirement already satisfied: idna<4,>=2.5 in c:\\users\\dsash\\anaconda3\\lib\\site-packages (from requests->torchvision) (3.4)\n",
      "Requirement already satisfied: MarkupSafe>=2.0 in c:\\users\\dsash\\anaconda3\\lib\\site-packages (from jinja2->torch==2.0.1->torchvision) (2.1.1)\n",
      "Requirement already satisfied: mpmath>=0.19 in c:\\users\\dsash\\anaconda3\\lib\\site-packages (from sympy->torch==2.0.1->torchvision) (1.2.1)\n"
     ]
    }
   ],
   "source": [
    "!pip install torchvision"
   ],
   "metadata": {
    "collapsed": false
   }
  },
  {
   "cell_type": "code",
   "execution_count": 121,
   "outputs": [],
   "source": [
    "import torch\n",
    "import torchvision.transforms as T\n",
    "from torchvision.models.detection import fasterrcnn_resnet50_fpn"
   ],
   "metadata": {
    "collapsed": false
   }
  },
  {
   "cell_type": "code",
   "execution_count": 318,
   "outputs": [
    {
     "name": "stderr",
     "output_type": "stream",
     "text": [
      "C:\\Users\\dsash\\anaconda3\\lib\\site-packages\\torchvision\\models\\_utils.py:208: UserWarning: The parameter 'pretrained' is deprecated since 0.13 and may be removed in the future, please use 'weights' instead.\n",
      "  warnings.warn(\n",
      "C:\\Users\\dsash\\anaconda3\\lib\\site-packages\\torchvision\\models\\_utils.py:223: UserWarning: Arguments other than a weight enum or `None` for 'weights' are deprecated since 0.13 and may be removed in the future. The current behavior is equivalent to passing `weights=FasterRCNN_ResNet50_FPN_Weights.COCO_V1`. You can also use `weights=FasterRCNN_ResNet50_FPN_Weights.DEFAULT` to get the most up-to-date weights.\n",
      "  warnings.warn(msg)\n"
     ]
    },
    {
     "name": "stdout",
     "output_type": "stream",
     "text": [
      "[[  4.290927   3.394928 667.       500.      ]\n",
      " [ 75.90003   60.410442 625.97394  367.51984 ]\n",
      " [ 63.929653  79.68498  652.075    483.5864  ]\n",
      " [194.80998  182.87263  473.1652   307.17676 ]\n",
      " [624.4921   253.49231  667.       492.4429  ]\n",
      " [  0.         0.       657.91565  492.25204 ]\n",
      " [163.79936  174.73889  607.1173   433.4969  ]\n",
      " [186.6341   187.74106  493.10522  314.219   ]\n",
      " [ 21.250586  21.610126 667.       410.21164 ]\n",
      " [187.76561  177.6604   480.0733   306.7911  ]] \n",
      " [0.6331893  0.23897716 0.23883979 0.23732723 0.18757753 0.09228417\n",
      " 0.06669509 0.05970583 0.05906027 0.05566414]\n",
      "Координаты ячейки: (4.290926933288574, 3.394927978515625) - (667.0, 500.0)\n"
     ]
    }
   ],
   "source": [
    "# Загрузка предобученной модели Faster R-CNN\n",
    "model = fasterrcnn_resnet50_fpn(pretrained=True)\n",
    "\n",
    "# Перевод модели в режим оценки\n",
    "model.eval()\n",
    "\n",
    "# Загрузка изображения с таблицей\n",
    "image = Image.open('eye.jpg')\n",
    "\n",
    "# Преобразование изображения в тензор\n",
    "transform = T.ToTensor()\n",
    "image_tensor = transform(image)\n",
    "\n",
    "# Добавление размерности пакета (batch dimension)\n",
    "image_tensor = image_tensor.unsqueeze(0)\n",
    "\n",
    "# Передача изображения через модель для обнаружения объектов\n",
    "with torch.no_grad():\n",
    "    predictions = model(image_tensor)\n",
    "\n",
    "# Получение результатов обнаружения\n",
    "boxes = predictions[0]['boxes'].cpu().numpy()  # Координаты ограничивающих прямоугольников ячеек\n",
    "scores = predictions[0]['scores'].cpu().numpy()  # Уверенность в обнаружении ячеек\n",
    "\n",
    "print(boxes, '\\n', scores)\n",
    "\n",
    "# Фильтрация результатов по уверенности\n",
    "confidence_threshold = 0.5\n",
    "filtered_boxes = boxes[scores >= confidence_threshold]\n",
    "\n",
    "# Вывод координат ограничивающих прямоугольников ячеек\n",
    "for box in filtered_boxes:\n",
    "    x1, y1, x2, y2 = box\n",
    "    print(f'Координаты ячейки: ({x1}, {y1}) - ({x2}, {y2})')"
   ],
   "metadata": {
    "collapsed": false
   }
  },
  {
   "cell_type": "markdown",
   "source": [
    "Пока не решена проблема пустых списков"
   ],
   "metadata": {
    "collapsed": false
   }
  },
  {
   "cell_type": "code",
   "execution_count": 319,
   "outputs": [
    {
     "name": "stdout",
     "output_type": "stream",
     "text": [
      "Bounding Box: [  4.290927   3.394928 667.       500.      ]\n",
      "Confidence Score: 0.6331893\n",
      "Label: 65\n",
      "----------------------\n",
      "Bounding Box: [ 75.90003   60.410442 625.97394  367.51984 ]\n",
      "Confidence Score: 0.23897716\n",
      "Label: 17\n",
      "----------------------\n",
      "Bounding Box: [ 63.929653  79.68498  652.075    483.5864  ]\n",
      "Confidence Score: 0.23883979\n",
      "Label: 1\n",
      "----------------------\n",
      "Bounding Box: [194.80998 182.87263 473.1652  307.17676]\n",
      "Confidence Score: 0.23732723\n",
      "Label: 17\n",
      "----------------------\n",
      "Bounding Box: [624.4921  253.49231 667.      492.4429 ]\n",
      "Confidence Score: 0.18757753\n",
      "Label: 1\n",
      "----------------------\n",
      "Bounding Box: [  0.        0.      657.91565 492.25204]\n",
      "Confidence Score: 0.09228417\n",
      "Label: 3\n",
      "----------------------\n",
      "Bounding Box: [163.79936 174.73889 607.1173  433.4969 ]\n",
      "Confidence Score: 0.06669509\n",
      "Label: 1\n",
      "----------------------\n",
      "Bounding Box: [186.6341  187.74106 493.10522 314.219  ]\n",
      "Confidence Score: 0.059705827\n",
      "Label: 1\n",
      "----------------------\n",
      "Bounding Box: [ 21.250586  21.610126 667.       410.21164 ]\n",
      "Confidence Score: 0.05906027\n",
      "Label: 23\n",
      "----------------------\n",
      "Bounding Box: [187.76561 177.6604  480.0733  306.7911 ]\n",
      "Confidence Score: 0.05566414\n",
      "Label: 18\n",
      "----------------------\n"
     ]
    }
   ],
   "source": [
    "import torch\n",
    "import torchvision\n",
    "from torchvision.models.detection import FasterRCNN\n",
    "from torchvision.transforms import functional as F\n",
    "\n",
    "# Загрузка предобученной модели Faster R-CNN\n",
    "model = torchvision.models.detection.fasterrcnn_resnet50_fpn(pretrained=True)\n",
    "\n",
    "# Задание режима модели в режим вывода\n",
    "model.eval()\n",
    "\n",
    "# Загрузка изображения\n",
    "image = Image.open('eye.jpg')\n",
    "\n",
    "# Преобразование изображения в тензор\n",
    "input_tensor = F.to_tensor(image)\n",
    "\n",
    "# Добавление дополнительной размерности\n",
    "input_tensor = torch.unsqueeze(input_tensor, 0)\n",
    "\n",
    "# Получение предсказаний модели\n",
    "with torch.no_grad():\n",
    "    predictions = model(input_tensor)\n",
    "\n",
    "# Обработка предсказаний\n",
    "boxes = predictions[0]['boxes'].cpu().numpy()\n",
    "scores = predictions[0]['scores'].cpu().numpy()\n",
    "labels = predictions[0]['labels'].cpu().numpy()\n",
    "\n",
    "image = cv2.imread('eye.jpg')\n",
    "height, width, _ = image.shape\n",
    "\n",
    "# Вывод результатов\n",
    "for box, score, label in zip(boxes, scores, labels):\n",
    "    print('Bounding Box:', box)\n",
    "    x, y, w, h = [int(x) for x in box]\n",
    "    print('Confidence Score:', score)\n",
    "    print('Label:', label)\n",
    "    print('----------------------')\n",
    "    cv2.rectangle(image, (x, height -  y), (w, height - h), (0, 0, 255), 1)\n",
    "\n",
    "cv2.imshow('Image', image)\n",
    "cv2.waitKey(0)\n",
    "cv2.destroyAllWindows()"
   ],
   "metadata": {
    "collapsed": false
   }
  },
  {
   "cell_type": "markdown",
   "source": [
    "По пока не понятным мне причинам Faster R-CNN хорошо распознает объекты реального мира, но не воспринимает таблицы"
   ],
   "metadata": {
    "collapsed": false
   }
  },
  {
   "cell_type": "code",
   "execution_count": 176,
   "outputs": [
    {
     "name": "stderr",
     "output_type": "stream",
     "text": [
      "C:\\Users\\dsash\\anaconda3\\lib\\site-packages\\torchvision\\models\\_utils.py:223: UserWarning: Arguments other than a weight enum or `None` for 'weights' are deprecated since 0.13 and may be removed in the future. The current behavior is equivalent to passing `weights=SSDLite320_MobileNet_V3_Large_Weights.COCO_V1`. You can also use `weights=SSDLite320_MobileNet_V3_Large_Weights.DEFAULT` to get the most up-to-date weights.\n",
      "  warnings.warn(msg)\n"
     ]
    },
    {
     "name": "stdout",
     "output_type": "stream",
     "text": [
      "[[  9.487405  20.090921 664.7107   501.00116 ]\n",
      " [ 11.051949   9.414893 674.3935   518.10156 ]\n",
      " [381.91617  418.6652   413.17334  451.0445  ]\n",
      " ...\n",
      " [188.25041  100.843376 280.07553  157.37564 ]\n",
      " [411.09344  414.08173  532.382    456.8201  ]\n",
      " [347.21545   46.968636 509.9813    95.19943 ]]\n"
     ]
    }
   ],
   "source": [
    "import torch\n",
    "import torchvision.transforms as transforms\n",
    "from torchvision.models.detection import ssdlite320_mobilenet_v3_large\n",
    "\n",
    "# Загрузка предобученной модели SSD\n",
    "model = ssdlite320_mobilenet_v3_large(pretrained=True)\n",
    "\n",
    "# Установка режима оценки модели\n",
    "model.eval()\n",
    "\n",
    "# Загрузка изображения\n",
    "image = Image.open('test1.jpg')\n",
    "\n",
    "# Преобразование изображения в тензор и нормализация\n",
    "transform = transforms.Compose([\n",
    "    transforms.ToTensor(),\n",
    "    transforms.Normalize(mean=[0.485, 0.456, 0.406], std=[0.229, 0.224, 0.225])\n",
    "])\n",
    "image_tensor = transform(image)\n",
    "image_tensor = image_tensor.unsqueeze(0)  # Добавление размерности пакета\n",
    "\n",
    "# Предсказание с помощью модели\n",
    "with torch.no_grad():\n",
    "    outputs = model(image_tensor)\n",
    "\n",
    "# Извлечение координат ограничивающих рамок и вероятностей объектов\n",
    "boxes = outputs[0]['boxes'].numpy()\n",
    "scores = outputs[0]['scores'].numpy()\n",
    "\n",
    "print(boxes)\n",
    "\n",
    "image = cv2.imread('test1.jpg')\n",
    "\n",
    "# Вывод обнаруженных объектов с порогом вероятности\n",
    "threshold = 0.1\n",
    "for box, score in zip(boxes, scores):\n",
    "    if score > threshold:\n",
    "        x, y, w, h = [int(x) for x in box]\n",
    "        cv2.rectangle(image, (x, y), (w, h), (0, 0, 255), 1)\n",
    "\n",
    "# Отображение изображения с обнаруженными объектами\n",
    "cv2.imshow('Image with Objects', image)\n",
    "cv2.waitKey(0)\n",
    "cv2.destroyAllWindows()"
   ],
   "metadata": {
    "collapsed": false
   }
  },
  {
   "cell_type": "markdown",
   "source": [
    "SSD так же не справилась с нахождением ячеек таблицы"
   ],
   "metadata": {
    "collapsed": false
   }
  },
  {
   "cell_type": "code",
   "execution_count": 164,
   "outputs": [
    {
     "name": "stderr",
     "output_type": "stream",
     "text": [
      "ERROR: Could not find a version that satisfies the requirement pydarknet (from versions: none)\n",
      "ERROR: No matching distribution found for pydarknet\n"
     ]
    }
   ],
   "source": [
    "!pip install pydarknet"
   ],
   "metadata": {
    "collapsed": false
   }
  },
  {
   "cell_type": "code",
   "execution_count": 163,
   "outputs": [
    {
     "ename": "ModuleNotFoundError",
     "evalue": "No module named 'pydarknet'",
     "output_type": "error",
     "traceback": [
      "\u001B[1;31m---------------------------------------------------------------------------\u001B[0m",
      "\u001B[1;31mModuleNotFoundError\u001B[0m                       Traceback (most recent call last)",
      "Cell \u001B[1;32mIn[163], line 2\u001B[0m\n\u001B[0;32m      1\u001B[0m \u001B[38;5;28;01mimport\u001B[39;00m \u001B[38;5;21;01mcv2\u001B[39;00m\n\u001B[1;32m----> 2\u001B[0m \u001B[38;5;28;01mfrom\u001B[39;00m \u001B[38;5;21;01mpydarknet\u001B[39;00m \u001B[38;5;28;01mimport\u001B[39;00m Detector, Image\n\u001B[0;32m      4\u001B[0m \u001B[38;5;66;03m# Загрузка конфигурационного файла и весов модели YOLO\u001B[39;00m\n\u001B[0;32m      5\u001B[0m config_file \u001B[38;5;241m=\u001B[39m \u001B[38;5;124m\"\u001B[39m\u001B[38;5;124myolov4.cfg\u001B[39m\u001B[38;5;124m\"\u001B[39m\n",
      "\u001B[1;31mModuleNotFoundError\u001B[0m: No module named 'pydarknet'"
     ]
    }
   ],
   "source": [
    "import cv2\n",
    "from pydarknet import Detector, Image\n",
    "\n",
    "# Загрузка конфигурационного файла и весов модели YOLO\n",
    "config_file = \"yolov4.cfg\"\n",
    "weight_file = \"yolov4.weights\"\n",
    "data_file = \"coco.data\"\n",
    "\n",
    "# Создание экземпляра детектора YOLO\n",
    "net = Detector(bytes(config_file, encoding=\"utf-8\"),\n",
    "               bytes(weight_file, encoding=\"utf-8\"),\n",
    "               0,\n",
    "               bytes(data_file, encoding=\"utf-8\"))\n",
    "\n",
    "# Загрузка изображения\n",
    "image = cv2.imread('image.jpg')\n",
    "\n",
    "# Преобразование изображения в формат, поддерживаемый YOLO\n",
    "darknet_image = Image(image)\n",
    "\n",
    "# Обнаружение объектов на изображении\n",
    "results = net.detect(darknet_image)\n",
    "\n",
    "# Итерация по результатам обнаружения\n",
    "for cat, score, bounds in results:\n",
    "    x, y, w, h = bounds\n",
    "\n",
    "    # Отрисовка ограничивающей рамки и метки объекта\n",
    "    cv2.rectangle(image, (int(x - w/2), int(y - h/2)), (int(x + w/2), int(y + h/2)), (0, 255, 0), 2)\n",
    "    cv2.putText(image, cat.decode(\"utf-8\"), (int(x - w/2), int(y - h/2 - 10)),\n",
    "                cv2.FONT_HERSHEY_SIMPLEX, 0.5, (0, 255, 0), 2)\n",
    "\n",
    "# Отображение изображения с обнаруженными объектами\n",
    "cv2.imshow('Image with Objects', image)\n",
    "cv2.waitKey(0)\n",
    "cv2.destroyAllWindows()"
   ],
   "metadata": {
    "collapsed": false
   }
  },
  {
   "cell_type": "markdown",
   "source": [
    "YOLO заставить работать не получилось"
   ],
   "metadata": {
    "collapsed": false
   }
  },
  {
   "cell_type": "code",
   "execution_count": 178,
   "outputs": [
    {
     "name": "stdout",
     "output_type": "stream",
     "text": [
      "tensor([[339.0235, 112.6919, 629.4863, 470.6991],\n",
      "        [ 84.0650,  71.8075, 638.3114, 481.7713],\n",
      "        [337.6313, 162.4893, 643.6937, 472.9701]])\n"
     ]
    }
   ],
   "source": [
    "import torch\n",
    "import torchvision\n",
    "from torchvision.models.detection import retinanet\n",
    "from torchvision.transforms import functional as F\n",
    "import cv2\n",
    "\n",
    "# Загрузка предобученной модели RetinaNet\n",
    "model = torchvision.models.detection.retinanet_resnet50_fpn(pretrained=True)\n",
    "model.eval()\n",
    "\n",
    "# Загрузка классов объектов\n",
    "class_labels = [\"class_0\", \"class_1\", \"class_2\"]  # Замените на свои классы объектов\n",
    "\n",
    "# Загрузка изображения\n",
    "image = cv2.imread('test1.jpg')\n",
    "height, width, _ = image.shape\n",
    "\n",
    "image_tensor = F.to_tensor(image)\n",
    "\n",
    "# Предобработка изображения\n",
    "input_image = image_tensor.unsqueeze(0)\n",
    "\n",
    "# Получение предсказаний модели\n",
    "with torch.no_grad():\n",
    "    prediction = model(input_image)\n",
    "\n",
    "# Извлечение координат, меток классов и вероятностей\n",
    "boxes = prediction[0]['boxes']\n",
    "print(boxes)\n",
    "labels = prediction[0]['labels']\n",
    "scores = prediction[0]['scores']\n",
    "\n",
    "# Отрисовка ограничивающих рамок и меток\n",
    "for box in boxes:\n",
    "    x1, y1, x2, y2 = box.tolist()\n",
    "    cv2.rectangle(image, (int(x1), height - int(y1)), (int(x2), height - int(y2)), (0, 255, 0), 2)\n",
    "\n",
    "# Отображение изображения с обнаруженными объектами\n",
    "cv2.imshow('Image with Objects', image)\n",
    "cv2.waitKey(0)\n",
    "cv2.destroyAllWindows()"
   ],
   "metadata": {
    "collapsed": false
   }
  },
  {
   "cell_type": "markdown",
   "source": [
    "RetinaNet находит какие-то объекты, но не корректно"
   ],
   "metadata": {
    "collapsed": false
   }
  },
  {
   "cell_type": "markdown",
   "source": [
    "Из теста этих нейронных сетей можно сделать вывод что с таблицами они работают плохо и требуют значительного дообучения"
   ],
   "metadata": {
    "collapsed": false
   }
  },
  {
   "cell_type": "markdown",
   "source": [
    "Для выделения таблицы из корпуса текста попробуем использовать cv2 с такими настройками"
   ],
   "metadata": {
    "collapsed": false
   }
  },
  {
   "cell_type": "code",
   "execution_count": 332,
   "outputs": [],
   "source": [
    "import cv2\n",
    "import numpy as np\n",
    "\n",
    "# Загрузка изображения\n",
    "image = cv2.imread('in_context.jpg')\n",
    "\n",
    "# Преобразование изображения в оттенки серого\n",
    "gray_image = cv2.cvtColor(image, cv2.COLOR_BGR2GRAY)\n",
    "\n",
    "# Применение порогового преобразования для бинаризации изображения\n",
    "ret, threshold_image = cv2.threshold(gray_image, 0, 255, cv2.THRESH_BINARY_INV + cv2.THRESH_OTSU)\n",
    "\n",
    "# Применение морфологического преобразования для удаления шума и замыкания линий\n",
    "kernel = np.ones((5, 5), np.uint8)\n",
    "morph_image = cv2.morphologyEx(threshold_image, cv2.MORPH_CLOSE, kernel)\n",
    "\n",
    "# Нахождение контуров на изображении\n",
    "contours, hierarchy = cv2.findContours(morph_image, cv2.RETR_EXTERNAL, cv2.CHAIN_APPROX_SIMPLE)\n",
    "\n",
    "# Создание списка координат ограничивающих рамок ячеек\n",
    "cell_boxes = []\n",
    "\n",
    "# Фильтрация контуров и определение ограничивающих рамок ячеек\n",
    "for contour in contours:\n",
    "    # Определение площади контура\n",
    "    area = cv2.contourArea(contour)\n",
    "\n",
    "    # Фильтрация контуров по площади\n",
    "    if area > 3000:\n",
    "        # Определение ограничивающей рамки контура\n",
    "        x, y, w, h = cv2.boundingRect(contour)\n",
    "\n",
    "        # Добавление ограничивающей рамки в список\n",
    "        cell_boxes.append((x, y, x + w, y + h))\n",
    "\n",
    "# Вывод координат ограничивающих рамок ячеек\n",
    "for box in cell_boxes:\n",
    "    x1, y1, x2, y2 = box\n",
    "    cv2.rectangle(image, (x1, y1), (x2, y2), (0, 255, 0), 2)\n",
    "\n",
    "# Отображение изображения с выделенными ячейками\n",
    "cv2.imshow('Image with Cells', image)\n",
    "cv2.waitKey(0)\n",
    "cv2.destroyAllWindows()"
   ],
   "metadata": {
    "collapsed": false
   }
  },
  {
   "cell_type": "markdown",
   "source": [
    "Зная координаты всех букв можно попытаться их кластеризовать. Попробуем DBSCAN"
   ],
   "metadata": {
    "collapsed": false
   }
  },
  {
   "cell_type": "code",
   "execution_count": null,
   "outputs": [],
   "source": [
    "from sklearn.cluster import DBSCAN\n",
    "\n",
    "# Предположим, что у нас есть список координат всех букв на изображении\n",
    "letter_coordinates = []\n",
    "\n",
    "# Создаем экземпляр алгоритма DBSCAN\n",
    "dbscan = DBSCAN(eps=10, min_samples=2)  # Параметры eps и min_samples нужно настроить под конкретную задачу\n",
    "\n",
    "# Применяем алгоритм DBSCAN к координатам букв\n",
    "clusters = dbscan.fit_predict(letter_coordinates)\n",
    "\n",
    "# Выводим результаты\n",
    "for label in set(clusters):\n",
    "    cluster_points = [coord for coord, cluster_label in zip(letter_coordinates, clusters) if cluster_label == label]\n",
    "    print(f\"Cluster {label}: {cluster_points}\")"
   ],
   "metadata": {
    "collapsed": false
   }
  },
  {
   "cell_type": "markdown",
   "source": [
    "Алгоритмы кластеризации типа DBSCAN или Ланса-Уильямса дают плохую точность из-за неоднородной плотности таблиц"
   ],
   "metadata": {
    "collapsed": false
   }
  },
  {
   "cell_type": "markdown",
   "source": [
    "Самое первое решение через нарезку изображения"
   ],
   "metadata": {
    "collapsed": false
   }
  },
  {
   "cell_type": "code",
   "execution_count": 82,
   "outputs": [],
   "source": [
    "# Remove color info\n",
    "gray_image = image[:, :, 0].astype(np.uint8)\n",
    "\n",
    "# Перебор координат контуров\n",
    "for (x, y, w, h) in coordinates:\n",
    "    # Отрисовка прямоугольника вокруг контура\n",
    "    cv2.rectangle(gray_image, (x, y), (x + w, y + h), (0, 255, 0), 2)\n",
    "\n",
    "# Отображение изображения с нарисованными прямоугольниками\n",
    "cv2.imshow('Image with Lines', gray_image)\n",
    "cv2.waitKey(0)\n",
    "cv2.destroyAllWindows()"
   ],
   "metadata": {
    "collapsed": false
   }
  },
  {
   "cell_type": "code",
   "execution_count": 57,
   "outputs": [],
   "source": [
    "# Thresholding image, ret = value, thresh_value = new binary image\n",
    "ret, thresh_value = cv2.threshold(gray_image, 180, 255, cv2.THRESH_BINARY_INV)\n",
    "\n",
    "# Dilating image some kind of binary blur\n",
    "kernel = np.ones((2, 2), np.uint8)\n",
    "dilated_value = cv2.dilate(thresh_value, kernel, iterations=2)"
   ],
   "metadata": {
    "collapsed": false
   }
  },
  {
   "cell_type": "code",
   "execution_count": 58,
   "outputs": [],
   "source": [
    "cv2.imshow('Image with Lines', dilated_value)\n",
    "cv2.waitKey(0)\n",
    "cv2.destroyAllWindows()"
   ],
   "metadata": {
    "collapsed": false
   }
  },
  {
   "cell_type": "code",
   "execution_count": 226,
   "outputs": [
    {
     "data": {
      "text/plain": "['Облучаемая | Коэффициент риска | Коэффициент риска ‘Сумма, группа злокачественных наследственных х10-2 Зв-1 населения новообразований, эффектов, х10-2 38-1 х10-2 Зв-1 Все население. 55 02 57 Взрослые 41 ол 4.2  ',\n \"'Облучаемая  группа населения  \",\n 'Коэффициент риска злокачественных новообразований,  х10-2 Зв-1  ',\n 'Коэффициент риска  наследственных  эффектов, х10-2 Зв-1  ',\n '‘Сумма, х10-2 Зв-1  ',\n 'Все население ',\n '',\n '',\n '',\n 'Взрослые ',\n '',\n '0,1 ',\n '']"
     },
     "execution_count": 226,
     "metadata": {},
     "output_type": "execute_result"
    }
   ],
   "source": [
    "recognized_table = row = []\n",
    "prev_y = 0\n",
    "coordinates.sort()  #sort by x\n",
    "coordinates.sort(key=lambda x: x[1])  # sort by y\n",
    "for coord in coordinates:\n",
    "    x, y, w, h = coord\n",
    "    if y > prev_y + 100:  #new row if y is changed\n",
    "        recognized_table.append(row)\n",
    "        row = []\n",
    "    crop_img = image[y:y + h, x:x + w]\n",
    "    custom_config = r'--oem 1 --psm 1 -l rus'  # rus - код языка русского\n",
    "    recognized_string = pytesseract.image_to_string(crop_img, config=custom_config)\n",
    "    row.append(recognized_string.replace(\"\\n\", \" \"))\n",
    "    prev_y = y\n",
    "\n",
    "recognized_table"
   ],
   "metadata": {
    "collapsed": false
   }
  },
  {
   "cell_type": "markdown",
   "source": [
    "Сгенерируем датасет для оценки качества выполнения задачи. Возможно дообучим pytorch nn. Надо доработать генератор с учетом специфики конкретных таблиц ГОСТа"
   ],
   "metadata": {
    "collapsed": false
   }
  },
  {
   "cell_type": "code",
   "execution_count": 1,
   "outputs": [
    {
     "name": "stdout",
     "output_type": "stream",
     "text": [
      "Collecting tabula-py\n",
      "  Downloading tabula_py-2.7.0-py3-none-any.whl (12.0 MB)\n",
      "     ---------------------------------------- 0.0/12.0 MB ? eta -:--:--\n",
      "     ---------------------------------------- 0.0/12.0 MB 1.3 MB/s eta 0:00:10\n",
      "     ---------------------------------------- 0.1/12.0 MB 1.3 MB/s eta 0:00:10\n",
      "      --------------------------------------- 0.2/12.0 MB 1.8 MB/s eta 0:00:07\n",
      "      --------------------------------------- 0.3/12.0 MB 1.7 MB/s eta 0:00:07\n",
      "     - -------------------------------------- 0.4/12.0 MB 1.9 MB/s eta 0:00:07\n",
      "     - -------------------------------------- 0.5/12.0 MB 1.7 MB/s eta 0:00:07\n",
      "     - -------------------------------------- 0.6/12.0 MB 1.7 MB/s eta 0:00:07\n",
      "     -- ------------------------------------- 0.7/12.0 MB 1.9 MB/s eta 0:00:07\n",
      "     --- ------------------------------------ 0.9/12.0 MB 2.2 MB/s eta 0:00:06\n",
      "     --- ------------------------------------ 1.1/12.0 MB 2.2 MB/s eta 0:00:06\n",
      "     --- ------------------------------------ 1.2/12.0 MB 2.2 MB/s eta 0:00:05\n",
      "     ---- ----------------------------------- 1.3/12.0 MB 2.3 MB/s eta 0:00:05\n",
      "     ---- ----------------------------------- 1.5/12.0 MB 2.3 MB/s eta 0:00:05\n",
      "     ----- ---------------------------------- 1.6/12.0 MB 2.3 MB/s eta 0:00:05\n",
      "     ----- ---------------------------------- 1.6/12.0 MB 2.3 MB/s eta 0:00:05\n",
      "     ----- ---------------------------------- 1.7/12.0 MB 2.2 MB/s eta 0:00:05\n",
      "     ------ --------------------------------- 1.8/12.0 MB 2.2 MB/s eta 0:00:05\n",
      "     ------ --------------------------------- 1.9/12.0 MB 2.2 MB/s eta 0:00:05\n",
      "     ------ --------------------------------- 2.0/12.0 MB 2.1 MB/s eta 0:00:05\n",
      "     ------ --------------------------------- 2.0/12.0 MB 2.1 MB/s eta 0:00:05\n",
      "     ------ --------------------------------- 2.1/12.0 MB 2.0 MB/s eta 0:00:05\n",
      "     ------- -------------------------------- 2.2/12.0 MB 2.0 MB/s eta 0:00:05\n",
      "     ------- -------------------------------- 2.2/12.0 MB 2.0 MB/s eta 0:00:05\n",
      "     ------- -------------------------------- 2.3/12.0 MB 2.0 MB/s eta 0:00:05\n",
      "     ------- -------------------------------- 2.4/12.0 MB 2.0 MB/s eta 0:00:05\n",
      "     -------- ------------------------------- 2.5/12.0 MB 1.9 MB/s eta 0:00:05\n",
      "     -------- ------------------------------- 2.5/12.0 MB 1.9 MB/s eta 0:00:05\n",
      "     -------- ------------------------------- 2.6/12.0 MB 1.9 MB/s eta 0:00:05\n",
      "     -------- ------------------------------- 2.7/12.0 MB 1.9 MB/s eta 0:00:05\n",
      "     --------- ------------------------------ 2.8/12.0 MB 1.9 MB/s eta 0:00:05\n",
      "     --------- ------------------------------ 2.8/12.0 MB 1.9 MB/s eta 0:00:05\n",
      "     --------- ------------------------------ 2.9/12.0 MB 1.8 MB/s eta 0:00:05\n",
      "     --------- ------------------------------ 2.9/12.0 MB 1.8 MB/s eta 0:00:06\n",
      "     --------- ------------------------------ 3.0/12.0 MB 1.8 MB/s eta 0:00:06\n",
      "     ---------- ----------------------------- 3.0/12.0 MB 1.8 MB/s eta 0:00:06\n",
      "     ---------- ----------------------------- 3.1/12.0 MB 1.7 MB/s eta 0:00:06\n",
      "     ---------- ----------------------------- 3.1/12.0 MB 1.7 MB/s eta 0:00:06\n",
      "     ---------- ----------------------------- 3.1/12.0 MB 1.7 MB/s eta 0:00:06\n",
      "     ---------- ----------------------------- 3.2/12.0 MB 1.7 MB/s eta 0:00:06\n",
      "     ---------- ----------------------------- 3.2/12.0 MB 1.7 MB/s eta 0:00:06\n",
      "     ---------- ----------------------------- 3.3/12.0 MB 1.6 MB/s eta 0:00:06\n",
      "     ---------- ----------------------------- 3.3/12.0 MB 1.6 MB/s eta 0:00:06\n",
      "     ---------- ----------------------------- 3.3/12.0 MB 1.6 MB/s eta 0:00:06\n",
      "     ----------- ---------------------------- 3.3/12.0 MB 1.6 MB/s eta 0:00:06\n",
      "     ----------- ---------------------------- 3.3/12.0 MB 1.6 MB/s eta 0:00:06\n",
      "     ----------- ---------------------------- 3.4/12.0 MB 1.5 MB/s eta 0:00:06\n",
      "     ----------- ---------------------------- 3.4/12.0 MB 1.5 MB/s eta 0:00:06\n",
      "     ----------- ---------------------------- 3.4/12.0 MB 1.5 MB/s eta 0:00:06\n",
      "     ----------- ---------------------------- 3.4/12.0 MB 1.5 MB/s eta 0:00:06\n",
      "     ----------- ---------------------------- 3.4/12.0 MB 1.4 MB/s eta 0:00:06\n",
      "     ----------- ---------------------------- 3.4/12.0 MB 1.4 MB/s eta 0:00:07\n",
      "     ----------- ---------------------------- 3.5/12.0 MB 1.4 MB/s eta 0:00:07\n",
      "     ----------- ---------------------------- 3.5/12.0 MB 1.4 MB/s eta 0:00:07\n",
      "     ----------- ---------------------------- 3.5/12.0 MB 1.4 MB/s eta 0:00:07\n",
      "     ----------- ---------------------------- 3.5/12.0 MB 1.3 MB/s eta 0:00:07\n",
      "     ----------- ---------------------------- 3.5/12.0 MB 1.3 MB/s eta 0:00:07\n",
      "     ----------- ---------------------------- 3.5/12.0 MB 1.3 MB/s eta 0:00:07\n",
      "     ----------- ---------------------------- 3.5/12.0 MB 1.3 MB/s eta 0:00:07\n",
      "     ----------- ---------------------------- 3.6/12.0 MB 1.3 MB/s eta 0:00:07\n",
      "     ----------- ---------------------------- 3.6/12.0 MB 1.3 MB/s eta 0:00:07\n",
      "     ----------- ---------------------------- 3.6/12.0 MB 1.2 MB/s eta 0:00:07\n",
      "     ----------- ---------------------------- 3.6/12.0 MB 1.2 MB/s eta 0:00:07\n",
      "     ------------ --------------------------- 3.6/12.0 MB 1.2 MB/s eta 0:00:07\n",
      "     ------------ --------------------------- 3.6/12.0 MB 1.2 MB/s eta 0:00:07\n",
      "     ------------ --------------------------- 3.7/12.0 MB 1.2 MB/s eta 0:00:08\n",
      "     ------------ --------------------------- 3.7/12.0 MB 1.2 MB/s eta 0:00:08\n",
      "     ------------ --------------------------- 3.7/12.0 MB 1.2 MB/s eta 0:00:08\n",
      "     ------------ --------------------------- 3.7/12.0 MB 1.1 MB/s eta 0:00:08\n",
      "     ------------ --------------------------- 3.7/12.0 MB 1.1 MB/s eta 0:00:08\n",
      "     ------------ --------------------------- 3.7/12.0 MB 1.1 MB/s eta 0:00:08\n",
      "     ------------ --------------------------- 3.7/12.0 MB 1.1 MB/s eta 0:00:08\n",
      "     ------------ --------------------------- 3.7/12.0 MB 1.1 MB/s eta 0:00:08\n",
      "     ------------ --------------------------- 3.7/12.0 MB 1.1 MB/s eta 0:00:08\n",
      "     ------------ --------------------------- 3.8/12.0 MB 1.1 MB/s eta 0:00:08\n",
      "     ------------ --------------------------- 3.8/12.0 MB 1.1 MB/s eta 0:00:08\n",
      "     ------------ --------------------------- 3.8/12.0 MB 1.0 MB/s eta 0:00:08\n",
      "     ------------ --------------------------- 3.8/12.0 MB 1.0 MB/s eta 0:00:08\n",
      "     ------------ --------------------------- 3.8/12.0 MB 1.0 MB/s eta 0:00:09\n",
      "     ------------ --------------------------- 3.8/12.0 MB 1.0 MB/s eta 0:00:09\n",
      "     ------------ -------------------------- 3.8/12.0 MB 997.8 kB/s eta 0:00:09\n",
      "     ------------ -------------------------- 3.8/12.0 MB 997.8 kB/s eta 0:00:09\n",
      "     ------------ -------------------------- 3.9/12.0 MB 983.1 kB/s eta 0:00:09\n",
      "     ------------ -------------------------- 3.9/12.0 MB 970.1 kB/s eta 0:00:09\n",
      "     ------------ -------------------------- 3.9/12.0 MB 960.2 kB/s eta 0:00:09\n",
      "     ------------ -------------------------- 3.9/12.0 MB 954.2 kB/s eta 0:00:09\n",
      "     ------------ -------------------------- 3.9/12.0 MB 954.2 kB/s eta 0:00:09\n",
      "     ------------ -------------------------- 3.9/12.0 MB 942.1 kB/s eta 0:00:09\n",
      "     ------------ -------------------------- 3.9/12.0 MB 933.1 kB/s eta 0:00:09\n",
      "     ------------ -------------------------- 3.9/12.0 MB 925.2 kB/s eta 0:00:09\n",
      "     ------------ -------------------------- 4.0/12.0 MB 916.4 kB/s eta 0:00:09\n",
      "     ------------ -------------------------- 4.0/12.0 MB 908.9 kB/s eta 0:00:09\n",
      "     ------------ -------------------------- 4.0/12.0 MB 911.3 kB/s eta 0:00:09\n",
      "     ------------ -------------------------- 4.0/12.0 MB 904.1 kB/s eta 0:00:09\n",
      "     ------------- ------------------------- 4.0/12.0 MB 892.0 kB/s eta 0:00:09\n",
      "     ------------- ------------------------- 4.0/12.0 MB 890.4 kB/s eta 0:00:09\n",
      "     ------------- ------------------------- 4.1/12.0 MB 885.8 kB/s eta 0:00:09\n",
      "     ------------- ------------------------- 4.1/12.0 MB 879.0 kB/s eta 0:00:10\n",
      "     ------------- ------------------------- 4.1/12.0 MB 880.4 kB/s eta 0:00:10\n",
      "     ------------- ------------------------- 4.1/12.0 MB 872.3 kB/s eta 0:00:10\n",
      "     ------------- ------------------------- 4.1/12.0 MB 872.3 kB/s eta 0:00:10\n",
      "     ------------- ------------------------- 4.1/12.0 MB 856.9 kB/s eta 0:00:10\n",
      "     ------------- ------------------------- 4.2/12.0 MB 854.9 kB/s eta 0:00:10\n",
      "     ------------- ------------------------- 4.2/12.0 MB 854.9 kB/s eta 0:00:10\n",
      "     ------------- ------------------------- 4.2/12.0 MB 848.8 kB/s eta 0:00:10\n",
      "     ------------- ------------------------- 4.2/12.0 MB 844.9 kB/s eta 0:00:10\n",
      "     ------------- ------------------------- 4.2/12.0 MB 839.0 kB/s eta 0:00:10\n",
      "     ------------- ------------------------- 4.2/12.0 MB 832.8 kB/s eta 0:00:10\n",
      "     ------------- ------------------------- 4.3/12.0 MB 829.2 kB/s eta 0:00:10\n",
      "     ------------- ------------------------- 4.3/12.0 MB 826.2 kB/s eta 0:00:10\n",
      "     ------------- ------------------------- 4.3/12.0 MB 822.7 kB/s eta 0:00:10\n",
      "     ------------- ------------------------- 4.3/12.0 MB 817.2 kB/s eta 0:00:10\n",
      "     -------------- ------------------------ 4.3/12.0 MB 813.9 kB/s eta 0:00:10\n",
      "     -------------- ------------------------ 4.3/12.0 MB 813.0 kB/s eta 0:00:10\n",
      "     -------------- ------------------------ 4.3/12.0 MB 813.0 kB/s eta 0:00:10\n",
      "     -------------- ------------------------ 4.3/12.0 MB 813.0 kB/s eta 0:00:10\n",
      "     -------------- ------------------------ 4.3/12.0 MB 813.0 kB/s eta 0:00:10\n",
      "     -------------- ------------------------ 4.3/12.0 MB 813.0 kB/s eta 0:00:10\n",
      "     -------------- ------------------------ 4.4/12.0 MB 786.4 kB/s eta 0:00:10\n",
      "     -------------- ------------------------ 4.4/12.0 MB 775.1 kB/s eta 0:00:10\n",
      "     -------------- ------------------------ 4.4/12.0 MB 775.1 kB/s eta 0:00:10\n",
      "     -------------- ------------------------ 4.4/12.0 MB 766.0 kB/s eta 0:00:10\n",
      "     -------------- ------------------------ 4.4/12.0 MB 766.0 kB/s eta 0:00:10\n",
      "     -------------- ------------------------ 4.4/12.0 MB 761.3 kB/s eta 0:00:10\n",
      "     -------------- ------------------------ 4.4/12.0 MB 752.7 kB/s eta 0:00:11\n",
      "     -------------- ------------------------ 4.5/12.0 MB 750.2 kB/s eta 0:00:11\n",
      "     -------------- ------------------------ 4.5/12.0 MB 746.0 kB/s eta 0:00:11\n",
      "     -------------- ------------------------ 4.5/12.0 MB 746.0 kB/s eta 0:00:11\n",
      "     -------------- ------------------------ 4.5/12.0 MB 741.7 kB/s eta 0:00:11\n",
      "     -------------- ------------------------ 4.5/12.0 MB 737.7 kB/s eta 0:00:11\n",
      "     -------------- ------------------------ 4.5/12.0 MB 737.3 kB/s eta 0:00:11\n",
      "     -------------- ------------------------ 4.5/12.0 MB 735.0 kB/s eta 0:00:11\n",
      "     -------------- ------------------------ 4.6/12.0 MB 731.1 kB/s eta 0:00:11\n",
      "     -------------- ------------------------ 4.6/12.0 MB 728.9 kB/s eta 0:00:11\n",
      "     -------------- ------------------------ 4.6/12.0 MB 726.9 kB/s eta 0:00:11\n",
      "     -------------- ------------------------ 4.6/12.0 MB 722.9 kB/s eta 0:00:11\n",
      "     --------------- ----------------------- 4.6/12.0 MB 722.6 kB/s eta 0:00:11\n",
      "     --------------- ----------------------- 4.6/12.0 MB 720.7 kB/s eta 0:00:11\n",
      "     --------------- ----------------------- 4.7/12.0 MB 718.5 kB/s eta 0:00:11\n",
      "     --------------- ----------------------- 4.7/12.0 MB 716.5 kB/s eta 0:00:11\n",
      "     --------------- ----------------------- 4.7/12.0 MB 716.3 kB/s eta 0:00:11\n",
      "     --------------- ----------------------- 4.7/12.0 MB 714.3 kB/s eta 0:00:11\n",
      "     --------------- ----------------------- 4.8/12.0 MB 713.9 kB/s eta 0:00:11\n",
      "     --------------- ----------------------- 4.8/12.0 MB 712.1 kB/s eta 0:00:11\n",
      "     --------------- ----------------------- 4.8/12.0 MB 710.2 kB/s eta 0:00:11\n",
      "     --------------- ----------------------- 4.8/12.0 MB 711.6 kB/s eta 0:00:11\n",
      "     --------------- ----------------------- 4.8/12.0 MB 707.9 kB/s eta 0:00:11\n",
      "     --------------- ----------------------- 4.8/12.0 MB 707.9 kB/s eta 0:00:11\n",
      "     --------------- ----------------------- 4.9/12.0 MB 706.0 kB/s eta 0:00:11\n",
      "     --------------- ----------------------- 4.9/12.0 MB 707.3 kB/s eta 0:00:11\n",
      "     --------------- ----------------------- 4.9/12.0 MB 704.0 kB/s eta 0:00:11\n",
      "     --------------- ----------------------- 4.9/12.0 MB 700.6 kB/s eta 0:00:11\n",
      "     ---------------- ---------------------- 4.9/12.0 MB 700.4 kB/s eta 0:00:11\n",
      "     ---------------- ---------------------- 5.0/12.0 MB 701.7 kB/s eta 0:00:11\n",
      "     ---------------- ---------------------- 5.0/12.0 MB 698.5 kB/s eta 0:00:11\n",
      "     ---------------- ---------------------- 5.0/12.0 MB 698.2 kB/s eta 0:00:11\n",
      "     ---------------- ---------------------- 5.0/12.0 MB 699.5 kB/s eta 0:00:10\n",
      "     ---------------- ---------------------- 5.1/12.0 MB 699.2 kB/s eta 0:00:10\n",
      "     ---------------- ---------------------- 5.1/12.0 MB 697.4 kB/s eta 0:00:10\n",
      "     ---------------- ---------------------- 5.1/12.0 MB 698.6 kB/s eta 0:00:10\n",
      "     ---------------- ---------------------- 5.2/12.0 MB 699.8 kB/s eta 0:00:10\n",
      "     ---------------- ---------------------- 5.2/12.0 MB 698.2 kB/s eta 0:00:10\n",
      "     ---------------- ---------------------- 5.2/12.0 MB 697.7 kB/s eta 0:00:10\n",
      "     ----------------- --------------------- 5.3/12.0 MB 697.5 kB/s eta 0:00:10\n",
      "     ----------------- --------------------- 5.3/12.0 MB 698.6 kB/s eta 0:00:10\n",
      "     ----------------- --------------------- 5.3/12.0 MB 699.7 kB/s eta 0:00:10\n",
      "     ----------------- --------------------- 5.4/12.0 MB 699.3 kB/s eta 0:00:10\n",
      "     ----------------- --------------------- 5.4/12.0 MB 700.4 kB/s eta 0:00:10\n",
      "     ----------------- --------------------- 5.5/12.0 MB 700.1 kB/s eta 0:00:10\n",
      "     ----------------- --------------------- 5.5/12.0 MB 702.5 kB/s eta 0:00:10\n",
      "     ----------------- --------------------- 5.5/12.0 MB 702.5 kB/s eta 0:00:10\n",
      "     ------------------ -------------------- 5.6/12.0 MB 701.9 kB/s eta 0:00:10\n",
      "     ------------------ -------------------- 5.6/12.0 MB 700.2 kB/s eta 0:00:10\n",
      "     ------------------ -------------------- 5.6/12.0 MB 701.3 kB/s eta 0:00:10\n",
      "     ------------------ -------------------- 5.7/12.0 MB 701.0 kB/s eta 0:00:10\n",
      "     ------------------ -------------------- 5.7/12.0 MB 700.7 kB/s eta 0:00:10\n",
      "     ------------------ -------------------- 5.7/12.0 MB 700.7 kB/s eta 0:00:10\n",
      "     ------------------ -------------------- 5.8/12.0 MB 698.9 kB/s eta 0:00:09\n",
      "     ------------------ -------------------- 5.8/12.0 MB 697.4 kB/s eta 0:00:09\n",
      "     ------------------ -------------------- 5.8/12.0 MB 695.9 kB/s eta 0:00:09\n",
      "     ------------------ -------------------- 5.8/12.0 MB 694.5 kB/s eta 0:00:09\n",
      "     ------------------ -------------------- 5.8/12.0 MB 691.7 kB/s eta 0:00:09\n",
      "     ------------------- ------------------- 5.9/12.0 MB 691.6 kB/s eta 0:00:09\n",
      "     ------------------- ------------------- 5.9/12.0 MB 690.2 kB/s eta 0:00:09\n",
      "     ------------------- ------------------- 5.9/12.0 MB 690.0 kB/s eta 0:00:09\n",
      "     ------------------- ------------------- 5.9/12.0 MB 688.6 kB/s eta 0:00:09\n",
      "     ------------------- ------------------- 6.0/12.0 MB 687.1 kB/s eta 0:00:09\n",
      "     ------------------- ------------------- 6.0/12.0 MB 687.1 kB/s eta 0:00:09\n",
      "     ------------------- ------------------- 6.0/12.0 MB 686.9 kB/s eta 0:00:09\n",
      "     ------------------- ------------------- 6.1/12.0 MB 686.7 kB/s eta 0:00:09\n",
      "     ------------------- ------------------- 6.1/12.0 MB 685.4 kB/s eta 0:00:09\n",
      "     ------------------- ------------------- 6.1/12.0 MB 682.9 kB/s eta 0:00:09\n",
      "     ------------------- ------------------- 6.1/12.0 MB 682.8 kB/s eta 0:00:09\n",
      "     ------------------- ------------------- 6.1/12.0 MB 681.5 kB/s eta 0:00:09\n",
      "     ------------------- ------------------- 6.2/12.0 MB 679.1 kB/s eta 0:00:09\n",
      "     -------------------- ------------------ 6.2/12.0 MB 677.8 kB/s eta 0:00:09\n",
      "     -------------------- ------------------ 6.2/12.0 MB 675.4 kB/s eta 0:00:09\n",
      "     -------------------- ------------------ 6.2/12.0 MB 674.2 kB/s eta 0:00:09\n",
      "     -------------------- ------------------ 6.3/12.0 MB 674.1 kB/s eta 0:00:09\n",
      "     -------------------- ------------------ 6.3/12.0 MB 673.0 kB/s eta 0:00:09\n",
      "     -------------------- ------------------ 6.3/12.0 MB 671.8 kB/s eta 0:00:09\n",
      "     -------------------- ------------------ 6.3/12.0 MB 671.8 kB/s eta 0:00:09\n",
      "     -------------------- ------------------ 6.3/12.0 MB 668.3 kB/s eta 0:00:09\n",
      "     -------------------- ------------------ 6.3/12.0 MB 668.3 kB/s eta 0:00:09\n",
      "     -------------------- ------------------ 6.3/12.0 MB 667.2 kB/s eta 0:00:09\n",
      "     -------------------- ------------------ 6.4/12.0 MB 666.1 kB/s eta 0:00:09\n",
      "     -------------------- ------------------ 6.4/12.0 MB 663.8 kB/s eta 0:00:09\n",
      "     -------------------- ------------------ 6.4/12.0 MB 661.7 kB/s eta 0:00:09\n",
      "     -------------------- ------------------ 6.4/12.0 MB 659.5 kB/s eta 0:00:09\n",
      "     -------------------- ------------------ 6.5/12.0 MB 658.5 kB/s eta 0:00:09\n",
      "     -------------------- ------------------ 6.5/12.0 MB 657.5 kB/s eta 0:00:09\n",
      "     --------------------- ----------------- 6.5/12.0 MB 656.4 kB/s eta 0:00:09\n",
      "     --------------------- ----------------- 6.5/12.0 MB 654.3 kB/s eta 0:00:09\n",
      "     --------------------- ----------------- 6.5/12.0 MB 653.3 kB/s eta 0:00:09\n",
      "     --------------------- ----------------- 6.6/12.0 MB 654.3 kB/s eta 0:00:09\n",
      "     --------------------- ----------------- 6.6/12.0 MB 652.3 kB/s eta 0:00:09\n",
      "     --------------------- ----------------- 6.6/12.0 MB 651.3 kB/s eta 0:00:09\n",
      "     --------------------- ----------------- 6.6/12.0 MB 651.3 kB/s eta 0:00:09\n",
      "     --------------------- ----------------- 6.7/12.0 MB 650.3 kB/s eta 0:00:09\n",
      "     --------------------- ----------------- 6.7/12.0 MB 650.4 kB/s eta 0:00:09\n",
      "     --------------------- ----------------- 6.7/12.0 MB 650.4 kB/s eta 0:00:09\n",
      "     --------------------- ----------------- 6.7/12.0 MB 649.4 kB/s eta 0:00:09\n",
      "     --------------------- ----------------- 6.8/12.0 MB 648.5 kB/s eta 0:00:09\n",
      "     ---------------------- ---------------- 6.8/12.0 MB 648.5 kB/s eta 0:00:09\n",
      "     ---------------------- ---------------- 6.8/12.0 MB 648.5 kB/s eta 0:00:09\n",
      "     ---------------------- ---------------- 6.9/12.0 MB 648.5 kB/s eta 0:00:08\n",
      "     ---------------------- ---------------- 6.9/12.0 MB 648.6 kB/s eta 0:00:08\n",
      "     ---------------------- ---------------- 6.9/12.0 MB 648.6 kB/s eta 0:00:08\n",
      "     ---------------------- ---------------- 6.9/12.0 MB 646.7 kB/s eta 0:00:08\n",
      "     ---------------------- ---------------- 6.9/12.0 MB 646.7 kB/s eta 0:00:08\n",
      "     ---------------------- ---------------- 7.0/12.0 MB 644.9 kB/s eta 0:00:08\n",
      "     ---------------------- ---------------- 7.0/12.0 MB 644.0 kB/s eta 0:00:08\n",
      "     ---------------------- ---------------- 7.0/12.0 MB 644.1 kB/s eta 0:00:08\n",
      "     ---------------------- ---------------- 7.0/12.0 MB 644.1 kB/s eta 0:00:08\n",
      "     ---------------------- ---------------- 7.1/12.0 MB 643.2 kB/s eta 0:00:08\n",
      "     ---------------------- ---------------- 7.1/12.0 MB 643.2 kB/s eta 0:00:08\n",
      "     ----------------------- --------------- 7.1/12.0 MB 641.5 kB/s eta 0:00:08\n",
      "     ----------------------- --------------- 7.1/12.0 MB 639.7 kB/s eta 0:00:08\n",
      "     ----------------------- --------------- 7.2/12.0 MB 638.9 kB/s eta 0:00:08\n",
      "     ----------------------- --------------- 7.2/12.0 MB 638.9 kB/s eta 0:00:08\n",
      "     ----------------------- --------------- 7.2/12.0 MB 638.9 kB/s eta 0:00:08\n",
      "     ----------------------- --------------- 7.2/12.0 MB 635.5 kB/s eta 0:00:08\n",
      "     ----------------------- --------------- 7.2/12.0 MB 635.5 kB/s eta 0:00:08\n",
      "     ----------------------- --------------- 7.2/12.0 MB 632.0 kB/s eta 0:00:08\n",
      "     ----------------------- --------------- 7.2/12.0 MB 630.3 kB/s eta 0:00:08\n",
      "     ----------------------- --------------- 7.2/12.0 MB 630.3 kB/s eta 0:00:08\n",
      "     ----------------------- --------------- 7.2/12.0 MB 630.3 kB/s eta 0:00:08\n",
      "     ----------------------- --------------- 7.3/12.0 MB 623.7 kB/s eta 0:00:08\n",
      "     ----------------------- --------------- 7.3/12.0 MB 623.7 kB/s eta 0:00:08\n",
      "     ----------------------- --------------- 7.3/12.0 MB 620.4 kB/s eta 0:00:08\n",
      "     ----------------------- --------------- 7.3/12.0 MB 620.4 kB/s eta 0:00:08\n",
      "     ----------------------- --------------- 7.3/12.0 MB 618.0 kB/s eta 0:00:08\n",
      "     ----------------------- --------------- 7.3/12.0 MB 618.0 kB/s eta 0:00:08\n",
      "     ----------------------- --------------- 7.3/12.0 MB 615.7 kB/s eta 0:00:08\n",
      "     ----------------------- --------------- 7.3/12.0 MB 613.3 kB/s eta 0:00:08\n",
      "     ----------------------- --------------- 7.4/12.0 MB 611.8 kB/s eta 0:00:08\n",
      "     ----------------------- --------------- 7.4/12.0 MB 611.2 kB/s eta 0:00:08\n",
      "     ----------------------- --------------- 7.4/12.0 MB 611.2 kB/s eta 0:00:08\n",
      "     ----------------------- --------------- 7.4/12.0 MB 608.8 kB/s eta 0:00:08\n",
      "     ------------------------ -------------- 7.4/12.0 MB 607.4 kB/s eta 0:00:08\n",
      "     ------------------------ -------------- 7.4/12.0 MB 605.9 kB/s eta 0:00:08\n",
      "     ------------------------ -------------- 7.4/12.0 MB 605.9 kB/s eta 0:00:08\n",
      "     ------------------------ -------------- 7.4/12.0 MB 602.9 kB/s eta 0:00:08\n",
      "     ------------------------ -------------- 7.5/12.0 MB 603.1 kB/s eta 0:00:08\n",
      "     ------------------------ -------------- 7.5/12.0 MB 600.9 kB/s eta 0:00:08\n",
      "     ------------------------ -------------- 7.5/12.0 MB 600.9 kB/s eta 0:00:08\n",
      "     ------------------------ -------------- 7.5/12.0 MB 598.7 kB/s eta 0:00:08\n",
      "     ------------------------ -------------- 7.5/12.0 MB 598.7 kB/s eta 0:00:08\n",
      "     ------------------------ -------------- 7.5/12.0 MB 595.8 kB/s eta 0:00:08\n",
      "     ------------------------ -------------- 7.5/12.0 MB 595.2 kB/s eta 0:00:08\n",
      "     ------------------------ -------------- 7.5/12.0 MB 593.9 kB/s eta 0:00:08\n",
      "     ------------------------ -------------- 7.5/12.0 MB 591.8 kB/s eta 0:00:08\n",
      "     ------------------------ -------------- 7.6/12.0 MB 591.3 kB/s eta 0:00:08\n",
      "     ------------------------ -------------- 7.6/12.0 MB 589.2 kB/s eta 0:00:08\n",
      "     ------------------------ -------------- 7.6/12.0 MB 590.0 kB/s eta 0:00:08\n",
      "     ------------------------ -------------- 7.6/12.0 MB 589.4 kB/s eta 0:00:08\n",
      "     ------------------------ -------------- 7.6/12.0 MB 587.4 kB/s eta 0:00:08\n",
      "     ------------------------ -------------- 7.6/12.0 MB 586.8 kB/s eta 0:00:08\n",
      "     ------------------------ -------------- 7.7/12.0 MB 586.3 kB/s eta 0:00:08\n",
      "     ------------------------ -------------- 7.7/12.0 MB 585.7 kB/s eta 0:00:08\n",
      "     ------------------------ -------------- 7.7/12.0 MB 585.8 kB/s eta 0:00:08\n",
      "     ------------------------- ------------- 7.7/12.0 MB 584.0 kB/s eta 0:00:08\n",
      "     ------------------------- ------------- 7.7/12.0 MB 584.1 kB/s eta 0:00:08\n",
      "     ------------------------- ------------- 7.7/12.0 MB 584.1 kB/s eta 0:00:08\n",
      "     ------------------------- ------------- 7.8/12.0 MB 583.0 kB/s eta 0:00:08\n",
      "     ------------------------- ------------- 7.8/12.0 MB 581.7 kB/s eta 0:00:08\n",
      "     ------------------------- ------------- 7.8/12.0 MB 581.3 kB/s eta 0:00:08\n",
      "     ------------------------- ------------- 7.8/12.0 MB 580.1 kB/s eta 0:00:08\n",
      "     ------------------------- ------------- 7.8/12.0 MB 578.8 kB/s eta 0:00:08\n",
      "     ------------------------- ------------- 7.9/12.0 MB 577.8 kB/s eta 0:00:08\n",
      "     ------------------------- ------------- 7.9/12.0 MB 576.5 kB/s eta 0:00:08\n",
      "     ------------------------- ------------- 7.9/12.0 MB 576.7 kB/s eta 0:00:08\n",
      "     ------------------------- ------------- 7.9/12.0 MB 576.2 kB/s eta 0:00:08\n",
      "     ------------------------- ------------- 7.9/12.0 MB 574.4 kB/s eta 0:00:08\n",
      "     ------------------------- ------------- 8.0/12.0 MB 574.0 kB/s eta 0:00:08\n",
      "     ------------------------- ------------- 8.0/12.0 MB 574.0 kB/s eta 0:00:08\n",
      "     ------------------------- ------------- 8.0/12.0 MB 574.0 kB/s eta 0:00:08\n",
      "     ------------------------- ------------- 8.0/12.0 MB 574.0 kB/s eta 0:00:08\n",
      "     ------------------------- ------------- 8.0/12.0 MB 574.0 kB/s eta 0:00:08\n",
      "     ------------------------- ------------- 8.0/12.0 MB 568.0 kB/s eta 0:00:08\n",
      "     ------------------------- ------------- 8.0/12.0 MB 566.8 kB/s eta 0:00:08\n",
      "     -------------------------- ------------ 8.0/12.0 MB 565.8 kB/s eta 0:00:08\n",
      "     -------------------------- ------------ 8.0/12.0 MB 565.8 kB/s eta 0:00:08\n",
      "     -------------------------- ------------ 8.0/12.0 MB 562.7 kB/s eta 0:00:08\n",
      "     -------------------------- ------------ 8.1/12.0 MB 562.3 kB/s eta 0:00:08\n",
      "     -------------------------- ------------ 8.1/12.0 MB 562.3 kB/s eta 0:00:08\n",
      "     -------------------------- ------------ 8.1/12.0 MB 561.3 kB/s eta 0:00:08\n",
      "     -------------------------- ------------ 8.1/12.0 MB 559.0 kB/s eta 0:00:08\n",
      "     -------------------------- ------------ 8.1/12.0 MB 559.0 kB/s eta 0:00:08\n",
      "     -------------------------- ------------ 8.1/12.0 MB 557.4 kB/s eta 0:00:08\n",
      "     -------------------------- ------------ 8.1/12.0 MB 556.3 kB/s eta 0:00:08\n",
      "     -------------------------- ------------ 8.1/12.0 MB 556.3 kB/s eta 0:00:08\n",
      "     -------------------------- ------------ 8.1/12.0 MB 554.2 kB/s eta 0:00:07\n",
      "     -------------------------- ------------ 8.2/12.0 MB 553.2 kB/s eta 0:00:07\n",
      "     -------------------------- ------------ 8.2/12.0 MB 553.2 kB/s eta 0:00:07\n",
      "     -------------------------- ------------ 8.2/12.0 MB 552.1 kB/s eta 0:00:07\n",
      "     -------------------------- ------------ 8.2/12.0 MB 551.2 kB/s eta 0:00:07\n",
      "     -------------------------- ------------ 8.2/12.0 MB 550.1 kB/s eta 0:00:07\n",
      "     -------------------------- ------------ 8.2/12.0 MB 549.8 kB/s eta 0:00:07\n",
      "     -------------------------- ------------ 8.2/12.0 MB 549.4 kB/s eta 0:00:07\n",
      "     -------------------------- ------------ 8.3/12.0 MB 548.4 kB/s eta 0:00:07\n",
      "     -------------------------- ------------ 8.3/12.0 MB 548.6 kB/s eta 0:00:07\n",
      "     -------------------------- ------------ 8.3/12.0 MB 547.6 kB/s eta 0:00:07\n",
      "     -------------------------- ------------ 8.3/12.0 MB 547.6 kB/s eta 0:00:07\n",
      "     --------------------------- ----------- 8.3/12.0 MB 546.3 kB/s eta 0:00:07\n",
      "     --------------------------- ----------- 8.3/12.0 MB 546.3 kB/s eta 0:00:07\n",
      "     --------------------------- ----------- 8.3/12.0 MB 544.2 kB/s eta 0:00:07\n",
      "     --------------------------- ----------- 8.4/12.0 MB 543.9 kB/s eta 0:00:07\n",
      "     --------------------------- ----------- 8.4/12.0 MB 542.4 kB/s eta 0:00:07\n",
      "     --------------------------- ----------- 8.4/12.0 MB 542.1 kB/s eta 0:00:07\n",
      "     --------------------------- ----------- 8.4/12.0 MB 542.1 kB/s eta 0:00:07\n",
      "     --------------------------- ----------- 8.4/12.0 MB 541.2 kB/s eta 0:00:07\n",
      "     --------------------------- ----------- 8.4/12.0 MB 540.2 kB/s eta 0:00:07\n",
      "     --------------------------- ----------- 8.4/12.0 MB 540.2 kB/s eta 0:00:07\n",
      "     --------------------------- ----------- 8.4/12.0 MB 537.3 kB/s eta 0:00:07\n",
      "     --------------------------- ----------- 8.4/12.0 MB 537.3 kB/s eta 0:00:07\n",
      "     --------------------------- ----------- 8.5/12.0 MB 536.5 kB/s eta 0:00:07\n",
      "     --------------------------- ----------- 8.5/12.0 MB 536.2 kB/s eta 0:00:07\n",
      "     --------------------------- ----------- 8.5/12.0 MB 534.7 kB/s eta 0:00:07\n",
      "     --------------------------- ----------- 8.5/12.0 MB 533.4 kB/s eta 0:00:07\n",
      "     --------------------------- ----------- 8.5/12.0 MB 532.5 kB/s eta 0:00:07\n",
      "     --------------------------- ----------- 8.5/12.0 MB 532.5 kB/s eta 0:00:07\n",
      "     --------------------------- ----------- 8.6/12.0 MB 530.1 kB/s eta 0:00:07\n",
      "     --------------------------- ----------- 8.6/12.0 MB 530.9 kB/s eta 0:00:07\n",
      "     --------------------------- ----------- 8.6/12.0 MB 529.0 kB/s eta 0:00:07\n",
      "     --------------------------- ----------- 8.6/12.0 MB 529.0 kB/s eta 0:00:07\n",
      "     --------------------------- ----------- 8.6/12.0 MB 527.7 kB/s eta 0:00:07\n",
      "     --------------------------- ----------- 8.6/12.0 MB 526.3 kB/s eta 0:00:07\n",
      "     ---------------------------- ---------- 8.6/12.0 MB 525.5 kB/s eta 0:00:07\n",
      "     ---------------------------- ---------- 8.6/12.0 MB 525.5 kB/s eta 0:00:07\n",
      "     ---------------------------- ---------- 8.6/12.0 MB 525.5 kB/s eta 0:00:07\n",
      "     ---------------------------- ---------- 8.6/12.0 MB 525.5 kB/s eta 0:00:07\n",
      "     ---------------------------- ---------- 8.7/12.0 MB 520.8 kB/s eta 0:00:07\n",
      "     ---------------------------- ---------- 8.7/12.0 MB 520.0 kB/s eta 0:00:07\n",
      "     ---------------------------- ---------- 8.7/12.0 MB 519.3 kB/s eta 0:00:07\n",
      "     ---------------------------- ---------- 8.7/12.0 MB 519.3 kB/s eta 0:00:07\n",
      "     ---------------------------- ---------- 8.7/12.0 MB 517.0 kB/s eta 0:00:07\n",
      "     ---------------------------- ---------- 8.7/12.0 MB 517.0 kB/s eta 0:00:07\n",
      "     ---------------------------- ---------- 8.7/12.0 MB 515.3 kB/s eta 0:00:07\n",
      "     ---------------------------- ---------- 8.7/12.0 MB 515.1 kB/s eta 0:00:07\n",
      "     ---------------------------- ---------- 8.7/12.0 MB 513.8 kB/s eta 0:00:07\n",
      "     ---------------------------- ---------- 8.7/12.0 MB 513.8 kB/s eta 0:00:07\n",
      "     ---------------------------- ---------- 8.8/12.0 MB 512.7 kB/s eta 0:00:07\n",
      "     ---------------------------- ---------- 8.8/12.0 MB 511.4 kB/s eta 0:00:07\n",
      "     ---------------------------- ---------- 8.8/12.0 MB 510.7 kB/s eta 0:00:07\n",
      "     ---------------------------- ---------- 8.8/12.0 MB 510.5 kB/s eta 0:00:07\n",
      "     ---------------------------- ---------- 8.8/12.0 MB 510.2 kB/s eta 0:00:07\n",
      "     ---------------------------- ---------- 8.8/12.0 MB 508.5 kB/s eta 0:00:07\n",
      "     ---------------------------- ---------- 8.9/12.0 MB 508.7 kB/s eta 0:00:07\n",
      "     ---------------------------- ---------- 8.9/12.0 MB 507.9 kB/s eta 0:00:07\n",
      "     ---------------------------- ---------- 8.9/12.0 MB 507.8 kB/s eta 0:00:07\n",
      "     ---------------------------- ---------- 8.9/12.0 MB 507.6 kB/s eta 0:00:07\n",
      "     ---------------------------- ---------- 8.9/12.0 MB 506.8 kB/s eta 0:00:07\n",
      "     ----------------------------- --------- 8.9/12.0 MB 506.3 kB/s eta 0:00:07\n",
      "     ----------------------------- --------- 9.0/12.0 MB 506.6 kB/s eta 0:00:07\n",
      "     ----------------------------- --------- 9.0/12.0 MB 506.4 kB/s eta 0:00:06\n",
      "     ----------------------------- --------- 9.0/12.0 MB 505.9 kB/s eta 0:00:06\n",
      "     ----------------------------- --------- 9.0/12.0 MB 505.1 kB/s eta 0:00:06\n",
      "     ----------------------------- --------- 9.1/12.0 MB 505.4 kB/s eta 0:00:06\n",
      "     ----------------------------- --------- 9.1/12.0 MB 505.8 kB/s eta 0:00:06\n",
      "     ----------------------------- --------- 9.1/12.0 MB 505.3 kB/s eta 0:00:06\n",
      "     ----------------------------- --------- 9.1/12.0 MB 505.0 kB/s eta 0:00:06\n",
      "     ----------------------------- --------- 9.2/12.0 MB 505.5 kB/s eta 0:00:06\n",
      "     ----------------------------- --------- 9.2/12.0 MB 505.9 kB/s eta 0:00:06\n",
      "     ----------------------------- --------- 9.2/12.0 MB 505.9 kB/s eta 0:00:06\n",
      "     ----------------------------- --------- 9.2/12.0 MB 505.9 kB/s eta 0:00:06\n",
      "     ----------------------------- --------- 9.2/12.0 MB 503.2 kB/s eta 0:00:06\n",
      "     ----------------------------- --------- 9.2/12.0 MB 503.2 kB/s eta 0:00:06\n",
      "     ------------------------------ -------- 9.2/12.0 MB 502.7 kB/s eta 0:00:06\n",
      "     ------------------------------ -------- 9.3/12.0 MB 502.2 kB/s eta 0:00:06\n",
      "     ------------------------------ -------- 9.3/12.0 MB 502.2 kB/s eta 0:00:06\n",
      "     ------------------------------ -------- 9.3/12.0 MB 500.9 kB/s eta 0:00:06\n",
      "     ------------------------------ -------- 9.3/12.0 MB 500.9 kB/s eta 0:00:06\n",
      "     ------------------------------ -------- 9.3/12.0 MB 500.9 kB/s eta 0:00:06\n",
      "     ------------------------------ -------- 9.3/12.0 MB 500.9 kB/s eta 0:00:06\n",
      "     ------------------------------ -------- 9.3/12.0 MB 497.1 kB/s eta 0:00:06\n",
      "     ------------------------------ -------- 9.4/12.0 MB 497.8 kB/s eta 0:00:06\n",
      "     ------------------------------ -------- 9.4/12.0 MB 496.3 kB/s eta 0:00:06\n",
      "     ------------------------------ -------- 9.4/12.0 MB 496.1 kB/s eta 0:00:06\n",
      "     ------------------------------ -------- 9.4/12.0 MB 496.4 kB/s eta 0:00:06\n",
      "     ------------------------------ -------- 9.4/12.0 MB 495.3 kB/s eta 0:00:06\n",
      "     ------------------------------ -------- 9.4/12.0 MB 495.1 kB/s eta 0:00:06\n",
      "     ------------------------------ -------- 9.5/12.0 MB 494.5 kB/s eta 0:00:06\n",
      "     ------------------------------ -------- 9.5/12.0 MB 494.3 kB/s eta 0:00:06\n",
      "     ------------------------------ -------- 9.5/12.0 MB 494.2 kB/s eta 0:00:06\n",
      "     ------------------------------ -------- 9.5/12.0 MB 492.7 kB/s eta 0:00:06\n",
      "     ------------------------------ -------- 9.5/12.0 MB 493.4 kB/s eta 0:00:06\n",
      "     ------------------------------ -------- 9.5/12.0 MB 491.9 kB/s eta 0:00:06\n",
      "     ------------------------------- ------- 9.6/12.0 MB 491.4 kB/s eta 0:00:06\n",
      "     ------------------------------- ------- 9.6/12.0 MB 491.4 kB/s eta 0:00:06\n",
      "     ------------------------------- ------- 9.6/12.0 MB 490.8 kB/s eta 0:00:05\n",
      "     ------------------------------- ------- 9.6/12.0 MB 489.9 kB/s eta 0:00:05\n",
      "     ------------------------------- ------- 9.6/12.0 MB 489.8 kB/s eta 0:00:05\n",
      "     ------------------------------- ------- 9.6/12.0 MB 489.8 kB/s eta 0:00:05\n",
      "     ------------------------------- ------- 9.6/12.0 MB 488.8 kB/s eta 0:00:05\n",
      "     ------------------------------- ------- 9.7/12.0 MB 488.0 kB/s eta 0:00:05\n",
      "     ------------------------------- ------- 9.7/12.0 MB 487.9 kB/s eta 0:00:05\n",
      "     ------------------------------- ------- 9.7/12.0 MB 487.8 kB/s eta 0:00:05\n",
      "     ------------------------------- ------- 9.7/12.0 MB 487.2 kB/s eta 0:00:05\n",
      "     ------------------------------- ------- 9.7/12.0 MB 486.6 kB/s eta 0:00:05\n",
      "     ------------------------------- ------- 9.7/12.0 MB 486.4 kB/s eta 0:00:05\n",
      "     ------------------------------- ------- 9.8/12.0 MB 486.7 kB/s eta 0:00:05\n",
      "     ------------------------------- ------- 9.8/12.0 MB 486.3 kB/s eta 0:00:05\n",
      "     ------------------------------- ------- 9.8/12.0 MB 486.6 kB/s eta 0:00:05\n",
      "     ------------------------------- ------- 9.8/12.0 MB 486.4 kB/s eta 0:00:05\n",
      "     ------------------------------- ------- 9.9/12.0 MB 486.3 kB/s eta 0:00:05\n",
      "     -------------------------------- ------ 9.9/12.0 MB 486.3 kB/s eta 0:00:05\n",
      "     -------------------------------- ------ 9.9/12.0 MB 486.2 kB/s eta 0:00:05\n",
      "     -------------------------------- ------ 9.9/12.0 MB 486.6 kB/s eta 0:00:05\n",
      "     ------------------------------- ------ 10.0/12.0 MB 486.3 kB/s eta 0:00:05\n",
      "     ------------------------------- ------ 10.0/12.0 MB 486.5 kB/s eta 0:00:05\n",
      "     ------------------------------- ------ 10.0/12.0 MB 486.9 kB/s eta 0:00:05\n",
      "     ------------------------------- ------ 10.0/12.0 MB 486.6 kB/s eta 0:00:05\n",
      "     ------------------------------- ------ 10.1/12.0 MB 487.2 kB/s eta 0:00:05\n",
      "     ------------------------------- ------ 10.1/12.0 MB 487.3 kB/s eta 0:00:04\n",
      "     -------------------------------- ----- 10.1/12.0 MB 487.7 kB/s eta 0:00:04\n",
      "     -------------------------------- ----- 10.2/12.0 MB 488.1 kB/s eta 0:00:04\n",
      "     -------------------------------- ----- 10.2/12.0 MB 488.9 kB/s eta 0:00:04\n",
      "     -------------------------------- ----- 10.2/12.0 MB 488.9 kB/s eta 0:00:04\n",
      "     -------------------------------- ----- 10.3/12.0 MB 488.9 kB/s eta 0:00:04\n",
      "     -------------------------------- ----- 10.3/12.0 MB 488.2 kB/s eta 0:00:04\n",
      "     -------------------------------- ----- 10.3/12.0 MB 487.5 kB/s eta 0:00:04\n",
      "     -------------------------------- ----- 10.4/12.0 MB 486.8 kB/s eta 0:00:04\n",
      "     -------------------------------- ----- 10.4/12.0 MB 486.0 kB/s eta 0:00:04\n",
      "     --------------------------------- ---- 10.4/12.0 MB 485.0 kB/s eta 0:00:04\n",
      "     --------------------------------- ---- 10.5/12.0 MB 484.6 kB/s eta 0:00:04\n",
      "     --------------------------------- ---- 10.5/12.0 MB 483.2 kB/s eta 0:00:04\n",
      "     --------------------------------- ---- 10.5/12.0 MB 483.9 kB/s eta 0:00:04\n",
      "     --------------------------------- ---- 10.6/12.0 MB 482.1 kB/s eta 0:00:04\n",
      "     --------------------------------- ---- 10.6/12.0 MB 481.4 kB/s eta 0:00:03\n",
      "     --------------------------------- ---- 10.6/12.0 MB 480.0 kB/s eta 0:00:03\n",
      "     --------------------------------- ---- 10.6/12.0 MB 479.3 kB/s eta 0:00:03\n",
      "     --------------------------------- ---- 10.7/12.0 MB 480.0 kB/s eta 0:00:03\n",
      "     --------------------------------- ---- 10.7/12.0 MB 478.9 kB/s eta 0:00:03\n",
      "     --------------------------------- ---- 10.7/12.0 MB 478.2 kB/s eta 0:00:03\n",
      "     --------------------------------- ---- 10.8/12.0 MB 477.2 kB/s eta 0:00:03\n",
      "     --------------------------------- ---- 10.8/12.0 MB 477.2 kB/s eta 0:00:03\n",
      "     ---------------------------------- --- 10.8/12.0 MB 476.1 kB/s eta 0:00:03\n",
      "     ---------------------------------- --- 10.8/12.0 MB 475.1 kB/s eta 0:00:03\n",
      "     ---------------------------------- --- 10.8/12.0 MB 474.4 kB/s eta 0:00:03\n",
      "     ---------------------------------- --- 10.9/12.0 MB 473.4 kB/s eta 0:00:03\n",
      "     ---------------------------------- --- 10.9/12.0 MB 472.7 kB/s eta 0:00:03\n",
      "     ---------------------------------- --- 10.9/12.0 MB 472.0 kB/s eta 0:00:03\n",
      "     ---------------------------------- --- 11.0/12.0 MB 471.7 kB/s eta 0:00:03\n",
      "     ---------------------------------- --- 11.0/12.0 MB 471.0 kB/s eta 0:00:03\n",
      "     ---------------------------------- --- 11.0/12.0 MB 470.3 kB/s eta 0:00:03\n",
      "     ---------------------------------- --- 11.1/12.0 MB 469.0 kB/s eta 0:00:03\n",
      "     ----------------------------------- -- 11.1/12.0 MB 468.0 kB/s eta 0:00:02\n",
      "     ----------------------------------- -- 11.1/12.0 MB 467.3 kB/s eta 0:00:02\n",
      "     ----------------------------------- -- 11.2/12.0 MB 466.0 kB/s eta 0:00:02\n",
      "     ----------------------------------- -- 11.2/12.0 MB 465.3 kB/s eta 0:00:02\n",
      "     ----------------------------------- -- 11.2/12.0 MB 464.7 kB/s eta 0:00:02\n",
      "     ----------------------------------- -- 11.3/12.0 MB 464.7 kB/s eta 0:00:02\n",
      "     ----------------------------------- -- 11.3/12.0 MB 464.0 kB/s eta 0:00:02\n",
      "     ----------------------------------- -- 11.3/12.0 MB 462.7 kB/s eta 0:00:02\n",
      "     ------------------------------------ - 11.4/12.0 MB 462.4 kB/s eta 0:00:02\n",
      "     ------------------------------------ - 11.4/12.0 MB 462.4 kB/s eta 0:00:02\n",
      "     ------------------------------------ - 11.5/12.0 MB 461.1 kB/s eta 0:00:02\n",
      "     ------------------------------------ - 11.5/12.0 MB 460.1 kB/s eta 0:00:02\n",
      "     ------------------------------------ - 11.5/12.0 MB 460.4 kB/s eta 0:00:02\n",
      "     ------------------------------------ - 11.6/12.0 MB 459.4 kB/s eta 0:00:01\n",
      "     ------------------------------------ - 11.6/12.0 MB 458.2 kB/s eta 0:00:01\n",
      "     ------------------------------------ - 11.6/12.0 MB 457.8 kB/s eta 0:00:01\n",
      "     ------------------------------------ - 11.7/12.0 MB 456.2 kB/s eta 0:00:01\n",
      "     ------------------------------------ - 11.7/12.0 MB 455.3 kB/s eta 0:00:01\n",
      "     ------------------------------------ - 11.7/12.0 MB 454.7 kB/s eta 0:00:01\n",
      "     -------------------------------------  11.7/12.0 MB 454.0 kB/s eta 0:00:01\n",
      "     -------------------------------------  11.7/12.0 MB 453.1 kB/s eta 0:00:01\n",
      "     -------------------------------------  11.8/12.0 MB 452.5 kB/s eta 0:00:01\n",
      "     -------------------------------------  11.8/12.0 MB 451.5 kB/s eta 0:00:01\n",
      "     -------------------------------------  11.8/12.0 MB 450.9 kB/s eta 0:00:01\n",
      "     -------------------------------------  11.8/12.0 MB 450.6 kB/s eta 0:00:01\n",
      "     -------------------------------------  11.9/12.0 MB 449.0 kB/s eta 0:00:01\n",
      "     -------------------------------------  11.9/12.0 MB 448.4 kB/s eta 0:00:01\n",
      "     -------------------------------------  11.9/12.0 MB 447.8 kB/s eta 0:00:01\n",
      "     -------------------------------------  11.9/12.0 MB 447.5 kB/s eta 0:00:01\n",
      "     -------------------------------------  12.0/12.0 MB 447.5 kB/s eta 0:00:01\n",
      "     -------------------------------------  12.0/12.0 MB 446.3 kB/s eta 0:00:01\n",
      "     -------------------------------------  12.0/12.0 MB 446.0 kB/s eta 0:00:01\n",
      "     -------------------------------------- 12.0/12.0 MB 444.7 kB/s eta 0:00:00\n",
      "Collecting distro\n",
      "  Downloading distro-1.8.0-py3-none-any.whl (20 kB)\n",
      "Requirement already satisfied: numpy in c:\\users\\dsash\\anaconda3\\lib\\site-packages (from tabula-py) (1.24.3)\n",
      "Requirement already satisfied: pandas>=0.25.3 in c:\\users\\dsash\\anaconda3\\lib\\site-packages (from tabula-py) (2.0.1)\n",
      "Requirement already satisfied: pytz>=2020.1 in c:\\users\\dsash\\anaconda3\\lib\\site-packages (from pandas>=0.25.3->tabula-py) (2022.7)\n",
      "Requirement already satisfied: tzdata>=2022.1 in c:\\users\\dsash\\anaconda3\\lib\\site-packages (from pandas>=0.25.3->tabula-py) (2023.3)\n",
      "Requirement already satisfied: python-dateutil>=2.8.2 in c:\\users\\dsash\\anaconda3\\lib\\site-packages (from pandas>=0.25.3->tabula-py) (2.8.2)\n",
      "Requirement already satisfied: six>=1.5 in c:\\users\\dsash\\anaconda3\\lib\\site-packages (from python-dateutil>=2.8.2->pandas>=0.25.3->tabula-py) (1.16.0)\n",
      "Installing collected packages: distro, tabula-py\n",
      "Successfully installed distro-1.8.0 tabula-py-2.7.0\n",
      "Note: you may need to restart the kernel to use updated packages.\n"
     ]
    }
   ],
   "source": [
    "!pip install tabula - py"
   ],
   "metadata": {
    "collapsed": false
   }
  },
  {
   "cell_type": "code",
   "execution_count": 3,
   "outputs": [
    {
     "name": "stdout",
     "output_type": "stream",
     "text": [
      "Collecting fpdf\n",
      "  Downloading fpdf-1.7.2.tar.gz (39 kB)\n",
      "  Preparing metadata (setup.py): started\n",
      "  Preparing metadata (setup.py): finished with status 'done'\n",
      "Building wheels for collected packages: fpdf\n",
      "  Building wheel for fpdf (setup.py): started\n",
      "  Building wheel for fpdf (setup.py): finished with status 'done'\n",
      "  Created wheel for fpdf: filename=fpdf-1.7.2-py2.py3-none-any.whl size=40713 sha256=3d030d429e9eb0115ed48106e615e2162d4ee5f59fce765845635860f679b694\n",
      "  Stored in directory: c:\\users\\dsash\\appdata\\local\\pip\\cache\\wheels\\44\\35\\8b\\86ce00cec7e4d13c5f189680ae0fa82f919bedc066c2cddae9\n",
      "Successfully built fpdf\n",
      "Installing collected packages: fpdf\n",
      "Successfully installed fpdf-1.7.2\n",
      "Note: you may need to restart the kernel to use updated packages.\n"
     ]
    }
   ],
   "source": [
    "!pip install fpdf"
   ],
   "metadata": {
    "collapsed": false
   }
  },
  {
   "cell_type": "code",
   "execution_count": 18,
   "outputs": [],
   "source": [
    "import tabula\n",
    "import pandas as pd\n",
    "import random\n",
    "import string\n",
    "from fpdf import FPDF\n",
    "\n",
    "# Функция для генерации случайного текста или цифр\n",
    "def generate_random_data(length):\n",
    "    data_type = random.choice([\"letters\", \"digits\"])\n",
    "    if data_type == \"digits\":\n",
    "        return ''.join(random.choice(string.digits) for _ in range(length))\n",
    "    else:\n",
    "        return ''.join(random.choice(string.ascii_letters) for _ in range(length))\n",
    "\n",
    "# Функция для генерации случайной таблицы\n",
    "def generate_random_table(num_rows, num_cols):\n",
    "    table_data = []\n",
    "    for _ in range(num_rows):\n",
    "        row = [generate_random_data(random.randint(1, 5)) for _ in range(num_cols)]\n",
    "        table_data.append(row)\n",
    "    return table_data\n",
    "\n",
    "# Функция для создания датасета\n",
    "def generate_dataset(num_samples, rows, cols):\n",
    "    # Создание директории \"dataset\", если она не существует\n",
    "    directory = \"dataset\"\n",
    "    if os.path.exists(directory):\n",
    "        for file_name in os.listdir(directory):\n",
    "            file_path = os.path.join(directory, file_name)\n",
    "            os.remove(file_path)\n",
    "    else:\n",
    "        os.makedirs(directory)\n",
    "\n",
    "    for i in range(num_samples):\n",
    "        # Генерация случайной таблицы\n",
    "        table_data = generate_random_table(rows, cols)\n",
    "        df = pd.DataFrame(table_data)\n",
    "\n",
    "        # Создание PDF файла с таблицей\n",
    "        pdf = FPDF()\n",
    "        pdf.add_page()\n",
    "        pdf.set_font(\"Arial\", size=12)\n",
    "\n",
    "        for row in table_data:\n",
    "            for item in row:\n",
    "                pdf.cell(30, 10, str(item), border=1)\n",
    "            pdf.ln()\n",
    "\n",
    "        pdf_file = f\"dataset/sample_table_{i}.pdf\"\n",
    "        pdf.output(pdf_file)\n",
    "\n",
    "        # Создание CSV файла с меткой\n",
    "        csv_file = f\"dataset/sample_table\"\n",
    "        df.to_csv(f\"{csv_file}_{i}.csv\", index=False)\n",
    "\n",
    "# Параметры генерации датасета\n",
    "num_samples = 10  # Количество образцов\n",
    "rows = 5  # Количество строк в таблице\n",
    "cols = 5  # Количество столбцов в таблице\n",
    "\n",
    "# Создание датасета\n",
    "generate_dataset(num_samples, rows, cols)"
   ],
   "metadata": {
    "collapsed": false
   }
  },
  {
   "cell_type": "markdown",
   "source": [
    "Добавить в датасете таблицы разных размеров, шумы и искажения перспективы на изображениях"
   ],
   "metadata": {
    "collapsed": false
   }
  },
  {
   "cell_type": "code",
   "execution_count": null,
   "outputs": [],
   "source": [],
   "metadata": {
    "collapsed": false
   }
  }
 ],
 "metadata": {
  "kernelspec": {
   "display_name": "Python 3",
   "language": "python",
   "name": "python3"
  },
  "language_info": {
   "codemirror_mode": {
    "name": "ipython",
    "version": 2
   },
   "file_extension": ".py",
   "mimetype": "text/x-python",
   "name": "python",
   "nbconvert_exporter": "python",
   "pygments_lexer": "ipython2",
   "version": "2.7.6"
  }
 },
 "nbformat": 4,
 "nbformat_minor": 0
}
